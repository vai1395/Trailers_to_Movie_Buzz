{
 "cells": [
  {
   "cell_type": "code",
   "execution_count": 24,
   "metadata": {},
   "outputs": [
    {
     "name": "stderr",
     "output_type": "stream",
     "text": [
      "[nltk_data] Downloading package stopwords to\n",
      "[nltk_data]     /Users/drknt_rises/nltk_data...\n",
      "[nltk_data]   Package stopwords is already up-to-date!\n",
      "[nltk_data] Downloading package vader_lexicon to\n",
      "[nltk_data]     /Users/drknt_rises/nltk_data...\n",
      "[nltk_data]   Package vader_lexicon is already up-to-date!\n",
      "[nltk_data] Downloading package punkt to\n",
      "[nltk_data]     /Users/drknt_rises/nltk_data...\n",
      "[nltk_data]   Package punkt is already up-to-date!\n"
     ]
    },
    {
     "data": {
      "text/plain": [
       "True"
      ]
     },
     "execution_count": 24,
     "metadata": {},
     "output_type": "execute_result"
    }
   ],
   "source": [
    "import os\n",
    "import pandas as pd\n",
    "from tqdm import tqdm\n",
    "import datetime\n",
    "import numpy as np\n",
    "\n",
    "import nltk\n",
    "from nltk.corpus import stopwords\n",
    "from nltk.probability import FreqDist\n",
    "from nltk.tokenize import sent_tokenize, RegexpTokenizer\n",
    "from nltk.sentiment.vader import SentimentIntensityAnalyzer\n",
    "import string\n",
    "\n",
    "import plotly.express as px\n",
    "nltk.download('stopwords')\n",
    "nltk.download('vader_lexicon')\n",
    "nltk.download('punkt')"
   ]
  },
  {
   "cell_type": "code",
   "execution_count": 25,
   "metadata": {},
   "outputs": [
    {
     "data": {
      "text/plain": [
       "'/Users/drknt_rises/Desktop/Personal/Git Repos/movie-pre-buzz-to-box-office'"
      ]
     },
     "execution_count": 25,
     "metadata": {},
     "output_type": "execute_result"
    }
   ],
   "source": [
    "current_path = os.getcwd()\n",
    "current_path = current_path.split('movie-pre-buzz-to-box-office')\n",
    "path = current_path[0] + 'movie-pre-buzz-to-box-office'\n",
    "path"
   ]
  },
  {
   "cell_type": "code",
   "execution_count": 26,
   "metadata": {},
   "outputs": [],
   "source": [
    "video_description = pd.read_csv(path+'/Data/Video Description/videoDescription.csv').drop_duplicates()\n",
    "video_description['publishedAt'] = pd.to_datetime(video_description['publishedAt'])\n",
    "\n",
    "iden_tpoics = pd.read_csv(path+'/Data/Topic Modelling/iden_topics.csv')\n",
    "topic_classification = pd.read_csv(path+'/Data/Topic Modelling/topic_classification.csv')"
   ]
  },
  {
   "cell_type": "code",
   "execution_count": 27,
   "metadata": {},
   "outputs": [
    {
     "data": {
      "text/html": [
       "<div>\n",
       "<style scoped>\n",
       "    .dataframe tbody tr th:only-of-type {\n",
       "        vertical-align: middle;\n",
       "    }\n",
       "\n",
       "    .dataframe tbody tr th {\n",
       "        vertical-align: top;\n",
       "    }\n",
       "\n",
       "    .dataframe thead th {\n",
       "        text-align: right;\n",
       "    }\n",
       "</style>\n",
       "<table border=\"1\" class=\"dataframe\">\n",
       "  <thead>\n",
       "    <tr style=\"text-align: right;\">\n",
       "      <th></th>\n",
       "      <th>videoId</th>\n",
       "      <th>code</th>\n",
       "      <th>error_reason</th>\n",
       "      <th>id</th>\n",
       "      <th>replies</th>\n",
       "      <th>comment</th>\n",
       "      <th>postedAt</th>\n",
       "    </tr>\n",
       "  </thead>\n",
       "  <tbody>\n",
       "    <tr>\n",
       "      <th>1</th>\n",
       "      <td>j5BnpaiMvO4</td>\n",
       "      <td>200</td>\n",
       "      <td>NaN</td>\n",
       "      <td>UgxxDh7BZywVmYQ-cKl4AaABAg</td>\n",
       "      <td>0.0</td>\n",
       "      <td>One of the best movies I’ve seen everr!!! Cami...</td>\n",
       "      <td>2022-07-03 08:53:31+00:00</td>\n",
       "    </tr>\n",
       "    <tr>\n",
       "      <th>2</th>\n",
       "      <td>j5BnpaiMvO4</td>\n",
       "      <td>200</td>\n",
       "      <td>NaN</td>\n",
       "      <td>UgzGKGwt-KVW_IRQcix4AaABAg</td>\n",
       "      <td>0.0</td>\n",
       "      <td>Looks intense. Thanks for all the comments… gu...</td>\n",
       "      <td>2022-06-20 22:57:22+00:00</td>\n",
       "    </tr>\n",
       "    <tr>\n",
       "      <th>3</th>\n",
       "      <td>j5BnpaiMvO4</td>\n",
       "      <td>200</td>\n",
       "      <td>NaN</td>\n",
       "      <td>Ugzdy66Y0udge3yasId4AaABAg</td>\n",
       "      <td>0.0</td>\n",
       "      <td>Song? Plssssss</td>\n",
       "      <td>2020-08-29 23:37:17+00:00</td>\n",
       "    </tr>\n",
       "    <tr>\n",
       "      <th>4</th>\n",
       "      <td>j5BnpaiMvO4</td>\n",
       "      <td>200</td>\n",
       "      <td>NaN</td>\n",
       "      <td>Ugwm3Mlcm5H2lesS0fl4AaABAg</td>\n",
       "      <td>0.0</td>\n",
       "      <td>You'll just watch a father being a burden to h...</td>\n",
       "      <td>2020-07-14 04:39:10+00:00</td>\n",
       "    </tr>\n",
       "    <tr>\n",
       "      <th>5</th>\n",
       "      <td>j5BnpaiMvO4</td>\n",
       "      <td>200</td>\n",
       "      <td>NaN</td>\n",
       "      <td>UgwZpjmZjZXpQ6Blf494AaABAg</td>\n",
       "      <td>2.0</td>\n",
       "      <td>Wheres the bear? Why is he a bear 🐻 🐻‍❄? He is...</td>\n",
       "      <td>2020-07-13 14:41:10+00:00</td>\n",
       "    </tr>\n",
       "    <tr>\n",
       "      <th>...</th>\n",
       "      <td>...</td>\n",
       "      <td>...</td>\n",
       "      <td>...</td>\n",
       "      <td>...</td>\n",
       "      <td>...</td>\n",
       "      <td>...</td>\n",
       "      <td>...</td>\n",
       "    </tr>\n",
       "    <tr>\n",
       "      <th>369182</th>\n",
       "      <td>fm_zzAMuvyQ</td>\n",
       "      <td>200</td>\n",
       "      <td>NaN</td>\n",
       "      <td>UgyvGQpXK1oRKW0BvZZ4AaABAg</td>\n",
       "      <td>3.0</td>\n",
       "      <td>where to watch this movie...please tell me Buy...</td>\n",
       "      <td>2019-11-13 20:25:03+00:00</td>\n",
       "    </tr>\n",
       "    <tr>\n",
       "      <th>369183</th>\n",
       "      <td>fm_zzAMuvyQ</td>\n",
       "      <td>200</td>\n",
       "      <td>NaN</td>\n",
       "      <td>UgyMoXQjz4fYRzbe31x4AaABAg</td>\n",
       "      <td>1.0</td>\n",
       "      <td>gaaaaaaaaaaaaaay! wefa3rf wa</td>\n",
       "      <td>2018-05-07 03:40:04+00:00</td>\n",
       "    </tr>\n",
       "    <tr>\n",
       "      <th>369184</th>\n",
       "      <td>fm_zzAMuvyQ</td>\n",
       "      <td>200</td>\n",
       "      <td>NaN</td>\n",
       "      <td>Ugzsz2CNGeKIO1T3OCF4AaABAg</td>\n",
       "      <td>3.0</td>\n",
       "      <td>Took my husband to this movie. Great faith and...</td>\n",
       "      <td>2018-03-29 19:57:52+00:00</td>\n",
       "    </tr>\n",
       "    <tr>\n",
       "      <th>369185</th>\n",
       "      <td>fm_zzAMuvyQ</td>\n",
       "      <td>200</td>\n",
       "      <td>NaN</td>\n",
       "      <td>Ugw1RVGlpw2O_wM1Zo14AaABAg</td>\n",
       "      <td>1.0</td>\n",
       "      <td>Must see...Can't miss...I can only imagine! Da...</td>\n",
       "      <td>2018-03-16 02:23:20+00:00</td>\n",
       "    </tr>\n",
       "    <tr>\n",
       "      <th>369186</th>\n",
       "      <td>fm_zzAMuvyQ</td>\n",
       "      <td>200</td>\n",
       "      <td>NaN</td>\n",
       "      <td>UgwIdY7OIc4ix_-LU-V4AaABAg</td>\n",
       "      <td>0.0</td>\n",
       "      <td>my baby back i love it</td>\n",
       "      <td>2018-01-25 00:35:39+00:00</td>\n",
       "    </tr>\n",
       "  </tbody>\n",
       "</table>\n",
       "<p>369167 rows × 7 columns</p>\n",
       "</div>"
      ],
      "text/plain": [
       "            videoId  code error_reason                          id  replies  \\\n",
       "1       j5BnpaiMvO4   200          NaN  UgxxDh7BZywVmYQ-cKl4AaABAg      0.0   \n",
       "2       j5BnpaiMvO4   200          NaN  UgzGKGwt-KVW_IRQcix4AaABAg      0.0   \n",
       "3       j5BnpaiMvO4   200          NaN  Ugzdy66Y0udge3yasId4AaABAg      0.0   \n",
       "4       j5BnpaiMvO4   200          NaN  Ugwm3Mlcm5H2lesS0fl4AaABAg      0.0   \n",
       "5       j5BnpaiMvO4   200          NaN  UgwZpjmZjZXpQ6Blf494AaABAg      2.0   \n",
       "...             ...   ...          ...                         ...      ...   \n",
       "369182  fm_zzAMuvyQ   200          NaN  UgyvGQpXK1oRKW0BvZZ4AaABAg      3.0   \n",
       "369183  fm_zzAMuvyQ   200          NaN  UgyMoXQjz4fYRzbe31x4AaABAg      1.0   \n",
       "369184  fm_zzAMuvyQ   200          NaN  Ugzsz2CNGeKIO1T3OCF4AaABAg      3.0   \n",
       "369185  fm_zzAMuvyQ   200          NaN  Ugw1RVGlpw2O_wM1Zo14AaABAg      1.0   \n",
       "369186  fm_zzAMuvyQ   200          NaN  UgwIdY7OIc4ix_-LU-V4AaABAg      0.0   \n",
       "\n",
       "                                                  comment  \\\n",
       "1       One of the best movies I’ve seen everr!!! Cami...   \n",
       "2       Looks intense. Thanks for all the comments… gu...   \n",
       "3                                          Song? Plssssss   \n",
       "4       You'll just watch a father being a burden to h...   \n",
       "5       Wheres the bear? Why is he a bear 🐻 🐻‍❄? He is...   \n",
       "...                                                   ...   \n",
       "369182  where to watch this movie...please tell me Buy...   \n",
       "369183                       gaaaaaaaaaaaaaay! wefa3rf wa   \n",
       "369184  Took my husband to this movie. Great faith and...   \n",
       "369185  Must see...Can't miss...I can only imagine! Da...   \n",
       "369186                             my baby back i love it   \n",
       "\n",
       "                        postedAt  \n",
       "1      2022-07-03 08:53:31+00:00  \n",
       "2      2022-06-20 22:57:22+00:00  \n",
       "3      2020-08-29 23:37:17+00:00  \n",
       "4      2020-07-14 04:39:10+00:00  \n",
       "5      2020-07-13 14:41:10+00:00  \n",
       "...                          ...  \n",
       "369182 2019-11-13 20:25:03+00:00  \n",
       "369183 2018-05-07 03:40:04+00:00  \n",
       "369184 2018-03-29 19:57:52+00:00  \n",
       "369185 2018-03-16 02:23:20+00:00  \n",
       "369186 2018-01-25 00:35:39+00:00  \n",
       "\n",
       "[369167 rows x 7 columns]"
      ]
     },
     "execution_count": 27,
     "metadata": {},
     "output_type": "execute_result"
    }
   ],
   "source": [
    "comments = pd.read_csv(path+'/Data/Comments/Video Comments.csv', sep='|', lineterminator='\\n').drop_duplicates()\n",
    "comments['publishedAt'] = pd.to_datetime(comments['publishedAt'])\n",
    "comments = comments.loc[comments['code'] == 200]\n",
    "comments = comments.rename(columns={'publishedAt': 'postedAt'})\n",
    "comments"
   ]
  },
  {
   "cell_type": "code",
   "execution_count": 28,
   "metadata": {},
   "outputs": [
    {
     "data": {
      "text/html": [
       "<div>\n",
       "<style scoped>\n",
       "    .dataframe tbody tr th:only-of-type {\n",
       "        vertical-align: middle;\n",
       "    }\n",
       "\n",
       "    .dataframe tbody tr th {\n",
       "        vertical-align: top;\n",
       "    }\n",
       "\n",
       "    .dataframe thead th {\n",
       "        text-align: right;\n",
       "    }\n",
       "</style>\n",
       "<table border=\"1\" class=\"dataframe\">\n",
       "  <thead>\n",
       "    <tr style=\"text-align: right;\">\n",
       "      <th></th>\n",
       "      <th>videoId</th>\n",
       "      <th>code</th>\n",
       "      <th>error_reason</th>\n",
       "      <th>id</th>\n",
       "      <th>replies</th>\n",
       "      <th>comment</th>\n",
       "      <th>postedAt</th>\n",
       "      <th>publishedAt</th>\n",
       "      <th>cutoffdate</th>\n",
       "    </tr>\n",
       "  </thead>\n",
       "  <tbody>\n",
       "    <tr>\n",
       "      <th>17</th>\n",
       "      <td>j5BnpaiMvO4</td>\n",
       "      <td>200</td>\n",
       "      <td>NaN</td>\n",
       "      <td>UgyC1N24gUVO95q8SW54AaABAg</td>\n",
       "      <td>3.0</td>\n",
       "      <td>Looks boring :( and even the lead actress look...</td>\n",
       "      <td>2019-10-19 18:14:05+00:00</td>\n",
       "      <td>2019-10-09 09:22:08+00:00</td>\n",
       "      <td>2019-10-30 09:22:08+00:00</td>\n",
       "    </tr>\n",
       "    <tr>\n",
       "      <th>18</th>\n",
       "      <td>j5BnpaiMvO4</td>\n",
       "      <td>200</td>\n",
       "      <td>NaN</td>\n",
       "      <td>UgyWcqppkxY1mLGyqNZ4AaABAg</td>\n",
       "      <td>0.0</td>\n",
       "      <td>Things can go so bad🙈</td>\n",
       "      <td>2019-10-10 10:56:20+00:00</td>\n",
       "      <td>2019-10-09 09:22:08+00:00</td>\n",
       "      <td>2019-10-30 09:22:08+00:00</td>\n",
       "    </tr>\n",
       "    <tr>\n",
       "      <th>19</th>\n",
       "      <td>j5BnpaiMvO4</td>\n",
       "      <td>200</td>\n",
       "      <td>NaN</td>\n",
       "      <td>UgzXS0zcfdGWiYBbulx4AaABAg</td>\n",
       "      <td>0.0</td>\n",
       "      <td>Masha and the bear spin off???</td>\n",
       "      <td>2019-10-09 14:50:02+00:00</td>\n",
       "      <td>2019-10-09 09:22:08+00:00</td>\n",
       "      <td>2019-10-30 09:22:08+00:00</td>\n",
       "    </tr>\n",
       "    <tr>\n",
       "      <th>20</th>\n",
       "      <td>j5BnpaiMvO4</td>\n",
       "      <td>200</td>\n",
       "      <td>NaN</td>\n",
       "      <td>UgwTZh0s-v6ta3TbAfx4AaABAg</td>\n",
       "      <td>10.0</td>\n",
       "      <td>Sometime I think what kind of people watch the...</td>\n",
       "      <td>2019-10-09 09:56:27+00:00</td>\n",
       "      <td>2019-10-09 09:22:08+00:00</td>\n",
       "      <td>2019-10-30 09:22:08+00:00</td>\n",
       "    </tr>\n",
       "    <tr>\n",
       "      <th>21</th>\n",
       "      <td>j5BnpaiMvO4</td>\n",
       "      <td>200</td>\n",
       "      <td>NaN</td>\n",
       "      <td>Ugw0TALvQXFY_iHYFjJ4AaABAg</td>\n",
       "      <td>2.0</td>\n",
       "      <td>boring another melodrama nonsense and worst of...</td>\n",
       "      <td>2019-10-09 09:54:28+00:00</td>\n",
       "      <td>2019-10-09 09:22:08+00:00</td>\n",
       "      <td>2019-10-30 09:22:08+00:00</td>\n",
       "    </tr>\n",
       "    <tr>\n",
       "      <th>...</th>\n",
       "      <td>...</td>\n",
       "      <td>...</td>\n",
       "      <td>...</td>\n",
       "      <td>...</td>\n",
       "      <td>...</td>\n",
       "      <td>...</td>\n",
       "      <td>...</td>\n",
       "      <td>...</td>\n",
       "      <td>...</td>\n",
       "    </tr>\n",
       "    <tr>\n",
       "      <th>369118</th>\n",
       "      <td>nrXlY6gzTTM</td>\n",
       "      <td>200</td>\n",
       "      <td>NaN</td>\n",
       "      <td>UgxEeisvPIaQ0bJuYnx4AaABAg</td>\n",
       "      <td>0.0</td>\n",
       "      <td>Divergent music</td>\n",
       "      <td>2017-11-08 05:36:54+00:00</td>\n",
       "      <td>2017-11-08 05:31:00+00:00</td>\n",
       "      <td>2017-11-29 05:31:00+00:00</td>\n",
       "    </tr>\n",
       "    <tr>\n",
       "      <th>369119</th>\n",
       "      <td>nrXlY6gzTTM</td>\n",
       "      <td>200</td>\n",
       "      <td>NaN</td>\n",
       "      <td>Ugyu9iaLbJv51WaQWvt4AaABAg</td>\n",
       "      <td>1.0</td>\n",
       "      <td>Xmen and Fantastic Four IN MCU PLEASE FOX Get ...</td>\n",
       "      <td>2017-11-08 05:35:48+00:00</td>\n",
       "      <td>2017-11-08 05:31:00+00:00</td>\n",
       "      <td>2017-11-29 05:31:00+00:00</td>\n",
       "    </tr>\n",
       "    <tr>\n",
       "      <th>369120</th>\n",
       "      <td>nrXlY6gzTTM</td>\n",
       "      <td>200</td>\n",
       "      <td>NaN</td>\n",
       "      <td>UgzOoFffvhW2xSdfHJZ4AaABAg</td>\n",
       "      <td>1.0</td>\n",
       "      <td>TOM AND MERYL Facu Auci AND STEVEN</td>\n",
       "      <td>2017-11-08 05:31:47+00:00</td>\n",
       "      <td>2017-11-08 05:31:00+00:00</td>\n",
       "      <td>2017-11-29 05:31:00+00:00</td>\n",
       "    </tr>\n",
       "    <tr>\n",
       "      <th>369121</th>\n",
       "      <td>nrXlY6gzTTM</td>\n",
       "      <td>200</td>\n",
       "      <td>NaN</td>\n",
       "      <td>Ugw63wCEwfFTPiu8Pwp4AaABAg</td>\n",
       "      <td>0.0</td>\n",
       "      <td>Spielberg FTW!!!</td>\n",
       "      <td>2017-11-08 05:31:42+00:00</td>\n",
       "      <td>2017-11-08 05:31:00+00:00</td>\n",
       "      <td>2017-11-29 05:31:00+00:00</td>\n",
       "    </tr>\n",
       "    <tr>\n",
       "      <th>369166</th>\n",
       "      <td>fm_zzAMuvyQ</td>\n",
       "      <td>200</td>\n",
       "      <td>NaN</td>\n",
       "      <td>UgwIdY7OIc4ix_-LU-V4AaABAg</td>\n",
       "      <td>0.0</td>\n",
       "      <td>my baby back i love it</td>\n",
       "      <td>2018-01-25 00:35:39+00:00</td>\n",
       "      <td>2018-01-10 22:15:46+00:00</td>\n",
       "      <td>2018-01-31 22:15:46+00:00</td>\n",
       "    </tr>\n",
       "  </tbody>\n",
       "</table>\n",
       "<p>187149 rows × 9 columns</p>\n",
       "</div>"
      ],
      "text/plain": [
       "            videoId  code error_reason                          id  replies  \\\n",
       "17      j5BnpaiMvO4   200          NaN  UgyC1N24gUVO95q8SW54AaABAg      3.0   \n",
       "18      j5BnpaiMvO4   200          NaN  UgyWcqppkxY1mLGyqNZ4AaABAg      0.0   \n",
       "19      j5BnpaiMvO4   200          NaN  UgzXS0zcfdGWiYBbulx4AaABAg      0.0   \n",
       "20      j5BnpaiMvO4   200          NaN  UgwTZh0s-v6ta3TbAfx4AaABAg     10.0   \n",
       "21      j5BnpaiMvO4   200          NaN  Ugw0TALvQXFY_iHYFjJ4AaABAg      2.0   \n",
       "...             ...   ...          ...                         ...      ...   \n",
       "369118  nrXlY6gzTTM   200          NaN  UgxEeisvPIaQ0bJuYnx4AaABAg      0.0   \n",
       "369119  nrXlY6gzTTM   200          NaN  Ugyu9iaLbJv51WaQWvt4AaABAg      1.0   \n",
       "369120  nrXlY6gzTTM   200          NaN  UgzOoFffvhW2xSdfHJZ4AaABAg      1.0   \n",
       "369121  nrXlY6gzTTM   200          NaN  Ugw63wCEwfFTPiu8Pwp4AaABAg      0.0   \n",
       "369166  fm_zzAMuvyQ   200          NaN  UgwIdY7OIc4ix_-LU-V4AaABAg      0.0   \n",
       "\n",
       "                                                  comment  \\\n",
       "17      Looks boring :( and even the lead actress look...   \n",
       "18                                  Things can go so bad🙈   \n",
       "19                         Masha and the bear spin off???   \n",
       "20      Sometime I think what kind of people watch the...   \n",
       "21      boring another melodrama nonsense and worst of...   \n",
       "...                                                   ...   \n",
       "369118                                    Divergent music   \n",
       "369119  Xmen and Fantastic Four IN MCU PLEASE FOX Get ...   \n",
       "369120                 TOM AND MERYL Facu Auci AND STEVEN   \n",
       "369121                                   Spielberg FTW!!!   \n",
       "369166                             my baby back i love it   \n",
       "\n",
       "                        postedAt               publishedAt  \\\n",
       "17     2019-10-19 18:14:05+00:00 2019-10-09 09:22:08+00:00   \n",
       "18     2019-10-10 10:56:20+00:00 2019-10-09 09:22:08+00:00   \n",
       "19     2019-10-09 14:50:02+00:00 2019-10-09 09:22:08+00:00   \n",
       "20     2019-10-09 09:56:27+00:00 2019-10-09 09:22:08+00:00   \n",
       "21     2019-10-09 09:54:28+00:00 2019-10-09 09:22:08+00:00   \n",
       "...                          ...                       ...   \n",
       "369118 2017-11-08 05:36:54+00:00 2017-11-08 05:31:00+00:00   \n",
       "369119 2017-11-08 05:35:48+00:00 2017-11-08 05:31:00+00:00   \n",
       "369120 2017-11-08 05:31:47+00:00 2017-11-08 05:31:00+00:00   \n",
       "369121 2017-11-08 05:31:42+00:00 2017-11-08 05:31:00+00:00   \n",
       "369166 2018-01-25 00:35:39+00:00 2018-01-10 22:15:46+00:00   \n",
       "\n",
       "                      cutoffdate  \n",
       "17     2019-10-30 09:22:08+00:00  \n",
       "18     2019-10-30 09:22:08+00:00  \n",
       "19     2019-10-30 09:22:08+00:00  \n",
       "20     2019-10-30 09:22:08+00:00  \n",
       "21     2019-10-30 09:22:08+00:00  \n",
       "...                          ...  \n",
       "369118 2017-11-29 05:31:00+00:00  \n",
       "369119 2017-11-29 05:31:00+00:00  \n",
       "369120 2017-11-29 05:31:00+00:00  \n",
       "369121 2017-11-29 05:31:00+00:00  \n",
       "369166 2018-01-31 22:15:46+00:00  \n",
       "\n",
       "[187149 rows x 9 columns]"
      ]
     },
     "execution_count": 28,
     "metadata": {},
     "output_type": "execute_result"
    }
   ],
   "source": [
    "video_description = video_description[['videoId', 'publishedAt']]\n",
    "comments = comments.merge(video_description, left_on='videoId', right_on='videoId', how='left')\n",
    "comments['cutoffdate'] = comments['publishedAt'] + datetime.timedelta(days=21)\n",
    "comments = comments.loc[comments['postedAt'] < comments['cutoffdate']]\n",
    "comments"
   ]
  },
  {
   "cell_type": "code",
   "execution_count": 29,
   "metadata": {},
   "outputs": [
    {
     "data": {
      "text/html": [
       "<div>\n",
       "<style scoped>\n",
       "    .dataframe tbody tr th:only-of-type {\n",
       "        vertical-align: middle;\n",
       "    }\n",
       "\n",
       "    .dataframe tbody tr th {\n",
       "        vertical-align: top;\n",
       "    }\n",
       "\n",
       "    .dataframe thead th {\n",
       "        text-align: right;\n",
       "    }\n",
       "</style>\n",
       "<table border=\"1\" class=\"dataframe\">\n",
       "  <thead>\n",
       "    <tr style=\"text-align: right;\">\n",
       "      <th></th>\n",
       "      <th>videoId</th>\n",
       "      <th>code</th>\n",
       "      <th>error_reason</th>\n",
       "      <th>id</th>\n",
       "      <th>replies</th>\n",
       "      <th>comment</th>\n",
       "      <th>postedAt</th>\n",
       "      <th>publishedAt</th>\n",
       "      <th>cutoffdate</th>\n",
       "    </tr>\n",
       "  </thead>\n",
       "  <tbody>\n",
       "    <tr>\n",
       "      <th>17</th>\n",
       "      <td>j5BnpaiMvO4</td>\n",
       "      <td>200</td>\n",
       "      <td>NaN</td>\n",
       "      <td>UgyC1N24gUVO95q8SW54AaABAg</td>\n",
       "      <td>3.0</td>\n",
       "      <td>looks boring    even lead actress looks bored ...</td>\n",
       "      <td>2019-10-19 18:14:05+00:00</td>\n",
       "      <td>2019-10-09 09:22:08+00:00</td>\n",
       "      <td>2019-10-30 09:22:08+00:00</td>\n",
       "    </tr>\n",
       "    <tr>\n",
       "      <th>18</th>\n",
       "      <td>j5BnpaiMvO4</td>\n",
       "      <td>200</td>\n",
       "      <td>NaN</td>\n",
       "      <td>UgyWcqppkxY1mLGyqNZ4AaABAg</td>\n",
       "      <td>0.0</td>\n",
       "      <td>things go bad🙈</td>\n",
       "      <td>2019-10-10 10:56:20+00:00</td>\n",
       "      <td>2019-10-09 09:22:08+00:00</td>\n",
       "      <td>2019-10-30 09:22:08+00:00</td>\n",
       "    </tr>\n",
       "    <tr>\n",
       "      <th>19</th>\n",
       "      <td>j5BnpaiMvO4</td>\n",
       "      <td>200</td>\n",
       "      <td>NaN</td>\n",
       "      <td>UgzXS0zcfdGWiYBbulx4AaABAg</td>\n",
       "      <td>0.0</td>\n",
       "      <td>masha bear spin off</td>\n",
       "      <td>2019-10-09 14:50:02+00:00</td>\n",
       "      <td>2019-10-09 09:22:08+00:00</td>\n",
       "      <td>2019-10-30 09:22:08+00:00</td>\n",
       "    </tr>\n",
       "    <tr>\n",
       "      <th>20</th>\n",
       "      <td>j5BnpaiMvO4</td>\n",
       "      <td>200</td>\n",
       "      <td>NaN</td>\n",
       "      <td>UgwTZh0s-v6ta3TbAfx4AaABAg</td>\n",
       "      <td>10.0</td>\n",
       "      <td>sometime think kind people watch type movie  b...</td>\n",
       "      <td>2019-10-09 09:56:27+00:00</td>\n",
       "      <td>2019-10-09 09:22:08+00:00</td>\n",
       "      <td>2019-10-30 09:22:08+00:00</td>\n",
       "    </tr>\n",
       "    <tr>\n",
       "      <th>21</th>\n",
       "      <td>j5BnpaiMvO4</td>\n",
       "      <td>200</td>\n",
       "      <td>NaN</td>\n",
       "      <td>Ugw0TALvQXFY_iHYFjJ4AaABAg</td>\n",
       "      <td>2.0</td>\n",
       "      <td>boring another melodrama nonsense worst bear l...</td>\n",
       "      <td>2019-10-09 09:54:28+00:00</td>\n",
       "      <td>2019-10-09 09:22:08+00:00</td>\n",
       "      <td>2019-10-30 09:22:08+00:00</td>\n",
       "    </tr>\n",
       "    <tr>\n",
       "      <th>...</th>\n",
       "      <td>...</td>\n",
       "      <td>...</td>\n",
       "      <td>...</td>\n",
       "      <td>...</td>\n",
       "      <td>...</td>\n",
       "      <td>...</td>\n",
       "      <td>...</td>\n",
       "      <td>...</td>\n",
       "      <td>...</td>\n",
       "    </tr>\n",
       "    <tr>\n",
       "      <th>369118</th>\n",
       "      <td>nrXlY6gzTTM</td>\n",
       "      <td>200</td>\n",
       "      <td>NaN</td>\n",
       "      <td>UgxEeisvPIaQ0bJuYnx4AaABAg</td>\n",
       "      <td>0.0</td>\n",
       "      <td>divergent music</td>\n",
       "      <td>2017-11-08 05:36:54+00:00</td>\n",
       "      <td>2017-11-08 05:31:00+00:00</td>\n",
       "      <td>2017-11-29 05:31:00+00:00</td>\n",
       "    </tr>\n",
       "    <tr>\n",
       "      <th>369119</th>\n",
       "      <td>nrXlY6gzTTM</td>\n",
       "      <td>200</td>\n",
       "      <td>NaN</td>\n",
       "      <td>Ugyu9iaLbJv51WaQWvt4AaABAg</td>\n",
       "      <td>1.0</td>\n",
       "      <td>xmen fantastic four mcu please fox get life lo...</td>\n",
       "      <td>2017-11-08 05:35:48+00:00</td>\n",
       "      <td>2017-11-08 05:31:00+00:00</td>\n",
       "      <td>2017-11-29 05:31:00+00:00</td>\n",
       "    </tr>\n",
       "    <tr>\n",
       "      <th>369120</th>\n",
       "      <td>nrXlY6gzTTM</td>\n",
       "      <td>200</td>\n",
       "      <td>NaN</td>\n",
       "      <td>UgzOoFffvhW2xSdfHJZ4AaABAg</td>\n",
       "      <td>1.0</td>\n",
       "      <td>tom meryl facu auci steven</td>\n",
       "      <td>2017-11-08 05:31:47+00:00</td>\n",
       "      <td>2017-11-08 05:31:00+00:00</td>\n",
       "      <td>2017-11-29 05:31:00+00:00</td>\n",
       "    </tr>\n",
       "    <tr>\n",
       "      <th>369121</th>\n",
       "      <td>nrXlY6gzTTM</td>\n",
       "      <td>200</td>\n",
       "      <td>NaN</td>\n",
       "      <td>Ugw63wCEwfFTPiu8Pwp4AaABAg</td>\n",
       "      <td>0.0</td>\n",
       "      <td>spielberg ftw</td>\n",
       "      <td>2017-11-08 05:31:42+00:00</td>\n",
       "      <td>2017-11-08 05:31:00+00:00</td>\n",
       "      <td>2017-11-29 05:31:00+00:00</td>\n",
       "    </tr>\n",
       "    <tr>\n",
       "      <th>369166</th>\n",
       "      <td>fm_zzAMuvyQ</td>\n",
       "      <td>200</td>\n",
       "      <td>NaN</td>\n",
       "      <td>UgwIdY7OIc4ix_-LU-V4AaABAg</td>\n",
       "      <td>0.0</td>\n",
       "      <td>baby back love</td>\n",
       "      <td>2018-01-25 00:35:39+00:00</td>\n",
       "      <td>2018-01-10 22:15:46+00:00</td>\n",
       "      <td>2018-01-31 22:15:46+00:00</td>\n",
       "    </tr>\n",
       "  </tbody>\n",
       "</table>\n",
       "<p>187149 rows × 9 columns</p>\n",
       "</div>"
      ],
      "text/plain": [
       "            videoId  code error_reason                          id  replies  \\\n",
       "17      j5BnpaiMvO4   200          NaN  UgyC1N24gUVO95q8SW54AaABAg      3.0   \n",
       "18      j5BnpaiMvO4   200          NaN  UgyWcqppkxY1mLGyqNZ4AaABAg      0.0   \n",
       "19      j5BnpaiMvO4   200          NaN  UgzXS0zcfdGWiYBbulx4AaABAg      0.0   \n",
       "20      j5BnpaiMvO4   200          NaN  UgwTZh0s-v6ta3TbAfx4AaABAg     10.0   \n",
       "21      j5BnpaiMvO4   200          NaN  Ugw0TALvQXFY_iHYFjJ4AaABAg      2.0   \n",
       "...             ...   ...          ...                         ...      ...   \n",
       "369118  nrXlY6gzTTM   200          NaN  UgxEeisvPIaQ0bJuYnx4AaABAg      0.0   \n",
       "369119  nrXlY6gzTTM   200          NaN  Ugyu9iaLbJv51WaQWvt4AaABAg      1.0   \n",
       "369120  nrXlY6gzTTM   200          NaN  UgzOoFffvhW2xSdfHJZ4AaABAg      1.0   \n",
       "369121  nrXlY6gzTTM   200          NaN  Ugw63wCEwfFTPiu8Pwp4AaABAg      0.0   \n",
       "369166  fm_zzAMuvyQ   200          NaN  UgwIdY7OIc4ix_-LU-V4AaABAg      0.0   \n",
       "\n",
       "                                                  comment  \\\n",
       "17      looks boring    even lead actress looks bored ...   \n",
       "18                                         things go bad🙈   \n",
       "19                                 masha bear spin off      \n",
       "20      sometime think kind people watch type movie  b...   \n",
       "21      boring another melodrama nonsense worst bear l...   \n",
       "...                                                   ...   \n",
       "369118                                    divergent music   \n",
       "369119  xmen fantastic four mcu please fox get life lo...   \n",
       "369120                         tom meryl facu auci steven   \n",
       "369121                                   spielberg ftw      \n",
       "369166                                     baby back love   \n",
       "\n",
       "                        postedAt               publishedAt  \\\n",
       "17     2019-10-19 18:14:05+00:00 2019-10-09 09:22:08+00:00   \n",
       "18     2019-10-10 10:56:20+00:00 2019-10-09 09:22:08+00:00   \n",
       "19     2019-10-09 14:50:02+00:00 2019-10-09 09:22:08+00:00   \n",
       "20     2019-10-09 09:56:27+00:00 2019-10-09 09:22:08+00:00   \n",
       "21     2019-10-09 09:54:28+00:00 2019-10-09 09:22:08+00:00   \n",
       "...                          ...                       ...   \n",
       "369118 2017-11-08 05:36:54+00:00 2017-11-08 05:31:00+00:00   \n",
       "369119 2017-11-08 05:35:48+00:00 2017-11-08 05:31:00+00:00   \n",
       "369120 2017-11-08 05:31:47+00:00 2017-11-08 05:31:00+00:00   \n",
       "369121 2017-11-08 05:31:42+00:00 2017-11-08 05:31:00+00:00   \n",
       "369166 2018-01-25 00:35:39+00:00 2018-01-10 22:15:46+00:00   \n",
       "\n",
       "                      cutoffdate  \n",
       "17     2019-10-30 09:22:08+00:00  \n",
       "18     2019-10-30 09:22:08+00:00  \n",
       "19     2019-10-30 09:22:08+00:00  \n",
       "20     2019-10-30 09:22:08+00:00  \n",
       "21     2019-10-30 09:22:08+00:00  \n",
       "...                          ...  \n",
       "369118 2017-11-29 05:31:00+00:00  \n",
       "369119 2017-11-29 05:31:00+00:00  \n",
       "369120 2017-11-29 05:31:00+00:00  \n",
       "369121 2017-11-29 05:31:00+00:00  \n",
       "369166 2018-01-31 22:15:46+00:00  \n",
       "\n",
       "[187149 rows x 9 columns]"
      ]
     },
     "execution_count": 29,
     "metadata": {},
     "output_type": "execute_result"
    }
   ],
   "source": [
    "def replace_punct(text):\n",
    "    text = str(text)\n",
    "    for i in list(string.punctuation):\n",
    "        text = text.replace(i, ' ')\n",
    "    text = text.lower()\n",
    "    return text\n",
    "\n",
    "comments['comment'] = comments['comment'].apply(lambda row: str(row).lower())\n",
    "stop_words = stopwords.words('english')\n",
    "comments['comment'] = comments['comment'].apply(lambda row: ' '.join([word for word in row.split() if word not in stop_words]))\n",
    "comments['comment'] = comments['comment'].apply(lambda row: replace_punct(row))\n",
    "comments"
   ]
  },
  {
   "cell_type": "code",
   "execution_count": 30,
   "metadata": {},
   "outputs": [
    {
     "data": {
      "text/html": [
       "<div>\n",
       "<style scoped>\n",
       "    .dataframe tbody tr th:only-of-type {\n",
       "        vertical-align: middle;\n",
       "    }\n",
       "\n",
       "    .dataframe tbody tr th {\n",
       "        vertical-align: top;\n",
       "    }\n",
       "\n",
       "    .dataframe thead th {\n",
       "        text-align: right;\n",
       "    }\n",
       "</style>\n",
       "<table border=\"1\" class=\"dataframe\">\n",
       "  <thead>\n",
       "    <tr style=\"text-align: right;\">\n",
       "      <th></th>\n",
       "      <th>videoId</th>\n",
       "      <th>code</th>\n",
       "      <th>error_reason</th>\n",
       "      <th>id</th>\n",
       "      <th>replies</th>\n",
       "      <th>comment</th>\n",
       "      <th>postedAt</th>\n",
       "      <th>publishedAt</th>\n",
       "      <th>cutoffdate</th>\n",
       "    </tr>\n",
       "  </thead>\n",
       "  <tbody>\n",
       "    <tr>\n",
       "      <th>17</th>\n",
       "      <td>j5BnpaiMvO4</td>\n",
       "      <td>200</td>\n",
       "      <td>NaN</td>\n",
       "      <td>UgyC1N24gUVO95q8SW54AaABAg</td>\n",
       "      <td>3.0</td>\n",
       "      <td>looks boring    even lead actress looks bored ...</td>\n",
       "      <td>2019-10-19 18:14:05+00:00</td>\n",
       "      <td>2019-10-09 09:22:08+00:00</td>\n",
       "      <td>2019-10-30 09:22:08+00:00</td>\n",
       "    </tr>\n",
       "    <tr>\n",
       "      <th>18</th>\n",
       "      <td>j5BnpaiMvO4</td>\n",
       "      <td>200</td>\n",
       "      <td>NaN</td>\n",
       "      <td>UgyWcqppkxY1mLGyqNZ4AaABAg</td>\n",
       "      <td>0.0</td>\n",
       "      <td>things go bad🙈</td>\n",
       "      <td>2019-10-10 10:56:20+00:00</td>\n",
       "      <td>2019-10-09 09:22:08+00:00</td>\n",
       "      <td>2019-10-30 09:22:08+00:00</td>\n",
       "    </tr>\n",
       "    <tr>\n",
       "      <th>19</th>\n",
       "      <td>j5BnpaiMvO4</td>\n",
       "      <td>200</td>\n",
       "      <td>NaN</td>\n",
       "      <td>UgzXS0zcfdGWiYBbulx4AaABAg</td>\n",
       "      <td>0.0</td>\n",
       "      <td>masha bear spin off</td>\n",
       "      <td>2019-10-09 14:50:02+00:00</td>\n",
       "      <td>2019-10-09 09:22:08+00:00</td>\n",
       "      <td>2019-10-30 09:22:08+00:00</td>\n",
       "    </tr>\n",
       "    <tr>\n",
       "      <th>20</th>\n",
       "      <td>j5BnpaiMvO4</td>\n",
       "      <td>200</td>\n",
       "      <td>NaN</td>\n",
       "      <td>UgwTZh0s-v6ta3TbAfx4AaABAg</td>\n",
       "      <td>10.0</td>\n",
       "      <td>sometime think kind people watch type movie  b...</td>\n",
       "      <td>2019-10-09 09:56:27+00:00</td>\n",
       "      <td>2019-10-09 09:22:08+00:00</td>\n",
       "      <td>2019-10-30 09:22:08+00:00</td>\n",
       "    </tr>\n",
       "    <tr>\n",
       "      <th>21</th>\n",
       "      <td>j5BnpaiMvO4</td>\n",
       "      <td>200</td>\n",
       "      <td>NaN</td>\n",
       "      <td>Ugw0TALvQXFY_iHYFjJ4AaABAg</td>\n",
       "      <td>2.0</td>\n",
       "      <td>boring another melodrama nonsense worst bear l...</td>\n",
       "      <td>2019-10-09 09:54:28+00:00</td>\n",
       "      <td>2019-10-09 09:22:08+00:00</td>\n",
       "      <td>2019-10-30 09:22:08+00:00</td>\n",
       "    </tr>\n",
       "    <tr>\n",
       "      <th>...</th>\n",
       "      <td>...</td>\n",
       "      <td>...</td>\n",
       "      <td>...</td>\n",
       "      <td>...</td>\n",
       "      <td>...</td>\n",
       "      <td>...</td>\n",
       "      <td>...</td>\n",
       "      <td>...</td>\n",
       "      <td>...</td>\n",
       "    </tr>\n",
       "    <tr>\n",
       "      <th>369118</th>\n",
       "      <td>nrXlY6gzTTM</td>\n",
       "      <td>200</td>\n",
       "      <td>NaN</td>\n",
       "      <td>UgxEeisvPIaQ0bJuYnx4AaABAg</td>\n",
       "      <td>0.0</td>\n",
       "      <td>divergent music</td>\n",
       "      <td>2017-11-08 05:36:54+00:00</td>\n",
       "      <td>2017-11-08 05:31:00+00:00</td>\n",
       "      <td>2017-11-29 05:31:00+00:00</td>\n",
       "    </tr>\n",
       "    <tr>\n",
       "      <th>369119</th>\n",
       "      <td>nrXlY6gzTTM</td>\n",
       "      <td>200</td>\n",
       "      <td>NaN</td>\n",
       "      <td>Ugyu9iaLbJv51WaQWvt4AaABAg</td>\n",
       "      <td>1.0</td>\n",
       "      <td>xmen fantastic four mcu please fox get life loser</td>\n",
       "      <td>2017-11-08 05:35:48+00:00</td>\n",
       "      <td>2017-11-08 05:31:00+00:00</td>\n",
       "      <td>2017-11-29 05:31:00+00:00</td>\n",
       "    </tr>\n",
       "    <tr>\n",
       "      <th>369120</th>\n",
       "      <td>nrXlY6gzTTM</td>\n",
       "      <td>200</td>\n",
       "      <td>NaN</td>\n",
       "      <td>UgzOoFffvhW2xSdfHJZ4AaABAg</td>\n",
       "      <td>1.0</td>\n",
       "      <td>tom meryl facu auci steven</td>\n",
       "      <td>2017-11-08 05:31:47+00:00</td>\n",
       "      <td>2017-11-08 05:31:00+00:00</td>\n",
       "      <td>2017-11-29 05:31:00+00:00</td>\n",
       "    </tr>\n",
       "    <tr>\n",
       "      <th>369121</th>\n",
       "      <td>nrXlY6gzTTM</td>\n",
       "      <td>200</td>\n",
       "      <td>NaN</td>\n",
       "      <td>Ugw63wCEwfFTPiu8Pwp4AaABAg</td>\n",
       "      <td>0.0</td>\n",
       "      <td>spielberg ftw</td>\n",
       "      <td>2017-11-08 05:31:42+00:00</td>\n",
       "      <td>2017-11-08 05:31:00+00:00</td>\n",
       "      <td>2017-11-29 05:31:00+00:00</td>\n",
       "    </tr>\n",
       "    <tr>\n",
       "      <th>369166</th>\n",
       "      <td>fm_zzAMuvyQ</td>\n",
       "      <td>200</td>\n",
       "      <td>NaN</td>\n",
       "      <td>UgwIdY7OIc4ix_-LU-V4AaABAg</td>\n",
       "      <td>0.0</td>\n",
       "      <td>baby back love</td>\n",
       "      <td>2018-01-25 00:35:39+00:00</td>\n",
       "      <td>2018-01-10 22:15:46+00:00</td>\n",
       "      <td>2018-01-31 22:15:46+00:00</td>\n",
       "    </tr>\n",
       "  </tbody>\n",
       "</table>\n",
       "<p>187149 rows × 9 columns</p>\n",
       "</div>"
      ],
      "text/plain": [
       "            videoId  code error_reason                          id  replies  \\\n",
       "17      j5BnpaiMvO4   200          NaN  UgyC1N24gUVO95q8SW54AaABAg      3.0   \n",
       "18      j5BnpaiMvO4   200          NaN  UgyWcqppkxY1mLGyqNZ4AaABAg      0.0   \n",
       "19      j5BnpaiMvO4   200          NaN  UgzXS0zcfdGWiYBbulx4AaABAg      0.0   \n",
       "20      j5BnpaiMvO4   200          NaN  UgwTZh0s-v6ta3TbAfx4AaABAg     10.0   \n",
       "21      j5BnpaiMvO4   200          NaN  Ugw0TALvQXFY_iHYFjJ4AaABAg      2.0   \n",
       "...             ...   ...          ...                         ...      ...   \n",
       "369118  nrXlY6gzTTM   200          NaN  UgxEeisvPIaQ0bJuYnx4AaABAg      0.0   \n",
       "369119  nrXlY6gzTTM   200          NaN  Ugyu9iaLbJv51WaQWvt4AaABAg      1.0   \n",
       "369120  nrXlY6gzTTM   200          NaN  UgzOoFffvhW2xSdfHJZ4AaABAg      1.0   \n",
       "369121  nrXlY6gzTTM   200          NaN  Ugw63wCEwfFTPiu8Pwp4AaABAg      0.0   \n",
       "369166  fm_zzAMuvyQ   200          NaN  UgwIdY7OIc4ix_-LU-V4AaABAg      0.0   \n",
       "\n",
       "                                                  comment  \\\n",
       "17      looks boring    even lead actress looks bored ...   \n",
       "18                                         things go bad🙈   \n",
       "19                                    masha bear spin off   \n",
       "20      sometime think kind people watch type movie  b...   \n",
       "21      boring another melodrama nonsense worst bear l...   \n",
       "...                                                   ...   \n",
       "369118                                    divergent music   \n",
       "369119  xmen fantastic four mcu please fox get life loser   \n",
       "369120                         tom meryl facu auci steven   \n",
       "369121                                      spielberg ftw   \n",
       "369166                                     baby back love   \n",
       "\n",
       "                        postedAt               publishedAt  \\\n",
       "17     2019-10-19 18:14:05+00:00 2019-10-09 09:22:08+00:00   \n",
       "18     2019-10-10 10:56:20+00:00 2019-10-09 09:22:08+00:00   \n",
       "19     2019-10-09 14:50:02+00:00 2019-10-09 09:22:08+00:00   \n",
       "20     2019-10-09 09:56:27+00:00 2019-10-09 09:22:08+00:00   \n",
       "21     2019-10-09 09:54:28+00:00 2019-10-09 09:22:08+00:00   \n",
       "...                          ...                       ...   \n",
       "369118 2017-11-08 05:36:54+00:00 2017-11-08 05:31:00+00:00   \n",
       "369119 2017-11-08 05:35:48+00:00 2017-11-08 05:31:00+00:00   \n",
       "369120 2017-11-08 05:31:47+00:00 2017-11-08 05:31:00+00:00   \n",
       "369121 2017-11-08 05:31:42+00:00 2017-11-08 05:31:00+00:00   \n",
       "369166 2018-01-25 00:35:39+00:00 2018-01-10 22:15:46+00:00   \n",
       "\n",
       "                      cutoffdate  \n",
       "17     2019-10-30 09:22:08+00:00  \n",
       "18     2019-10-30 09:22:08+00:00  \n",
       "19     2019-10-30 09:22:08+00:00  \n",
       "20     2019-10-30 09:22:08+00:00  \n",
       "21     2019-10-30 09:22:08+00:00  \n",
       "...                          ...  \n",
       "369118 2017-11-29 05:31:00+00:00  \n",
       "369119 2017-11-29 05:31:00+00:00  \n",
       "369120 2017-11-29 05:31:00+00:00  \n",
       "369121 2017-11-29 05:31:00+00:00  \n",
       "369166 2018-01-31 22:15:46+00:00  \n",
       "\n",
       "[187149 rows x 9 columns]"
      ]
     },
     "execution_count": 30,
     "metadata": {},
     "output_type": "execute_result"
    }
   ],
   "source": [
    "comments['comment'] = comments['comment'].apply(lambda row: sent_tokenize(row))\n",
    "comments['comment'] = comments['comment'].apply(lambda row: ' '.join(row))\n",
    "comments"
   ]
  },
  {
   "cell_type": "code",
   "execution_count": 31,
   "metadata": {},
   "outputs": [
    {
     "data": {
      "text/html": [
       "<div>\n",
       "<style scoped>\n",
       "    .dataframe tbody tr th:only-of-type {\n",
       "        vertical-align: middle;\n",
       "    }\n",
       "\n",
       "    .dataframe tbody tr th {\n",
       "        vertical-align: top;\n",
       "    }\n",
       "\n",
       "    .dataframe thead th {\n",
       "        text-align: right;\n",
       "    }\n",
       "</style>\n",
       "<table border=\"1\" class=\"dataframe\">\n",
       "  <thead>\n",
       "    <tr style=\"text-align: right;\">\n",
       "      <th></th>\n",
       "      <th>videoId</th>\n",
       "      <th>code</th>\n",
       "      <th>error_reason</th>\n",
       "      <th>id</th>\n",
       "      <th>replies</th>\n",
       "      <th>comment</th>\n",
       "      <th>postedAt</th>\n",
       "      <th>publishedAt</th>\n",
       "      <th>cutoffdate</th>\n",
       "      <th>score</th>\n",
       "      <th>negative</th>\n",
       "      <th>neutral</th>\n",
       "      <th>positive</th>\n",
       "      <th>compound</th>\n",
       "    </tr>\n",
       "  </thead>\n",
       "  <tbody>\n",
       "    <tr>\n",
       "      <th>17</th>\n",
       "      <td>j5BnpaiMvO4</td>\n",
       "      <td>200</td>\n",
       "      <td>NaN</td>\n",
       "      <td>UgyC1N24gUVO95q8SW54AaABAg</td>\n",
       "      <td>3.0</td>\n",
       "      <td>looks boring    even lead actress looks bored ...</td>\n",
       "      <td>2019-10-19 18:14:05+00:00</td>\n",
       "      <td>2019-10-09 09:22:08+00:00</td>\n",
       "      <td>2019-10-30 09:22:08+00:00</td>\n",
       "      <td>{'neg': 0.228, 'neu': 0.379, 'pos': 0.393, 'co...</td>\n",
       "      <td>0.228</td>\n",
       "      <td>0.379</td>\n",
       "      <td>0.393</td>\n",
       "      <td>0.8208</td>\n",
       "    </tr>\n",
       "    <tr>\n",
       "      <th>18</th>\n",
       "      <td>j5BnpaiMvO4</td>\n",
       "      <td>200</td>\n",
       "      <td>NaN</td>\n",
       "      <td>UgyWcqppkxY1mLGyqNZ4AaABAg</td>\n",
       "      <td>0.0</td>\n",
       "      <td>things go bad🙈</td>\n",
       "      <td>2019-10-10 10:56:20+00:00</td>\n",
       "      <td>2019-10-09 09:22:08+00:00</td>\n",
       "      <td>2019-10-30 09:22:08+00:00</td>\n",
       "      <td>{'neg': 0.0, 'neu': 1.0, 'pos': 0.0, 'compound...</td>\n",
       "      <td>0.000</td>\n",
       "      <td>1.000</td>\n",
       "      <td>0.000</td>\n",
       "      <td>0.0000</td>\n",
       "    </tr>\n",
       "    <tr>\n",
       "      <th>19</th>\n",
       "      <td>j5BnpaiMvO4</td>\n",
       "      <td>200</td>\n",
       "      <td>NaN</td>\n",
       "      <td>UgzXS0zcfdGWiYBbulx4AaABAg</td>\n",
       "      <td>0.0</td>\n",
       "      <td>masha bear spin off</td>\n",
       "      <td>2019-10-09 14:50:02+00:00</td>\n",
       "      <td>2019-10-09 09:22:08+00:00</td>\n",
       "      <td>2019-10-30 09:22:08+00:00</td>\n",
       "      <td>{'neg': 0.0, 'neu': 1.0, 'pos': 0.0, 'compound...</td>\n",
       "      <td>0.000</td>\n",
       "      <td>1.000</td>\n",
       "      <td>0.000</td>\n",
       "      <td>0.0000</td>\n",
       "    </tr>\n",
       "    <tr>\n",
       "      <th>20</th>\n",
       "      <td>j5BnpaiMvO4</td>\n",
       "      <td>200</td>\n",
       "      <td>NaN</td>\n",
       "      <td>UgwTZh0s-v6ta3TbAfx4AaABAg</td>\n",
       "      <td>10.0</td>\n",
       "      <td>sometime think kind people watch type movie  b...</td>\n",
       "      <td>2019-10-09 09:56:27+00:00</td>\n",
       "      <td>2019-10-09 09:22:08+00:00</td>\n",
       "      <td>2019-10-30 09:22:08+00:00</td>\n",
       "      <td>{'neg': 0.12, 'neu': 0.537, 'pos': 0.343, 'com...</td>\n",
       "      <td>0.120</td>\n",
       "      <td>0.537</td>\n",
       "      <td>0.343</td>\n",
       "      <td>0.8957</td>\n",
       "    </tr>\n",
       "    <tr>\n",
       "      <th>21</th>\n",
       "      <td>j5BnpaiMvO4</td>\n",
       "      <td>200</td>\n",
       "      <td>NaN</td>\n",
       "      <td>Ugw0TALvQXFY_iHYFjJ4AaABAg</td>\n",
       "      <td>2.0</td>\n",
       "      <td>boring another melodrama nonsense worst bear l...</td>\n",
       "      <td>2019-10-09 09:54:28+00:00</td>\n",
       "      <td>2019-10-09 09:22:08+00:00</td>\n",
       "      <td>2019-10-30 09:22:08+00:00</td>\n",
       "      <td>{'neg': 0.397, 'neu': 0.513, 'pos': 0.09, 'com...</td>\n",
       "      <td>0.397</td>\n",
       "      <td>0.513</td>\n",
       "      <td>0.090</td>\n",
       "      <td>-0.8625</td>\n",
       "    </tr>\n",
       "    <tr>\n",
       "      <th>...</th>\n",
       "      <td>...</td>\n",
       "      <td>...</td>\n",
       "      <td>...</td>\n",
       "      <td>...</td>\n",
       "      <td>...</td>\n",
       "      <td>...</td>\n",
       "      <td>...</td>\n",
       "      <td>...</td>\n",
       "      <td>...</td>\n",
       "      <td>...</td>\n",
       "      <td>...</td>\n",
       "      <td>...</td>\n",
       "      <td>...</td>\n",
       "      <td>...</td>\n",
       "    </tr>\n",
       "    <tr>\n",
       "      <th>369118</th>\n",
       "      <td>nrXlY6gzTTM</td>\n",
       "      <td>200</td>\n",
       "      <td>NaN</td>\n",
       "      <td>UgxEeisvPIaQ0bJuYnx4AaABAg</td>\n",
       "      <td>0.0</td>\n",
       "      <td>divergent music</td>\n",
       "      <td>2017-11-08 05:36:54+00:00</td>\n",
       "      <td>2017-11-08 05:31:00+00:00</td>\n",
       "      <td>2017-11-29 05:31:00+00:00</td>\n",
       "      <td>{'neg': 0.0, 'neu': 1.0, 'pos': 0.0, 'compound...</td>\n",
       "      <td>0.000</td>\n",
       "      <td>1.000</td>\n",
       "      <td>0.000</td>\n",
       "      <td>0.0000</td>\n",
       "    </tr>\n",
       "    <tr>\n",
       "      <th>369119</th>\n",
       "      <td>nrXlY6gzTTM</td>\n",
       "      <td>200</td>\n",
       "      <td>NaN</td>\n",
       "      <td>Ugyu9iaLbJv51WaQWvt4AaABAg</td>\n",
       "      <td>1.0</td>\n",
       "      <td>xmen fantastic four mcu please fox get life loser</td>\n",
       "      <td>2017-11-08 05:35:48+00:00</td>\n",
       "      <td>2017-11-08 05:31:00+00:00</td>\n",
       "      <td>2017-11-29 05:31:00+00:00</td>\n",
       "      <td>{'neg': 0.222, 'neu': 0.392, 'pos': 0.386, 'co...</td>\n",
       "      <td>0.222</td>\n",
       "      <td>0.392</td>\n",
       "      <td>0.386</td>\n",
       "      <td>0.3612</td>\n",
       "    </tr>\n",
       "    <tr>\n",
       "      <th>369120</th>\n",
       "      <td>nrXlY6gzTTM</td>\n",
       "      <td>200</td>\n",
       "      <td>NaN</td>\n",
       "      <td>UgzOoFffvhW2xSdfHJZ4AaABAg</td>\n",
       "      <td>1.0</td>\n",
       "      <td>tom meryl facu auci steven</td>\n",
       "      <td>2017-11-08 05:31:47+00:00</td>\n",
       "      <td>2017-11-08 05:31:00+00:00</td>\n",
       "      <td>2017-11-29 05:31:00+00:00</td>\n",
       "      <td>{'neg': 0.0, 'neu': 1.0, 'pos': 0.0, 'compound...</td>\n",
       "      <td>0.000</td>\n",
       "      <td>1.000</td>\n",
       "      <td>0.000</td>\n",
       "      <td>0.0000</td>\n",
       "    </tr>\n",
       "    <tr>\n",
       "      <th>369121</th>\n",
       "      <td>nrXlY6gzTTM</td>\n",
       "      <td>200</td>\n",
       "      <td>NaN</td>\n",
       "      <td>Ugw63wCEwfFTPiu8Pwp4AaABAg</td>\n",
       "      <td>0.0</td>\n",
       "      <td>spielberg ftw</td>\n",
       "      <td>2017-11-08 05:31:42+00:00</td>\n",
       "      <td>2017-11-08 05:31:00+00:00</td>\n",
       "      <td>2017-11-29 05:31:00+00:00</td>\n",
       "      <td>{'neg': 0.0, 'neu': 0.25, 'pos': 0.75, 'compou...</td>\n",
       "      <td>0.000</td>\n",
       "      <td>0.250</td>\n",
       "      <td>0.750</td>\n",
       "      <td>0.4588</td>\n",
       "    </tr>\n",
       "    <tr>\n",
       "      <th>369166</th>\n",
       "      <td>fm_zzAMuvyQ</td>\n",
       "      <td>200</td>\n",
       "      <td>NaN</td>\n",
       "      <td>UgwIdY7OIc4ix_-LU-V4AaABAg</td>\n",
       "      <td>0.0</td>\n",
       "      <td>baby back love</td>\n",
       "      <td>2018-01-25 00:35:39+00:00</td>\n",
       "      <td>2018-01-10 22:15:46+00:00</td>\n",
       "      <td>2018-01-31 22:15:46+00:00</td>\n",
       "      <td>{'neg': 0.0, 'neu': 0.323, 'pos': 0.677, 'comp...</td>\n",
       "      <td>0.000</td>\n",
       "      <td>0.323</td>\n",
       "      <td>0.677</td>\n",
       "      <td>0.6369</td>\n",
       "    </tr>\n",
       "  </tbody>\n",
       "</table>\n",
       "<p>187149 rows × 14 columns</p>\n",
       "</div>"
      ],
      "text/plain": [
       "            videoId  code error_reason                          id  replies  \\\n",
       "17      j5BnpaiMvO4   200          NaN  UgyC1N24gUVO95q8SW54AaABAg      3.0   \n",
       "18      j5BnpaiMvO4   200          NaN  UgyWcqppkxY1mLGyqNZ4AaABAg      0.0   \n",
       "19      j5BnpaiMvO4   200          NaN  UgzXS0zcfdGWiYBbulx4AaABAg      0.0   \n",
       "20      j5BnpaiMvO4   200          NaN  UgwTZh0s-v6ta3TbAfx4AaABAg     10.0   \n",
       "21      j5BnpaiMvO4   200          NaN  Ugw0TALvQXFY_iHYFjJ4AaABAg      2.0   \n",
       "...             ...   ...          ...                         ...      ...   \n",
       "369118  nrXlY6gzTTM   200          NaN  UgxEeisvPIaQ0bJuYnx4AaABAg      0.0   \n",
       "369119  nrXlY6gzTTM   200          NaN  Ugyu9iaLbJv51WaQWvt4AaABAg      1.0   \n",
       "369120  nrXlY6gzTTM   200          NaN  UgzOoFffvhW2xSdfHJZ4AaABAg      1.0   \n",
       "369121  nrXlY6gzTTM   200          NaN  Ugw63wCEwfFTPiu8Pwp4AaABAg      0.0   \n",
       "369166  fm_zzAMuvyQ   200          NaN  UgwIdY7OIc4ix_-LU-V4AaABAg      0.0   \n",
       "\n",
       "                                                  comment  \\\n",
       "17      looks boring    even lead actress looks bored ...   \n",
       "18                                         things go bad🙈   \n",
       "19                                    masha bear spin off   \n",
       "20      sometime think kind people watch type movie  b...   \n",
       "21      boring another melodrama nonsense worst bear l...   \n",
       "...                                                   ...   \n",
       "369118                                    divergent music   \n",
       "369119  xmen fantastic four mcu please fox get life loser   \n",
       "369120                         tom meryl facu auci steven   \n",
       "369121                                      spielberg ftw   \n",
       "369166                                     baby back love   \n",
       "\n",
       "                        postedAt               publishedAt  \\\n",
       "17     2019-10-19 18:14:05+00:00 2019-10-09 09:22:08+00:00   \n",
       "18     2019-10-10 10:56:20+00:00 2019-10-09 09:22:08+00:00   \n",
       "19     2019-10-09 14:50:02+00:00 2019-10-09 09:22:08+00:00   \n",
       "20     2019-10-09 09:56:27+00:00 2019-10-09 09:22:08+00:00   \n",
       "21     2019-10-09 09:54:28+00:00 2019-10-09 09:22:08+00:00   \n",
       "...                          ...                       ...   \n",
       "369118 2017-11-08 05:36:54+00:00 2017-11-08 05:31:00+00:00   \n",
       "369119 2017-11-08 05:35:48+00:00 2017-11-08 05:31:00+00:00   \n",
       "369120 2017-11-08 05:31:47+00:00 2017-11-08 05:31:00+00:00   \n",
       "369121 2017-11-08 05:31:42+00:00 2017-11-08 05:31:00+00:00   \n",
       "369166 2018-01-25 00:35:39+00:00 2018-01-10 22:15:46+00:00   \n",
       "\n",
       "                      cutoffdate  \\\n",
       "17     2019-10-30 09:22:08+00:00   \n",
       "18     2019-10-30 09:22:08+00:00   \n",
       "19     2019-10-30 09:22:08+00:00   \n",
       "20     2019-10-30 09:22:08+00:00   \n",
       "21     2019-10-30 09:22:08+00:00   \n",
       "...                          ...   \n",
       "369118 2017-11-29 05:31:00+00:00   \n",
       "369119 2017-11-29 05:31:00+00:00   \n",
       "369120 2017-11-29 05:31:00+00:00   \n",
       "369121 2017-11-29 05:31:00+00:00   \n",
       "369166 2018-01-31 22:15:46+00:00   \n",
       "\n",
       "                                                    score  negative  neutral  \\\n",
       "17      {'neg': 0.228, 'neu': 0.379, 'pos': 0.393, 'co...     0.228    0.379   \n",
       "18      {'neg': 0.0, 'neu': 1.0, 'pos': 0.0, 'compound...     0.000    1.000   \n",
       "19      {'neg': 0.0, 'neu': 1.0, 'pos': 0.0, 'compound...     0.000    1.000   \n",
       "20      {'neg': 0.12, 'neu': 0.537, 'pos': 0.343, 'com...     0.120    0.537   \n",
       "21      {'neg': 0.397, 'neu': 0.513, 'pos': 0.09, 'com...     0.397    0.513   \n",
       "...                                                   ...       ...      ...   \n",
       "369118  {'neg': 0.0, 'neu': 1.0, 'pos': 0.0, 'compound...     0.000    1.000   \n",
       "369119  {'neg': 0.222, 'neu': 0.392, 'pos': 0.386, 'co...     0.222    0.392   \n",
       "369120  {'neg': 0.0, 'neu': 1.0, 'pos': 0.0, 'compound...     0.000    1.000   \n",
       "369121  {'neg': 0.0, 'neu': 0.25, 'pos': 0.75, 'compou...     0.000    0.250   \n",
       "369166  {'neg': 0.0, 'neu': 0.323, 'pos': 0.677, 'comp...     0.000    0.323   \n",
       "\n",
       "        positive  compound  \n",
       "17         0.393    0.8208  \n",
       "18         0.000    0.0000  \n",
       "19         0.000    0.0000  \n",
       "20         0.343    0.8957  \n",
       "21         0.090   -0.8625  \n",
       "...          ...       ...  \n",
       "369118     0.000    0.0000  \n",
       "369119     0.386    0.3612  \n",
       "369120     0.000    0.0000  \n",
       "369121     0.750    0.4588  \n",
       "369166     0.677    0.6369  \n",
       "\n",
       "[187149 rows x 14 columns]"
      ]
     },
     "execution_count": 31,
     "metadata": {},
     "output_type": "execute_result"
    }
   ],
   "source": [
    "sent = SentimentIntensityAnalyzer()\n",
    "comments['score'] = comments['comment'].apply(lambda row: sent.polarity_scores(row))\n",
    "\n",
    "comments['negative'] = comments['score'].apply(lambda row: row['neg'])\n",
    "comments['neutral'] = comments['score'].apply(lambda row: row['neu'])\n",
    "comments['positive'] = comments['score'].apply(lambda row: row['pos'])\n",
    "comments['compound'] = comments['score'].apply(lambda row: row['compound'])\n",
    "\n",
    "comments"
   ]
  },
  {
   "cell_type": "code",
   "execution_count": 32,
   "metadata": {},
   "outputs": [
    {
     "data": {
      "text/html": [
       "<div>\n",
       "<style scoped>\n",
       "    .dataframe tbody tr th:only-of-type {\n",
       "        vertical-align: middle;\n",
       "    }\n",
       "\n",
       "    .dataframe tbody tr th {\n",
       "        vertical-align: top;\n",
       "    }\n",
       "\n",
       "    .dataframe thead th {\n",
       "        text-align: right;\n",
       "    }\n",
       "</style>\n",
       "<table border=\"1\" class=\"dataframe\">\n",
       "  <thead>\n",
       "    <tr style=\"text-align: right;\">\n",
       "      <th></th>\n",
       "      <th>videoId</th>\n",
       "      <th>code</th>\n",
       "      <th>error_reason</th>\n",
       "      <th>id</th>\n",
       "      <th>replies</th>\n",
       "      <th>comment</th>\n",
       "      <th>postedAt</th>\n",
       "      <th>publishedAt</th>\n",
       "      <th>cutoffdate</th>\n",
       "      <th>score</th>\n",
       "      <th>negative</th>\n",
       "      <th>neutral</th>\n",
       "      <th>positive</th>\n",
       "      <th>compound</th>\n",
       "      <th>sentiment</th>\n",
       "    </tr>\n",
       "  </thead>\n",
       "  <tbody>\n",
       "    <tr>\n",
       "      <th>17</th>\n",
       "      <td>j5BnpaiMvO4</td>\n",
       "      <td>200</td>\n",
       "      <td>NaN</td>\n",
       "      <td>UgyC1N24gUVO95q8SW54AaABAg</td>\n",
       "      <td>3.0</td>\n",
       "      <td>looks boring    even lead actress looks bored ...</td>\n",
       "      <td>2019-10-19 18:14:05+00:00</td>\n",
       "      <td>2019-10-09 09:22:08+00:00</td>\n",
       "      <td>2019-10-30 09:22:08+00:00</td>\n",
       "      <td>{'neg': 0.228, 'neu': 0.379, 'pos': 0.393, 'co...</td>\n",
       "      <td>0.228</td>\n",
       "      <td>0.379</td>\n",
       "      <td>0.393</td>\n",
       "      <td>0.8208</td>\n",
       "      <td>positive</td>\n",
       "    </tr>\n",
       "    <tr>\n",
       "      <th>18</th>\n",
       "      <td>j5BnpaiMvO4</td>\n",
       "      <td>200</td>\n",
       "      <td>NaN</td>\n",
       "      <td>UgyWcqppkxY1mLGyqNZ4AaABAg</td>\n",
       "      <td>0.0</td>\n",
       "      <td>things go bad🙈</td>\n",
       "      <td>2019-10-10 10:56:20+00:00</td>\n",
       "      <td>2019-10-09 09:22:08+00:00</td>\n",
       "      <td>2019-10-30 09:22:08+00:00</td>\n",
       "      <td>{'neg': 0.0, 'neu': 1.0, 'pos': 0.0, 'compound...</td>\n",
       "      <td>0.000</td>\n",
       "      <td>1.000</td>\n",
       "      <td>0.000</td>\n",
       "      <td>0.0000</td>\n",
       "      <td>neutral</td>\n",
       "    </tr>\n",
       "    <tr>\n",
       "      <th>19</th>\n",
       "      <td>j5BnpaiMvO4</td>\n",
       "      <td>200</td>\n",
       "      <td>NaN</td>\n",
       "      <td>UgzXS0zcfdGWiYBbulx4AaABAg</td>\n",
       "      <td>0.0</td>\n",
       "      <td>masha bear spin off</td>\n",
       "      <td>2019-10-09 14:50:02+00:00</td>\n",
       "      <td>2019-10-09 09:22:08+00:00</td>\n",
       "      <td>2019-10-30 09:22:08+00:00</td>\n",
       "      <td>{'neg': 0.0, 'neu': 1.0, 'pos': 0.0, 'compound...</td>\n",
       "      <td>0.000</td>\n",
       "      <td>1.000</td>\n",
       "      <td>0.000</td>\n",
       "      <td>0.0000</td>\n",
       "      <td>neutral</td>\n",
       "    </tr>\n",
       "    <tr>\n",
       "      <th>20</th>\n",
       "      <td>j5BnpaiMvO4</td>\n",
       "      <td>200</td>\n",
       "      <td>NaN</td>\n",
       "      <td>UgwTZh0s-v6ta3TbAfx4AaABAg</td>\n",
       "      <td>10.0</td>\n",
       "      <td>sometime think kind people watch type movie  b...</td>\n",
       "      <td>2019-10-09 09:56:27+00:00</td>\n",
       "      <td>2019-10-09 09:22:08+00:00</td>\n",
       "      <td>2019-10-30 09:22:08+00:00</td>\n",
       "      <td>{'neg': 0.12, 'neu': 0.537, 'pos': 0.343, 'com...</td>\n",
       "      <td>0.120</td>\n",
       "      <td>0.537</td>\n",
       "      <td>0.343</td>\n",
       "      <td>0.8957</td>\n",
       "      <td>positive</td>\n",
       "    </tr>\n",
       "    <tr>\n",
       "      <th>21</th>\n",
       "      <td>j5BnpaiMvO4</td>\n",
       "      <td>200</td>\n",
       "      <td>NaN</td>\n",
       "      <td>Ugw0TALvQXFY_iHYFjJ4AaABAg</td>\n",
       "      <td>2.0</td>\n",
       "      <td>boring another melodrama nonsense worst bear l...</td>\n",
       "      <td>2019-10-09 09:54:28+00:00</td>\n",
       "      <td>2019-10-09 09:22:08+00:00</td>\n",
       "      <td>2019-10-30 09:22:08+00:00</td>\n",
       "      <td>{'neg': 0.397, 'neu': 0.513, 'pos': 0.09, 'com...</td>\n",
       "      <td>0.397</td>\n",
       "      <td>0.513</td>\n",
       "      <td>0.090</td>\n",
       "      <td>-0.8625</td>\n",
       "      <td>negative</td>\n",
       "    </tr>\n",
       "    <tr>\n",
       "      <th>...</th>\n",
       "      <td>...</td>\n",
       "      <td>...</td>\n",
       "      <td>...</td>\n",
       "      <td>...</td>\n",
       "      <td>...</td>\n",
       "      <td>...</td>\n",
       "      <td>...</td>\n",
       "      <td>...</td>\n",
       "      <td>...</td>\n",
       "      <td>...</td>\n",
       "      <td>...</td>\n",
       "      <td>...</td>\n",
       "      <td>...</td>\n",
       "      <td>...</td>\n",
       "      <td>...</td>\n",
       "    </tr>\n",
       "    <tr>\n",
       "      <th>369118</th>\n",
       "      <td>nrXlY6gzTTM</td>\n",
       "      <td>200</td>\n",
       "      <td>NaN</td>\n",
       "      <td>UgxEeisvPIaQ0bJuYnx4AaABAg</td>\n",
       "      <td>0.0</td>\n",
       "      <td>divergent music</td>\n",
       "      <td>2017-11-08 05:36:54+00:00</td>\n",
       "      <td>2017-11-08 05:31:00+00:00</td>\n",
       "      <td>2017-11-29 05:31:00+00:00</td>\n",
       "      <td>{'neg': 0.0, 'neu': 1.0, 'pos': 0.0, 'compound...</td>\n",
       "      <td>0.000</td>\n",
       "      <td>1.000</td>\n",
       "      <td>0.000</td>\n",
       "      <td>0.0000</td>\n",
       "      <td>neutral</td>\n",
       "    </tr>\n",
       "    <tr>\n",
       "      <th>369119</th>\n",
       "      <td>nrXlY6gzTTM</td>\n",
       "      <td>200</td>\n",
       "      <td>NaN</td>\n",
       "      <td>Ugyu9iaLbJv51WaQWvt4AaABAg</td>\n",
       "      <td>1.0</td>\n",
       "      <td>xmen fantastic four mcu please fox get life loser</td>\n",
       "      <td>2017-11-08 05:35:48+00:00</td>\n",
       "      <td>2017-11-08 05:31:00+00:00</td>\n",
       "      <td>2017-11-29 05:31:00+00:00</td>\n",
       "      <td>{'neg': 0.222, 'neu': 0.392, 'pos': 0.386, 'co...</td>\n",
       "      <td>0.222</td>\n",
       "      <td>0.392</td>\n",
       "      <td>0.386</td>\n",
       "      <td>0.3612</td>\n",
       "      <td>positive</td>\n",
       "    </tr>\n",
       "    <tr>\n",
       "      <th>369120</th>\n",
       "      <td>nrXlY6gzTTM</td>\n",
       "      <td>200</td>\n",
       "      <td>NaN</td>\n",
       "      <td>UgzOoFffvhW2xSdfHJZ4AaABAg</td>\n",
       "      <td>1.0</td>\n",
       "      <td>tom meryl facu auci steven</td>\n",
       "      <td>2017-11-08 05:31:47+00:00</td>\n",
       "      <td>2017-11-08 05:31:00+00:00</td>\n",
       "      <td>2017-11-29 05:31:00+00:00</td>\n",
       "      <td>{'neg': 0.0, 'neu': 1.0, 'pos': 0.0, 'compound...</td>\n",
       "      <td>0.000</td>\n",
       "      <td>1.000</td>\n",
       "      <td>0.000</td>\n",
       "      <td>0.0000</td>\n",
       "      <td>neutral</td>\n",
       "    </tr>\n",
       "    <tr>\n",
       "      <th>369121</th>\n",
       "      <td>nrXlY6gzTTM</td>\n",
       "      <td>200</td>\n",
       "      <td>NaN</td>\n",
       "      <td>Ugw63wCEwfFTPiu8Pwp4AaABAg</td>\n",
       "      <td>0.0</td>\n",
       "      <td>spielberg ftw</td>\n",
       "      <td>2017-11-08 05:31:42+00:00</td>\n",
       "      <td>2017-11-08 05:31:00+00:00</td>\n",
       "      <td>2017-11-29 05:31:00+00:00</td>\n",
       "      <td>{'neg': 0.0, 'neu': 0.25, 'pos': 0.75, 'compou...</td>\n",
       "      <td>0.000</td>\n",
       "      <td>0.250</td>\n",
       "      <td>0.750</td>\n",
       "      <td>0.4588</td>\n",
       "      <td>positive</td>\n",
       "    </tr>\n",
       "    <tr>\n",
       "      <th>369166</th>\n",
       "      <td>fm_zzAMuvyQ</td>\n",
       "      <td>200</td>\n",
       "      <td>NaN</td>\n",
       "      <td>UgwIdY7OIc4ix_-LU-V4AaABAg</td>\n",
       "      <td>0.0</td>\n",
       "      <td>baby back love</td>\n",
       "      <td>2018-01-25 00:35:39+00:00</td>\n",
       "      <td>2018-01-10 22:15:46+00:00</td>\n",
       "      <td>2018-01-31 22:15:46+00:00</td>\n",
       "      <td>{'neg': 0.0, 'neu': 0.323, 'pos': 0.677, 'comp...</td>\n",
       "      <td>0.000</td>\n",
       "      <td>0.323</td>\n",
       "      <td>0.677</td>\n",
       "      <td>0.6369</td>\n",
       "      <td>positive</td>\n",
       "    </tr>\n",
       "  </tbody>\n",
       "</table>\n",
       "<p>187149 rows × 15 columns</p>\n",
       "</div>"
      ],
      "text/plain": [
       "            videoId  code error_reason                          id  replies  \\\n",
       "17      j5BnpaiMvO4   200          NaN  UgyC1N24gUVO95q8SW54AaABAg      3.0   \n",
       "18      j5BnpaiMvO4   200          NaN  UgyWcqppkxY1mLGyqNZ4AaABAg      0.0   \n",
       "19      j5BnpaiMvO4   200          NaN  UgzXS0zcfdGWiYBbulx4AaABAg      0.0   \n",
       "20      j5BnpaiMvO4   200          NaN  UgwTZh0s-v6ta3TbAfx4AaABAg     10.0   \n",
       "21      j5BnpaiMvO4   200          NaN  Ugw0TALvQXFY_iHYFjJ4AaABAg      2.0   \n",
       "...             ...   ...          ...                         ...      ...   \n",
       "369118  nrXlY6gzTTM   200          NaN  UgxEeisvPIaQ0bJuYnx4AaABAg      0.0   \n",
       "369119  nrXlY6gzTTM   200          NaN  Ugyu9iaLbJv51WaQWvt4AaABAg      1.0   \n",
       "369120  nrXlY6gzTTM   200          NaN  UgzOoFffvhW2xSdfHJZ4AaABAg      1.0   \n",
       "369121  nrXlY6gzTTM   200          NaN  Ugw63wCEwfFTPiu8Pwp4AaABAg      0.0   \n",
       "369166  fm_zzAMuvyQ   200          NaN  UgwIdY7OIc4ix_-LU-V4AaABAg      0.0   \n",
       "\n",
       "                                                  comment  \\\n",
       "17      looks boring    even lead actress looks bored ...   \n",
       "18                                         things go bad🙈   \n",
       "19                                    masha bear spin off   \n",
       "20      sometime think kind people watch type movie  b...   \n",
       "21      boring another melodrama nonsense worst bear l...   \n",
       "...                                                   ...   \n",
       "369118                                    divergent music   \n",
       "369119  xmen fantastic four mcu please fox get life loser   \n",
       "369120                         tom meryl facu auci steven   \n",
       "369121                                      spielberg ftw   \n",
       "369166                                     baby back love   \n",
       "\n",
       "                        postedAt               publishedAt  \\\n",
       "17     2019-10-19 18:14:05+00:00 2019-10-09 09:22:08+00:00   \n",
       "18     2019-10-10 10:56:20+00:00 2019-10-09 09:22:08+00:00   \n",
       "19     2019-10-09 14:50:02+00:00 2019-10-09 09:22:08+00:00   \n",
       "20     2019-10-09 09:56:27+00:00 2019-10-09 09:22:08+00:00   \n",
       "21     2019-10-09 09:54:28+00:00 2019-10-09 09:22:08+00:00   \n",
       "...                          ...                       ...   \n",
       "369118 2017-11-08 05:36:54+00:00 2017-11-08 05:31:00+00:00   \n",
       "369119 2017-11-08 05:35:48+00:00 2017-11-08 05:31:00+00:00   \n",
       "369120 2017-11-08 05:31:47+00:00 2017-11-08 05:31:00+00:00   \n",
       "369121 2017-11-08 05:31:42+00:00 2017-11-08 05:31:00+00:00   \n",
       "369166 2018-01-25 00:35:39+00:00 2018-01-10 22:15:46+00:00   \n",
       "\n",
       "                      cutoffdate  \\\n",
       "17     2019-10-30 09:22:08+00:00   \n",
       "18     2019-10-30 09:22:08+00:00   \n",
       "19     2019-10-30 09:22:08+00:00   \n",
       "20     2019-10-30 09:22:08+00:00   \n",
       "21     2019-10-30 09:22:08+00:00   \n",
       "...                          ...   \n",
       "369118 2017-11-29 05:31:00+00:00   \n",
       "369119 2017-11-29 05:31:00+00:00   \n",
       "369120 2017-11-29 05:31:00+00:00   \n",
       "369121 2017-11-29 05:31:00+00:00   \n",
       "369166 2018-01-31 22:15:46+00:00   \n",
       "\n",
       "                                                    score  negative  neutral  \\\n",
       "17      {'neg': 0.228, 'neu': 0.379, 'pos': 0.393, 'co...     0.228    0.379   \n",
       "18      {'neg': 0.0, 'neu': 1.0, 'pos': 0.0, 'compound...     0.000    1.000   \n",
       "19      {'neg': 0.0, 'neu': 1.0, 'pos': 0.0, 'compound...     0.000    1.000   \n",
       "20      {'neg': 0.12, 'neu': 0.537, 'pos': 0.343, 'com...     0.120    0.537   \n",
       "21      {'neg': 0.397, 'neu': 0.513, 'pos': 0.09, 'com...     0.397    0.513   \n",
       "...                                                   ...       ...      ...   \n",
       "369118  {'neg': 0.0, 'neu': 1.0, 'pos': 0.0, 'compound...     0.000    1.000   \n",
       "369119  {'neg': 0.222, 'neu': 0.392, 'pos': 0.386, 'co...     0.222    0.392   \n",
       "369120  {'neg': 0.0, 'neu': 1.0, 'pos': 0.0, 'compound...     0.000    1.000   \n",
       "369121  {'neg': 0.0, 'neu': 0.25, 'pos': 0.75, 'compou...     0.000    0.250   \n",
       "369166  {'neg': 0.0, 'neu': 0.323, 'pos': 0.677, 'comp...     0.000    0.323   \n",
       "\n",
       "        positive  compound sentiment  \n",
       "17         0.393    0.8208  positive  \n",
       "18         0.000    0.0000   neutral  \n",
       "19         0.000    0.0000   neutral  \n",
       "20         0.343    0.8957  positive  \n",
       "21         0.090   -0.8625  negative  \n",
       "...          ...       ...       ...  \n",
       "369118     0.000    0.0000   neutral  \n",
       "369119     0.386    0.3612  positive  \n",
       "369120     0.000    0.0000   neutral  \n",
       "369121     0.750    0.4588  positive  \n",
       "369166     0.677    0.6369  positive  \n",
       "\n",
       "[187149 rows x 15 columns]"
      ]
     },
     "execution_count": 32,
     "metadata": {},
     "output_type": "execute_result"
    }
   ],
   "source": [
    "def polarity_score(compound):\n",
    "    if compound > 0.05:\n",
    "        return \"positive\"\n",
    "    elif compound < -0.5:\n",
    "        return \"negative\"\n",
    "    elif compound >= -0.05 and compound < 0.05:\n",
    "        return \"neutral\"\n",
    "\n",
    "comments['sentiment'] = comments['compound'].apply(lambda val: polarity_score(val))\n",
    "comments"
   ]
  },
  {
   "cell_type": "code",
   "execution_count": 33,
   "metadata": {},
   "outputs": [
    {
     "name": "stderr",
     "output_type": "stream",
     "text": [
      "/Library/Frameworks/Python.framework/Versions/3.10/lib/python3.10/site-packages/pandas/core/arraylike.py:396: RuntimeWarning:\n",
      "\n",
      "divide by zero encountered in log\n",
      "\n"
     ]
    },
    {
     "data": {
      "text/html": [
       "<div>\n",
       "<style scoped>\n",
       "    .dataframe tbody tr th:only-of-type {\n",
       "        vertical-align: middle;\n",
       "    }\n",
       "\n",
       "    .dataframe tbody tr th {\n",
       "        vertical-align: top;\n",
       "    }\n",
       "\n",
       "    .dataframe thead th {\n",
       "        text-align: right;\n",
       "    }\n",
       "</style>\n",
       "<table border=\"1\" class=\"dataframe\">\n",
       "  <thead>\n",
       "    <tr style=\"text-align: right;\">\n",
       "      <th></th>\n",
       "      <th>videoId</th>\n",
       "      <th>positive_sent</th>\n",
       "      <th>negative_sent</th>\n",
       "      <th>neutral_sent</th>\n",
       "      <th>total_comments</th>\n",
       "      <th>pos-neg</th>\n",
       "    </tr>\n",
       "  </thead>\n",
       "  <tbody>\n",
       "    <tr>\n",
       "      <th>0</th>\n",
       "      <td>-0FU8z_1Arc</td>\n",
       "      <td>25</td>\n",
       "      <td>3</td>\n",
       "      <td>17</td>\n",
       "      <td>48</td>\n",
       "      <td>2.929947</td>\n",
       "    </tr>\n",
       "    <tr>\n",
       "      <th>1</th>\n",
       "      <td>-3T78VfGyes</td>\n",
       "      <td>1</td>\n",
       "      <td>0</td>\n",
       "      <td>0</td>\n",
       "      <td>1</td>\n",
       "      <td>-0.000000</td>\n",
       "    </tr>\n",
       "    <tr>\n",
       "      <th>2</th>\n",
       "      <td>-9-HBqVbtTo</td>\n",
       "      <td>51</td>\n",
       "      <td>7</td>\n",
       "      <td>24</td>\n",
       "      <td>92</td>\n",
       "      <td>2.020559</td>\n",
       "    </tr>\n",
       "    <tr>\n",
       "      <th>3</th>\n",
       "      <td>-Denciie5oA</td>\n",
       "      <td>430</td>\n",
       "      <td>256</td>\n",
       "      <td>441</td>\n",
       "      <td>1291</td>\n",
       "      <td>1.093524</td>\n",
       "    </tr>\n",
       "    <tr>\n",
       "      <th>4</th>\n",
       "      <td>-LtCIImfSCk</td>\n",
       "      <td>244</td>\n",
       "      <td>42</td>\n",
       "      <td>145</td>\n",
       "      <td>476</td>\n",
       "      <td>1.470747</td>\n",
       "    </tr>\n",
       "    <tr>\n",
       "      <th>...</th>\n",
       "      <td>...</td>\n",
       "      <td>...</td>\n",
       "      <td>...</td>\n",
       "      <td>...</td>\n",
       "      <td>...</td>\n",
       "      <td>...</td>\n",
       "    </tr>\n",
       "    <tr>\n",
       "      <th>436</th>\n",
       "      <td>zRaUIPMq-u0</td>\n",
       "      <td>7</td>\n",
       "      <td>2</td>\n",
       "      <td>4</td>\n",
       "      <td>16</td>\n",
       "      <td>2.807355</td>\n",
       "    </tr>\n",
       "    <tr>\n",
       "      <th>437</th>\n",
       "      <td>zbwL8YMdQUE</td>\n",
       "      <td>5</td>\n",
       "      <td>0</td>\n",
       "      <td>2</td>\n",
       "      <td>7</td>\n",
       "      <td>-0.000000</td>\n",
       "    </tr>\n",
       "    <tr>\n",
       "      <th>438</th>\n",
       "      <td>zkHP4RXHzBg</td>\n",
       "      <td>9</td>\n",
       "      <td>1</td>\n",
       "      <td>3</td>\n",
       "      <td>14</td>\n",
       "      <td>inf</td>\n",
       "    </tr>\n",
       "    <tr>\n",
       "      <th>439</th>\n",
       "      <td>zo2V5CQMuJw</td>\n",
       "      <td>196</td>\n",
       "      <td>22</td>\n",
       "      <td>97</td>\n",
       "      <td>328</td>\n",
       "      <td>1.707552</td>\n",
       "    </tr>\n",
       "    <tr>\n",
       "      <th>440</th>\n",
       "      <td>zyYgDtY2AMY</td>\n",
       "      <td>1420</td>\n",
       "      <td>151</td>\n",
       "      <td>1244</td>\n",
       "      <td>3081</td>\n",
       "      <td>1.446683</td>\n",
       "    </tr>\n",
       "  </tbody>\n",
       "</table>\n",
       "<p>441 rows × 6 columns</p>\n",
       "</div>"
      ],
      "text/plain": [
       "         videoId  positive_sent  negative_sent  neutral_sent  total_comments  \\\n",
       "0    -0FU8z_1Arc             25              3            17              48   \n",
       "1    -3T78VfGyes              1              0             0               1   \n",
       "2    -9-HBqVbtTo             51              7            24              92   \n",
       "3    -Denciie5oA            430            256           441            1291   \n",
       "4    -LtCIImfSCk            244             42           145             476   \n",
       "..           ...            ...            ...           ...             ...   \n",
       "436  zRaUIPMq-u0              7              2             4              16   \n",
       "437  zbwL8YMdQUE              5              0             2               7   \n",
       "438  zkHP4RXHzBg              9              1             3              14   \n",
       "439  zo2V5CQMuJw            196             22            97             328   \n",
       "440  zyYgDtY2AMY           1420            151          1244            3081   \n",
       "\n",
       "      pos-neg  \n",
       "0    2.929947  \n",
       "1   -0.000000  \n",
       "2    2.020559  \n",
       "3    1.093524  \n",
       "4    1.470747  \n",
       "..        ...  \n",
       "436  2.807355  \n",
       "437 -0.000000  \n",
       "438       inf  \n",
       "439  1.707552  \n",
       "440  1.446683  \n",
       "\n",
       "[441 rows x 6 columns]"
      ]
     },
     "execution_count": 33,
     "metadata": {},
     "output_type": "execute_result"
    }
   ],
   "source": [
    "comments_ = comments.groupby('videoId').agg(\n",
    "    positive_sent = pd.NamedAgg('sentiment', aggfunc=lambda x: (x == 'positive').sum()),\n",
    "    negative_sent = pd.NamedAgg('sentiment', aggfunc=lambda x: (x == 'negative').sum()),\n",
    "    neutral_sent = pd.NamedAgg('sentiment', aggfunc=lambda x: (x == 'neutral').sum()),\n",
    "    total_comments = pd.NamedAgg('videoId', aggfunc='count')\n",
    ").reset_index(drop=False)\n",
    "\n",
    "comments_['pos-neg'] = np.log(comments_['positive_sent']) / np.log(comments_['negative_sent'])\n",
    "comments_"
   ]
  },
  {
   "cell_type": "code",
   "execution_count": 34,
   "metadata": {},
   "outputs": [
    {
     "data": {
      "text/html": [
       "<div>\n",
       "<style scoped>\n",
       "    .dataframe tbody tr th:only-of-type {\n",
       "        vertical-align: middle;\n",
       "    }\n",
       "\n",
       "    .dataframe tbody tr th {\n",
       "        vertical-align: top;\n",
       "    }\n",
       "\n",
       "    .dataframe thead th {\n",
       "        text-align: right;\n",
       "    }\n",
       "</style>\n",
       "<table border=\"1\" class=\"dataframe\">\n",
       "  <thead>\n",
       "    <tr style=\"text-align: right;\">\n",
       "      <th></th>\n",
       "      <th>VideoId</th>\n",
       "      <th>Topic</th>\n",
       "      <th>Probaibility</th>\n",
       "      <th>ReducedEmbeddings_x</th>\n",
       "      <th>ReducedEmbeddings_y</th>\n",
       "      <th>CustomName</th>\n",
       "      <th>videoId</th>\n",
       "      <th>title</th>\n",
       "    </tr>\n",
       "  </thead>\n",
       "  <tbody>\n",
       "    <tr>\n",
       "      <th>0</th>\n",
       "      <td>09zYzvKkCOA</td>\n",
       "      <td>6</td>\n",
       "      <td>0.960030</td>\n",
       "      <td>2.788041</td>\n",
       "      <td>2.322691</td>\n",
       "      <td>Inspirational True Stories</td>\n",
       "      <td>09zYzvKkCOA</td>\n",
       "      <td>Three Christs - Official Trailer I HD I IFC Films</td>\n",
       "    </tr>\n",
       "    <tr>\n",
       "      <th>1</th>\n",
       "      <td>Na6gA1RehsU</td>\n",
       "      <td>0</td>\n",
       "      <td>1.000000</td>\n",
       "      <td>7.812714</td>\n",
       "      <td>3.023268</td>\n",
       "      <td>Movie Trailers</td>\n",
       "      <td>Na6gA1RehsU</td>\n",
       "      <td>TÁR - Official Trailer [HD] - In Select Theate...</td>\n",
       "    </tr>\n",
       "    <tr>\n",
       "      <th>2</th>\n",
       "      <td>gSMxBLlA8qY</td>\n",
       "      <td>17</td>\n",
       "      <td>0.673917</td>\n",
       "      <td>5.310845</td>\n",
       "      <td>2.776821</td>\n",
       "      <td>True Crime Dramas</td>\n",
       "      <td>gSMxBLlA8qY</td>\n",
       "      <td>RICHARD JEWELL - Official Trailer [HD]</td>\n",
       "    </tr>\n",
       "    <tr>\n",
       "      <th>3</th>\n",
       "      <td>tSkv_sEyPSc</td>\n",
       "      <td>5</td>\n",
       "      <td>0.478666</td>\n",
       "      <td>5.177978</td>\n",
       "      <td>3.813516</td>\n",
       "      <td>Uncovering Painful Truths</td>\n",
       "      <td>tSkv_sEyPSc</td>\n",
       "      <td>MENDING THE LINE | Official Trailer</td>\n",
       "    </tr>\n",
       "    <tr>\n",
       "      <th>4</th>\n",
       "      <td>b6qSGKN42Gc</td>\n",
       "      <td>3</td>\n",
       "      <td>1.000000</td>\n",
       "      <td>2.385987</td>\n",
       "      <td>3.115065</td>\n",
       "      <td>Movies and their themes</td>\n",
       "      <td>b6qSGKN42Gc</td>\n",
       "      <td>SILO - Official Trailer - Oscilloscope Laborat...</td>\n",
       "    </tr>\n",
       "    <tr>\n",
       "      <th>...</th>\n",
       "      <td>...</td>\n",
       "      <td>...</td>\n",
       "      <td>...</td>\n",
       "      <td>...</td>\n",
       "      <td>...</td>\n",
       "      <td>...</td>\n",
       "      <td>...</td>\n",
       "      <td>...</td>\n",
       "    </tr>\n",
       "    <tr>\n",
       "      <th>549</th>\n",
       "      <td>WuClROtJCaw</td>\n",
       "      <td>6</td>\n",
       "      <td>1.000000</td>\n",
       "      <td>2.976135</td>\n",
       "      <td>2.231939</td>\n",
       "      <td>Inspirational True Stories</td>\n",
       "      <td>WuClROtJCaw</td>\n",
       "      <td>ANOTHER ROUND Trailer [HD] Mongrel Media</td>\n",
       "    </tr>\n",
       "    <tr>\n",
       "      <th>550</th>\n",
       "      <td>uYPbbksJxIg</td>\n",
       "      <td>18</td>\n",
       "      <td>0.591520</td>\n",
       "      <td>3.114096</td>\n",
       "      <td>4.091232</td>\n",
       "      <td>Emotional Journeys Through Life and History</td>\n",
       "      <td>uYPbbksJxIg</td>\n",
       "      <td>Oppenheimer | New Trailer</td>\n",
       "    </tr>\n",
       "    <tr>\n",
       "      <th>551</th>\n",
       "      <td>P_dfc0iqmig</td>\n",
       "      <td>0</td>\n",
       "      <td>1.000000</td>\n",
       "      <td>6.612958</td>\n",
       "      <td>2.591962</td>\n",
       "      <td>Movie Trailers</td>\n",
       "      <td>P_dfc0iqmig</td>\n",
       "      <td>Hustlers | Official Trailer [HD] | Own it Now ...</td>\n",
       "    </tr>\n",
       "    <tr>\n",
       "      <th>552</th>\n",
       "      <td>j5BnpaiMvO4</td>\n",
       "      <td>0</td>\n",
       "      <td>1.000000</td>\n",
       "      <td>8.060444</td>\n",
       "      <td>4.137704</td>\n",
       "      <td>Movie Trailers</td>\n",
       "      <td>j5BnpaiMvO4</td>\n",
       "      <td>MICKEY AND THE BEAR Trailer (2019) Drama Movie</td>\n",
       "    </tr>\n",
       "    <tr>\n",
       "      <th>553</th>\n",
       "      <td>FvQ8ieRAySY</td>\n",
       "      <td>0</td>\n",
       "      <td>1.000000</td>\n",
       "      <td>5.980517</td>\n",
       "      <td>2.840429</td>\n",
       "      <td>Movie Trailers</td>\n",
       "      <td>FvQ8ieRAySY</td>\n",
       "      <td>Love by Drowning Trailer</td>\n",
       "    </tr>\n",
       "  </tbody>\n",
       "</table>\n",
       "<p>554 rows × 8 columns</p>\n",
       "</div>"
      ],
      "text/plain": [
       "         VideoId  Topic  Probaibility  ReducedEmbeddings_x  \\\n",
       "0    09zYzvKkCOA      6      0.960030             2.788041   \n",
       "1    Na6gA1RehsU      0      1.000000             7.812714   \n",
       "2    gSMxBLlA8qY     17      0.673917             5.310845   \n",
       "3    tSkv_sEyPSc      5      0.478666             5.177978   \n",
       "4    b6qSGKN42Gc      3      1.000000             2.385987   \n",
       "..           ...    ...           ...                  ...   \n",
       "549  WuClROtJCaw      6      1.000000             2.976135   \n",
       "550  uYPbbksJxIg     18      0.591520             3.114096   \n",
       "551  P_dfc0iqmig      0      1.000000             6.612958   \n",
       "552  j5BnpaiMvO4      0      1.000000             8.060444   \n",
       "553  FvQ8ieRAySY      0      1.000000             5.980517   \n",
       "\n",
       "     ReducedEmbeddings_y                                   CustomName  \\\n",
       "0               2.322691                   Inspirational True Stories   \n",
       "1               3.023268                               Movie Trailers   \n",
       "2               2.776821                            True Crime Dramas   \n",
       "3               3.813516                    Uncovering Painful Truths   \n",
       "4               3.115065                      Movies and their themes   \n",
       "..                   ...                                          ...   \n",
       "549             2.231939                   Inspirational True Stories   \n",
       "550             4.091232  Emotional Journeys Through Life and History   \n",
       "551             2.591962                               Movie Trailers   \n",
       "552             4.137704                               Movie Trailers   \n",
       "553             2.840429                               Movie Trailers   \n",
       "\n",
       "         videoId                                              title  \n",
       "0    09zYzvKkCOA  Three Christs - Official Trailer I HD I IFC Films  \n",
       "1    Na6gA1RehsU  TÁR - Official Trailer [HD] - In Select Theate...  \n",
       "2    gSMxBLlA8qY             RICHARD JEWELL - Official Trailer [HD]  \n",
       "3    tSkv_sEyPSc                MENDING THE LINE | Official Trailer  \n",
       "4    b6qSGKN42Gc  SILO - Official Trailer - Oscilloscope Laborat...  \n",
       "..           ...                                                ...  \n",
       "549  WuClROtJCaw           ANOTHER ROUND Trailer [HD] Mongrel Media  \n",
       "550  uYPbbksJxIg                          Oppenheimer | New Trailer  \n",
       "551  P_dfc0iqmig  Hustlers | Official Trailer [HD] | Own it Now ...  \n",
       "552  j5BnpaiMvO4     MICKEY AND THE BEAR Trailer (2019) Drama Movie  \n",
       "553  FvQ8ieRAySY                           Love by Drowning Trailer  \n",
       "\n",
       "[554 rows x 8 columns]"
      ]
     },
     "execution_count": 34,
     "metadata": {},
     "output_type": "execute_result"
    }
   ],
   "source": [
    "video_description = pd.read_csv(path+'/Data/Video Description/videoDescription.csv').drop_duplicates()\n",
    "video_description['publishedAt'] = pd.to_datetime(video_description['publishedAt'])\n",
    "\n",
    "topic_classification = topic_classification.merge(iden_tpoics[['Topic', 'CustomName']], left_on='Topic', right_on='Topic', how='left')\n",
    "topic_classification = topic_classification.merge(video_description[['videoId', 'title']], left_on='VideoId', right_on='videoId', how='left')\n",
    "topic_classification_passer = topic_classification.copy()\n",
    "topic_classification"
   ]
  },
  {
   "cell_type": "code",
   "execution_count": 35,
   "metadata": {},
   "outputs": [
    {
     "data": {
      "text/html": [
       "<div>\n",
       "<style scoped>\n",
       "    .dataframe tbody tr th:only-of-type {\n",
       "        vertical-align: middle;\n",
       "    }\n",
       "\n",
       "    .dataframe tbody tr th {\n",
       "        vertical-align: top;\n",
       "    }\n",
       "\n",
       "    .dataframe thead th {\n",
       "        text-align: right;\n",
       "    }\n",
       "</style>\n",
       "<table border=\"1\" class=\"dataframe\">\n",
       "  <thead>\n",
       "    <tr style=\"text-align: right;\">\n",
       "      <th></th>\n",
       "      <th>VideoId</th>\n",
       "      <th>Topic</th>\n",
       "      <th>Probaibility</th>\n",
       "      <th>ReducedEmbeddings_x</th>\n",
       "      <th>ReducedEmbeddings_y</th>\n",
       "      <th>CustomName</th>\n",
       "      <th>videoId_x</th>\n",
       "      <th>title</th>\n",
       "      <th>videoId_y</th>\n",
       "      <th>positive_sent</th>\n",
       "      <th>negative_sent</th>\n",
       "      <th>neutral_sent</th>\n",
       "      <th>total_comments</th>\n",
       "      <th>pos-neg</th>\n",
       "      <th>ReducedEmbeddings</th>\n",
       "      <th>OpenAIGeneratedDescription</th>\n",
       "    </tr>\n",
       "  </thead>\n",
       "  <tbody>\n",
       "    <tr>\n",
       "      <th>0</th>\n",
       "      <td>Na6gA1RehsU</td>\n",
       "      <td>0</td>\n",
       "      <td>1.000000</td>\n",
       "      <td>7.812714</td>\n",
       "      <td>3.023268</td>\n",
       "      <td>Movie Trailers</td>\n",
       "      <td>Na6gA1RehsU</td>\n",
       "      <td>TÁR - Official Trailer [HD] - In Select Theate...</td>\n",
       "      <td>Na6gA1RehsU</td>\n",
       "      <td>102.0</td>\n",
       "      <td>13.0</td>\n",
       "      <td>48.0</td>\n",
       "      <td>179.0</td>\n",
       "      <td>1.803144</td>\n",
       "      <td>[7.812714, 3.0232685]</td>\n",
       "      <td>TÁR is a captivating and visually stunning fil...</td>\n",
       "    </tr>\n",
       "    <tr>\n",
       "      <th>1</th>\n",
       "      <td>gSMxBLlA8qY</td>\n",
       "      <td>17</td>\n",
       "      <td>0.673917</td>\n",
       "      <td>5.310845</td>\n",
       "      <td>2.776821</td>\n",
       "      <td>True Crime Dramas</td>\n",
       "      <td>gSMxBLlA8qY</td>\n",
       "      <td>RICHARD JEWELL - Official Trailer [HD]</td>\n",
       "      <td>gSMxBLlA8qY</td>\n",
       "      <td>471.0</td>\n",
       "      <td>193.0</td>\n",
       "      <td>273.0</td>\n",
       "      <td>1086.0</td>\n",
       "      <td>1.169527</td>\n",
       "      <td>[5.310845, 2.7768207]</td>\n",
       "      <td>In the upcoming film \"Richard Jewell,\" directe...</td>\n",
       "    </tr>\n",
       "    <tr>\n",
       "      <th>2</th>\n",
       "      <td>nrXlY6gzTTM</td>\n",
       "      <td>20</td>\n",
       "      <td>0.312142</td>\n",
       "      <td>1.904737</td>\n",
       "      <td>2.963583</td>\n",
       "      <td>True stories of historical figures</td>\n",
       "      <td>nrXlY6gzTTM</td>\n",
       "      <td>The Post | Official Trailer [HD] | 20th Centur...</td>\n",
       "      <td>nrXlY6gzTTM</td>\n",
       "      <td>371.0</td>\n",
       "      <td>55.0</td>\n",
       "      <td>254.0</td>\n",
       "      <td>764.0</td>\n",
       "      <td>1.476344</td>\n",
       "      <td>[1.9047374, 2.963583]</td>\n",
       "      <td>In this thrilling drama, legendary filmmaker S...</td>\n",
       "    </tr>\n",
       "    <tr>\n",
       "      <th>3</th>\n",
       "      <td>XFYWazblaUA</td>\n",
       "      <td>18</td>\n",
       "      <td>0.760441</td>\n",
       "      <td>2.787400</td>\n",
       "      <td>3.801875</td>\n",
       "      <td>Emotional Journeys Through Life and History</td>\n",
       "      <td>XFYWazblaUA</td>\n",
       "      <td>THE SHAPE OF WATER | Official Trailer | FOX Se...</td>\n",
       "      <td>XFYWazblaUA</td>\n",
       "      <td>1181.0</td>\n",
       "      <td>224.0</td>\n",
       "      <td>1168.0</td>\n",
       "      <td>2826.0</td>\n",
       "      <td>1.307202</td>\n",
       "      <td>[2.7874, 3.8018749]</td>\n",
       "      <td>Introducing \"The Shape of Water,\" a captivatin...</td>\n",
       "    </tr>\n",
       "    <tr>\n",
       "      <th>4</th>\n",
       "      <td>-Denciie5oA</td>\n",
       "      <td>3</td>\n",
       "      <td>0.990479</td>\n",
       "      <td>2.245054</td>\n",
       "      <td>2.972476</td>\n",
       "      <td>Movies and their themes</td>\n",
       "      <td>-Denciie5oA</td>\n",
       "      <td>12 STRONG - Official Trailer</td>\n",
       "      <td>-Denciie5oA</td>\n",
       "      <td>430.0</td>\n",
       "      <td>256.0</td>\n",
       "      <td>441.0</td>\n",
       "      <td>1291.0</td>\n",
       "      <td>1.093524</td>\n",
       "      <td>[2.245054, 2.9724758]</td>\n",
       "      <td>Get ready for an intense and action-packed rid...</td>\n",
       "    </tr>\n",
       "    <tr>\n",
       "      <th>...</th>\n",
       "      <td>...</td>\n",
       "      <td>...</td>\n",
       "      <td>...</td>\n",
       "      <td>...</td>\n",
       "      <td>...</td>\n",
       "      <td>...</td>\n",
       "      <td>...</td>\n",
       "      <td>...</td>\n",
       "      <td>...</td>\n",
       "      <td>...</td>\n",
       "      <td>...</td>\n",
       "      <td>...</td>\n",
       "      <td>...</td>\n",
       "      <td>...</td>\n",
       "      <td>...</td>\n",
       "      <td>...</td>\n",
       "    </tr>\n",
       "    <tr>\n",
       "      <th>240</th>\n",
       "      <td>AHmCH7iB_IM</td>\n",
       "      <td>0</td>\n",
       "      <td>1.000000</td>\n",
       "      <td>6.514732</td>\n",
       "      <td>2.210091</td>\n",
       "      <td>Movie Trailers</td>\n",
       "      <td>AHmCH7iB_IM</td>\n",
       "      <td>CREED III | Official Trailer</td>\n",
       "      <td>AHmCH7iB_IM</td>\n",
       "      <td>2989.0</td>\n",
       "      <td>335.0</td>\n",
       "      <td>3017.0</td>\n",
       "      <td>7011.0</td>\n",
       "      <td>1.376421</td>\n",
       "      <td>[6.514732, 2.2100906]</td>\n",
       "      <td>In the official trailer for \"Creed III,\" direc...</td>\n",
       "    </tr>\n",
       "    <tr>\n",
       "      <th>241</th>\n",
       "      <td>bRDuc3IdOn8</td>\n",
       "      <td>15</td>\n",
       "      <td>1.000000</td>\n",
       "      <td>6.107909</td>\n",
       "      <td>3.331384</td>\n",
       "      <td>Mystery and Suspense Movies</td>\n",
       "      <td>bRDuc3IdOn8</td>\n",
       "      <td>The Painted Bird - Official Trailer I HD I IFC...</td>\n",
       "      <td>bRDuc3IdOn8</td>\n",
       "      <td>17.0</td>\n",
       "      <td>3.0</td>\n",
       "      <td>4.0</td>\n",
       "      <td>27.0</td>\n",
       "      <td>2.578902</td>\n",
       "      <td>[6.1079087, 3.331384]</td>\n",
       "      <td>Experience the gripping and visually stunning ...</td>\n",
       "    </tr>\n",
       "    <tr>\n",
       "      <th>242</th>\n",
       "      <td>eYfKlNBLLeQ</td>\n",
       "      <td>22</td>\n",
       "      <td>0.671339</td>\n",
       "      <td>4.078673</td>\n",
       "      <td>2.577462</td>\n",
       "      <td>Emotional Journeys</td>\n",
       "      <td>eYfKlNBLLeQ</td>\n",
       "      <td>Little Joe - Official Trailer</td>\n",
       "      <td>eYfKlNBLLeQ</td>\n",
       "      <td>12.0</td>\n",
       "      <td>3.0</td>\n",
       "      <td>9.0</td>\n",
       "      <td>26.0</td>\n",
       "      <td>2.261860</td>\n",
       "      <td>[4.078673, 2.577462]</td>\n",
       "      <td>In the movie trailer for \"Little Joe,\" we are ...</td>\n",
       "    </tr>\n",
       "    <tr>\n",
       "      <th>243</th>\n",
       "      <td>uYPbbksJxIg</td>\n",
       "      <td>18</td>\n",
       "      <td>0.591520</td>\n",
       "      <td>3.114096</td>\n",
       "      <td>4.091232</td>\n",
       "      <td>Emotional Journeys Through Life and History</td>\n",
       "      <td>uYPbbksJxIg</td>\n",
       "      <td>Oppenheimer | New Trailer</td>\n",
       "      <td>uYPbbksJxIg</td>\n",
       "      <td>4537.0</td>\n",
       "      <td>2017.0</td>\n",
       "      <td>5287.0</td>\n",
       "      <td>13348.0</td>\n",
       "      <td>1.106534</td>\n",
       "      <td>[3.1140964, 4.091232]</td>\n",
       "      <td>Get ready for a thrilling journey through hist...</td>\n",
       "    </tr>\n",
       "    <tr>\n",
       "      <th>244</th>\n",
       "      <td>P_dfc0iqmig</td>\n",
       "      <td>0</td>\n",
       "      <td>1.000000</td>\n",
       "      <td>6.612958</td>\n",
       "      <td>2.591962</td>\n",
       "      <td>Movie Trailers</td>\n",
       "      <td>P_dfc0iqmig</td>\n",
       "      <td>Hustlers | Official Trailer [HD] | Own it Now ...</td>\n",
       "      <td>P_dfc0iqmig</td>\n",
       "      <td>62.0</td>\n",
       "      <td>9.0</td>\n",
       "      <td>49.0</td>\n",
       "      <td>133.0</td>\n",
       "      <td>1.878340</td>\n",
       "      <td>[6.612958, 2.591962]</td>\n",
       "      <td>Hustlers is a captivating film based on a true...</td>\n",
       "    </tr>\n",
       "  </tbody>\n",
       "</table>\n",
       "<p>245 rows × 16 columns</p>\n",
       "</div>"
      ],
      "text/plain": [
       "         VideoId  Topic  Probaibility  ReducedEmbeddings_x  \\\n",
       "0    Na6gA1RehsU      0      1.000000             7.812714   \n",
       "1    gSMxBLlA8qY     17      0.673917             5.310845   \n",
       "2    nrXlY6gzTTM     20      0.312142             1.904737   \n",
       "3    XFYWazblaUA     18      0.760441             2.787400   \n",
       "4    -Denciie5oA      3      0.990479             2.245054   \n",
       "..           ...    ...           ...                  ...   \n",
       "240  AHmCH7iB_IM      0      1.000000             6.514732   \n",
       "241  bRDuc3IdOn8     15      1.000000             6.107909   \n",
       "242  eYfKlNBLLeQ     22      0.671339             4.078673   \n",
       "243  uYPbbksJxIg     18      0.591520             3.114096   \n",
       "244  P_dfc0iqmig      0      1.000000             6.612958   \n",
       "\n",
       "     ReducedEmbeddings_y                                   CustomName  \\\n",
       "0               3.023268                               Movie Trailers   \n",
       "1               2.776821                            True Crime Dramas   \n",
       "2               2.963583           True stories of historical figures   \n",
       "3               3.801875  Emotional Journeys Through Life and History   \n",
       "4               2.972476                      Movies and their themes   \n",
       "..                   ...                                          ...   \n",
       "240             2.210091                               Movie Trailers   \n",
       "241             3.331384                  Mystery and Suspense Movies   \n",
       "242             2.577462                           Emotional Journeys   \n",
       "243             4.091232  Emotional Journeys Through Life and History   \n",
       "244             2.591962                               Movie Trailers   \n",
       "\n",
       "       videoId_x                                              title  \\\n",
       "0    Na6gA1RehsU  TÁR - Official Trailer [HD] - In Select Theate...   \n",
       "1    gSMxBLlA8qY             RICHARD JEWELL - Official Trailer [HD]   \n",
       "2    nrXlY6gzTTM  The Post | Official Trailer [HD] | 20th Centur...   \n",
       "3    XFYWazblaUA  THE SHAPE OF WATER | Official Trailer | FOX Se...   \n",
       "4    -Denciie5oA                       12 STRONG - Official Trailer   \n",
       "..           ...                                                ...   \n",
       "240  AHmCH7iB_IM                       CREED III | Official Trailer   \n",
       "241  bRDuc3IdOn8  The Painted Bird - Official Trailer I HD I IFC...   \n",
       "242  eYfKlNBLLeQ                      Little Joe - Official Trailer   \n",
       "243  uYPbbksJxIg                          Oppenheimer | New Trailer   \n",
       "244  P_dfc0iqmig  Hustlers | Official Trailer [HD] | Own it Now ...   \n",
       "\n",
       "       videoId_y  positive_sent  negative_sent  neutral_sent  total_comments  \\\n",
       "0    Na6gA1RehsU          102.0           13.0          48.0           179.0   \n",
       "1    gSMxBLlA8qY          471.0          193.0         273.0          1086.0   \n",
       "2    nrXlY6gzTTM          371.0           55.0         254.0           764.0   \n",
       "3    XFYWazblaUA         1181.0          224.0        1168.0          2826.0   \n",
       "4    -Denciie5oA          430.0          256.0         441.0          1291.0   \n",
       "..           ...            ...            ...           ...             ...   \n",
       "240  AHmCH7iB_IM         2989.0          335.0        3017.0          7011.0   \n",
       "241  bRDuc3IdOn8           17.0            3.0           4.0            27.0   \n",
       "242  eYfKlNBLLeQ           12.0            3.0           9.0            26.0   \n",
       "243  uYPbbksJxIg         4537.0         2017.0        5287.0         13348.0   \n",
       "244  P_dfc0iqmig           62.0            9.0          49.0           133.0   \n",
       "\n",
       "      pos-neg      ReducedEmbeddings  \\\n",
       "0    1.803144  [7.812714, 3.0232685]   \n",
       "1    1.169527  [5.310845, 2.7768207]   \n",
       "2    1.476344  [1.9047374, 2.963583]   \n",
       "3    1.307202    [2.7874, 3.8018749]   \n",
       "4    1.093524  [2.245054, 2.9724758]   \n",
       "..        ...                    ...   \n",
       "240  1.376421  [6.514732, 2.2100906]   \n",
       "241  2.578902  [6.1079087, 3.331384]   \n",
       "242  2.261860   [4.078673, 2.577462]   \n",
       "243  1.106534  [3.1140964, 4.091232]   \n",
       "244  1.878340   [6.612958, 2.591962]   \n",
       "\n",
       "                            OpenAIGeneratedDescription  \n",
       "0    TÁR is a captivating and visually stunning fil...  \n",
       "1    In the upcoming film \"Richard Jewell,\" directe...  \n",
       "2    In this thrilling drama, legendary filmmaker S...  \n",
       "3    Introducing \"The Shape of Water,\" a captivatin...  \n",
       "4    Get ready for an intense and action-packed rid...  \n",
       "..                                                 ...  \n",
       "240  In the official trailer for \"Creed III,\" direc...  \n",
       "241  Experience the gripping and visually stunning ...  \n",
       "242  In the movie trailer for \"Little Joe,\" we are ...  \n",
       "243  Get ready for a thrilling journey through hist...  \n",
       "244  Hustlers is a captivating film based on a true...  \n",
       "\n",
       "[245 rows x 16 columns]"
      ]
     },
     "execution_count": 35,
     "metadata": {},
     "output_type": "execute_result"
    }
   ],
   "source": [
    "comments_ = comments_.loc[comments_['pos-neg'] != np.inf]\n",
    "final = topic_classification.merge(comments_, left_on='VideoId', right_on='videoId', how='left')\n",
    "final = final.loc[final['pos-neg'] > 0]\n",
    "final['ReducedEmbeddings'] = [[i, j] for i, j in zip(final['ReducedEmbeddings_x'], final['ReducedEmbeddings_y'])]\n",
    "\n",
    "generated_description = pd.read_csv(path+'/Data/Processed/ProcessedVideoDescription.csv',  sep='|', lineterminator='%')\n",
    "generated_description = generated_description.sort_values('CreatedTime', ascending=False).drop_duplicates('VideoId', keep='first').reset_index(drop=True)\n",
    "final = final.merge(generated_description[['VideoId', 'OpenAIGeneratedDescription', ]], left_on='VideoId', right_on='VideoId', how='left')\n",
    "final"
   ]
  },
  {
   "cell_type": "code",
   "execution_count": 60,
   "metadata": {},
   "outputs": [
    {
     "data": {
      "text/html": [
       "<div>\n",
       "<style scoped>\n",
       "    .dataframe tbody tr th:only-of-type {\n",
       "        vertical-align: middle;\n",
       "    }\n",
       "\n",
       "    .dataframe tbody tr th {\n",
       "        vertical-align: top;\n",
       "    }\n",
       "\n",
       "    .dataframe thead th {\n",
       "        text-align: right;\n",
       "    }\n",
       "</style>\n",
       "<table border=\"1\" class=\"dataframe\">\n",
       "  <thead>\n",
       "    <tr style=\"text-align: right;\">\n",
       "      <th></th>\n",
       "      <th>VideoId</th>\n",
       "      <th>Topic</th>\n",
       "      <th>Probaibility</th>\n",
       "      <th>ReducedEmbeddings_x</th>\n",
       "      <th>ReducedEmbeddings_y</th>\n",
       "      <th>CustomName</th>\n",
       "      <th>videoId_x</th>\n",
       "      <th>title</th>\n",
       "      <th>videoId_y</th>\n",
       "      <th>positive_sent</th>\n",
       "      <th>negative_sent</th>\n",
       "      <th>neutral_sent</th>\n",
       "      <th>total_comments</th>\n",
       "      <th>pos-neg</th>\n",
       "      <th>ReducedEmbeddings</th>\n",
       "      <th>OpenAIGeneratedDescription</th>\n",
       "    </tr>\n",
       "  </thead>\n",
       "  <tbody>\n",
       "    <tr>\n",
       "      <th>55</th>\n",
       "      <td>ZKxzlNE9_7Y</td>\n",
       "      <td>19</td>\n",
       "      <td>1.000000</td>\n",
       "      <td>4.070899</td>\n",
       "      <td>3.361918</td>\n",
       "      <td>Movie Synopses</td>\n",
       "      <td>ZKxzlNE9_7Y</td>\n",
       "      <td>The Breadwinner [Official US Trailer]</td>\n",
       "      <td>ZKxzlNE9_7Y</td>\n",
       "      <td>8.0</td>\n",
       "      <td>5.0</td>\n",
       "      <td>4.0</td>\n",
       "      <td>18.0</td>\n",
       "      <td>1.292030</td>\n",
       "      <td>[4.0708985, 3.3619175]</td>\n",
       "      <td>In a world fraught with darkness, one young gi...</td>\n",
       "    </tr>\n",
       "    <tr>\n",
       "      <th>152</th>\n",
       "      <td>Q9hNIzP6ycM</td>\n",
       "      <td>19</td>\n",
       "      <td>1.000000</td>\n",
       "      <td>4.177200</td>\n",
       "      <td>3.486436</td>\n",
       "      <td>Movie Synopses</td>\n",
       "      <td>Q9hNIzP6ycM</td>\n",
       "      <td>Joe Bell  | Official Trailer  |  In Theaters J...</td>\n",
       "      <td>Q9hNIzP6ycM</td>\n",
       "      <td>52.0</td>\n",
       "      <td>13.0</td>\n",
       "      <td>19.0</td>\n",
       "      <td>93.0</td>\n",
       "      <td>1.540476</td>\n",
       "      <td>[4.1772003, 3.486436]</td>\n",
       "      <td>In the bustling streets of New York City, a yo...</td>\n",
       "    </tr>\n",
       "    <tr>\n",
       "      <th>232</th>\n",
       "      <td>5RR8WTQzwSk</td>\n",
       "      <td>19</td>\n",
       "      <td>0.881466</td>\n",
       "      <td>4.109355</td>\n",
       "      <td>3.507395</td>\n",
       "      <td>Movie Synopses</td>\n",
       "      <td>5RR8WTQzwSk</td>\n",
       "      <td>Honey Boy - Official Trailer | Amazon Studios</td>\n",
       "      <td>5RR8WTQzwSk</td>\n",
       "      <td>107.0</td>\n",
       "      <td>8.0</td>\n",
       "      <td>93.0</td>\n",
       "      <td>223.0</td>\n",
       "      <td>2.247156</td>\n",
       "      <td>[4.1093554, 3.5073946]</td>\n",
       "      <td>In this heartwarming and inspiring film, we fo...</td>\n",
       "    </tr>\n",
       "  </tbody>\n",
       "</table>\n",
       "</div>"
      ],
      "text/plain": [
       "         VideoId  Topic  Probaibility  ReducedEmbeddings_x  \\\n",
       "55   ZKxzlNE9_7Y     19      1.000000             4.070899   \n",
       "152  Q9hNIzP6ycM     19      1.000000             4.177200   \n",
       "232  5RR8WTQzwSk     19      0.881466             4.109355   \n",
       "\n",
       "     ReducedEmbeddings_y      CustomName    videoId_x  \\\n",
       "55              3.361918  Movie Synopses  ZKxzlNE9_7Y   \n",
       "152             3.486436  Movie Synopses  Q9hNIzP6ycM   \n",
       "232             3.507395  Movie Synopses  5RR8WTQzwSk   \n",
       "\n",
       "                                                 title    videoId_y  \\\n",
       "55               The Breadwinner [Official US Trailer]  ZKxzlNE9_7Y   \n",
       "152  Joe Bell  | Official Trailer  |  In Theaters J...  Q9hNIzP6ycM   \n",
       "232      Honey Boy - Official Trailer | Amazon Studios  5RR8WTQzwSk   \n",
       "\n",
       "     positive_sent  negative_sent  neutral_sent  total_comments   pos-neg  \\\n",
       "55             8.0            5.0           4.0            18.0  1.292030   \n",
       "152           52.0           13.0          19.0            93.0  1.540476   \n",
       "232          107.0            8.0          93.0           223.0  2.247156   \n",
       "\n",
       "          ReducedEmbeddings                         OpenAIGeneratedDescription  \n",
       "55   [4.0708985, 3.3619175]  In a world fraught with darkness, one young gi...  \n",
       "152   [4.1772003, 3.486436]  In the bustling streets of New York City, a yo...  \n",
       "232  [4.1093554, 3.5073946]  In this heartwarming and inspiring film, we fo...  "
      ]
     },
     "execution_count": 60,
     "metadata": {},
     "output_type": "execute_result"
    }
   ],
   "source": [
    "final.loc[final['CustomName'] == 'Movie Synopses']"
   ]
  },
  {
   "cell_type": "code",
   "execution_count": 56,
   "metadata": {},
   "outputs": [
    {
     "data": {
      "text/html": [
       "<div>\n",
       "<style scoped>\n",
       "    .dataframe tbody tr th:only-of-type {\n",
       "        vertical-align: middle;\n",
       "    }\n",
       "\n",
       "    .dataframe tbody tr th {\n",
       "        vertical-align: top;\n",
       "    }\n",
       "\n",
       "    .dataframe thead th {\n",
       "        text-align: right;\n",
       "    }\n",
       "</style>\n",
       "<table border=\"1\" class=\"dataframe\">\n",
       "  <thead>\n",
       "    <tr style=\"text-align: right;\">\n",
       "      <th></th>\n",
       "      <th>CustomName</th>\n",
       "      <th>avg_pos_neg</th>\n",
       "      <th>count</th>\n",
       "    </tr>\n",
       "  </thead>\n",
       "  <tbody>\n",
       "    <tr>\n",
       "      <th>13</th>\n",
       "      <td>Romantic Comedies</td>\n",
       "      <td>1.855767</td>\n",
       "      <td>118.0</td>\n",
       "    </tr>\n",
       "    <tr>\n",
       "      <th>3</th>\n",
       "      <td>Adoption and Family Dynamics</td>\n",
       "      <td>2.452994</td>\n",
       "      <td>129.0</td>\n",
       "    </tr>\n",
       "    <tr>\n",
       "      <th>20</th>\n",
       "      <td>Movie Synopses</td>\n",
       "      <td>1.693221</td>\n",
       "      <td>334.0</td>\n",
       "    </tr>\n",
       "    <tr>\n",
       "      <th>26</th>\n",
       "      <td>Movies and their stars</td>\n",
       "      <td>1.544845</td>\n",
       "      <td>411.0</td>\n",
       "    </tr>\n",
       "    <tr>\n",
       "      <th>21</th>\n",
       "      <td>Innovators and Their Dreams</td>\n",
       "      <td>1.690528</td>\n",
       "      <td>425.0</td>\n",
       "    </tr>\n",
       "    <tr>\n",
       "      <th>1</th>\n",
       "      <td>Emotional Journeys</td>\n",
       "      <td>2.725802</td>\n",
       "      <td>489.0</td>\n",
       "    </tr>\n",
       "    <tr>\n",
       "      <th>0</th>\n",
       "      <td>Movies and Literature</td>\n",
       "      <td>3.814640</td>\n",
       "      <td>504.0</td>\n",
       "    </tr>\n",
       "    <tr>\n",
       "      <th>12</th>\n",
       "      <td>Heartwarming Friendship Stories</td>\n",
       "      <td>1.892559</td>\n",
       "      <td>1015.0</td>\n",
       "    </tr>\n",
       "    <tr>\n",
       "      <th>16</th>\n",
       "      <td>Uncovering Painful Truths</td>\n",
       "      <td>1.813434</td>\n",
       "      <td>1497.0</td>\n",
       "    </tr>\n",
       "    <tr>\n",
       "      <th>27</th>\n",
       "      <td>Biographies and Historical Dramas</td>\n",
       "      <td>1.428354</td>\n",
       "      <td>2040.0</td>\n",
       "    </tr>\n",
       "    <tr>\n",
       "      <th>23</th>\n",
       "      <td>True stories of historical figures</td>\n",
       "      <td>1.640802</td>\n",
       "      <td>2088.0</td>\n",
       "    </tr>\n",
       "    <tr>\n",
       "      <th>11</th>\n",
       "      <td>Romantic Dramas</td>\n",
       "      <td>1.893138</td>\n",
       "      <td>2671.0</td>\n",
       "    </tr>\n",
       "    <tr>\n",
       "      <th>2</th>\n",
       "      <td>Heartwarming Movie Releases</td>\n",
       "      <td>2.554119</td>\n",
       "      <td>2992.0</td>\n",
       "    </tr>\n",
       "    <tr>\n",
       "      <th>6</th>\n",
       "      <td>Mystery and Suspense Movies</td>\n",
       "      <td>2.070803</td>\n",
       "      <td>3596.0</td>\n",
       "    </tr>\n",
       "    <tr>\n",
       "      <th>17</th>\n",
       "      <td>Movie Previews</td>\n",
       "      <td>1.756224</td>\n",
       "      <td>3748.0</td>\n",
       "    </tr>\n",
       "    <tr>\n",
       "      <th>22</th>\n",
       "      <td>Movies and TV shows based on trailers</td>\n",
       "      <td>1.690196</td>\n",
       "      <td>3912.0</td>\n",
       "    </tr>\n",
       "    <tr>\n",
       "      <th>8</th>\n",
       "      <td>Religious Journeys and Self-Discovery</td>\n",
       "      <td>2.036435</td>\n",
       "      <td>3925.0</td>\n",
       "    </tr>\n",
       "    <tr>\n",
       "      <th>25</th>\n",
       "      <td>True Crime Dramas</td>\n",
       "      <td>1.614092</td>\n",
       "      <td>4046.0</td>\n",
       "    </tr>\n",
       "    <tr>\n",
       "      <th>4</th>\n",
       "      <td>Movies and their themes</td>\n",
       "      <td>2.443176</td>\n",
       "      <td>4676.0</td>\n",
       "    </tr>\n",
       "    <tr>\n",
       "      <th>7</th>\n",
       "      <td>Love and Loss Emotional Journeys</td>\n",
       "      <td>2.037886</td>\n",
       "      <td>5725.0</td>\n",
       "    </tr>\n",
       "    <tr>\n",
       "      <th>15</th>\n",
       "      <td>Coming-of-age films</td>\n",
       "      <td>1.813683</td>\n",
       "      <td>6105.0</td>\n",
       "    </tr>\n",
       "    <tr>\n",
       "      <th>18</th>\n",
       "      <td>Inspirational True Stories</td>\n",
       "      <td>1.750015</td>\n",
       "      <td>6927.0</td>\n",
       "    </tr>\n",
       "    <tr>\n",
       "      <th>19</th>\n",
       "      <td>Mafia and Organized Crime</td>\n",
       "      <td>1.715849</td>\n",
       "      <td>7342.0</td>\n",
       "    </tr>\n",
       "    <tr>\n",
       "      <th>28</th>\n",
       "      <td>Horror and Ghost Stories</td>\n",
       "      <td>1.207589</td>\n",
       "      <td>8472.0</td>\n",
       "    </tr>\n",
       "    <tr>\n",
       "      <th>5</th>\n",
       "      <td>Legendary Athletes in Film</td>\n",
       "      <td>2.421624</td>\n",
       "      <td>9182.0</td>\n",
       "    </tr>\n",
       "    <tr>\n",
       "      <th>24</th>\n",
       "      <td>Empowering Stories of Resilience</td>\n",
       "      <td>1.631887</td>\n",
       "      <td>11485.0</td>\n",
       "    </tr>\n",
       "    <tr>\n",
       "      <th>14</th>\n",
       "      <td>Movies and Truth</td>\n",
       "      <td>1.849617</td>\n",
       "      <td>11606.0</td>\n",
       "    </tr>\n",
       "    <tr>\n",
       "      <th>10</th>\n",
       "      <td>Emotional Journeys Through Life and History</td>\n",
       "      <td>1.957723</td>\n",
       "      <td>16191.0</td>\n",
       "    </tr>\n",
       "    <tr>\n",
       "      <th>9</th>\n",
       "      <td>Movie Trailers</td>\n",
       "      <td>1.973527</td>\n",
       "      <td>63574.0</td>\n",
       "    </tr>\n",
       "  </tbody>\n",
       "</table>\n",
       "</div>"
      ],
      "text/plain": [
       "                                     CustomName  avg_pos_neg    count\n",
       "13                            Romantic Comedies     1.855767    118.0\n",
       "3                  Adoption and Family Dynamics     2.452994    129.0\n",
       "20                               Movie Synopses     1.693221    334.0\n",
       "26                       Movies and their stars     1.544845    411.0\n",
       "21                  Innovators and Their Dreams     1.690528    425.0\n",
       "1                            Emotional Journeys     2.725802    489.0\n",
       "0                         Movies and Literature     3.814640    504.0\n",
       "12              Heartwarming Friendship Stories     1.892559   1015.0\n",
       "16                    Uncovering Painful Truths     1.813434   1497.0\n",
       "27            Biographies and Historical Dramas     1.428354   2040.0\n",
       "23           True stories of historical figures     1.640802   2088.0\n",
       "11                              Romantic Dramas     1.893138   2671.0\n",
       "2                   Heartwarming Movie Releases     2.554119   2992.0\n",
       "6                   Mystery and Suspense Movies     2.070803   3596.0\n",
       "17                               Movie Previews     1.756224   3748.0\n",
       "22        Movies and TV shows based on trailers     1.690196   3912.0\n",
       "8         Religious Journeys and Self-Discovery     2.036435   3925.0\n",
       "25                            True Crime Dramas     1.614092   4046.0\n",
       "4                       Movies and their themes     2.443176   4676.0\n",
       "7              Love and Loss Emotional Journeys     2.037886   5725.0\n",
       "15                          Coming-of-age films     1.813683   6105.0\n",
       "18                   Inspirational True Stories     1.750015   6927.0\n",
       "19                    Mafia and Organized Crime     1.715849   7342.0\n",
       "28                     Horror and Ghost Stories     1.207589   8472.0\n",
       "5                    Legendary Athletes in Film     2.421624   9182.0\n",
       "24             Empowering Stories of Resilience     1.631887  11485.0\n",
       "14                             Movies and Truth     1.849617  11606.0\n",
       "10  Emotional Journeys Through Life and History     1.957723  16191.0\n",
       "9                                Movie Trailers     1.973527  63574.0"
      ]
     },
     "execution_count": 56,
     "metadata": {},
     "output_type": "execute_result"
    }
   ],
   "source": [
    "a = final.groupby('CustomName').agg(\n",
    "    avg_pos_neg = pd.NamedAgg('pos-neg', aggfunc='mean'),\n",
    "    count = pd.NamedAgg('total_comments', aggfunc='sum')\n",
    ").sort_values('avg_pos_neg', ascending=False)\n",
    "a = a.reset_index(drop=False)\n",
    "a.sort_values('count', ascending=True)"
   ]
  },
  {
   "cell_type": "code",
   "execution_count": null,
   "metadata": {},
   "outputs": [],
   "source": []
  },
  {
   "cell_type": "code",
   "execution_count": 40,
   "metadata": {},
   "outputs": [
    {
     "data": {
      "application/vnd.plotly.v1+json": {
       "config": {
        "plotlyServerURL": "https://plot.ly"
       },
       "data": [
        {
         "customdata": [
          [
           "TÁR - Official Trailer [HD] - In Select Theaters October 7",
           "Movie Trailers"
          ],
          [
           "RICHARD JEWELL - Official Trailer [HD]",
           "True Crime Dramas"
          ],
          [
           "The Post | Official Trailer [HD] | 20th Century FOX",
           "True stories of historical figures"
          ],
          [
           "THE SHAPE OF WATER | Official Trailer | FOX Searchlight",
           "Emotional Journeys Through Life and History"
          ],
          [
           "12 STRONG - Official Trailer",
           "Movies and their themes"
          ],
          [
           "Love, Simon | Official Trailer 2 [HD] | 20th Century FOX",
           "Coming-of-age films"
          ],
          [
           "DARKEST HOUR - Official Trailer [HD] - In Theaters November 22nd",
           "True stories of historical figures"
          ],
          [
           "THE 15:17 TO PARIS - Official Trailer [HD]",
           "True stories of historical figures"
          ],
          [
           "Nobody's Fool (2018) - Official Trailer - Paramount Pictures",
           "Movies and Literature"
          ],
          [
           "Adrift | Final Trailer | Own It Now on Digital HD, Blu-Ray & DVD",
           "Movies and their stars"
          ],
          [
           "WHITE BOY RICK - Official Trailer (HD)",
           "Movies and their themes"
          ],
          [
           "Molly's Game | Official Trailer | Own it Now on Digital HD, Blu-ray™ & DVD",
           "Movies and Truth"
          ],
          [
           "PHANTOM THREAD - Official Trailer [HD] - In Select Theaters Christmas",
           "Movie Trailers"
          ],
          [
           "OPERATION FINALE | Official Trailer | MGM",
           "Movie Trailers"
          ],
          [
           "Lady Bird | Official Trailer HD | A24",
           "Movie Trailers"
          ],
          [
           "Forever My Girl | Official Trailer | Roadside Attractions |  In theaters January 19",
           "Movie Trailers"
          ],
          [
           "Eighth Grade | Official Trailer HD | A24",
           "Coming-of-age films"
          ],
          [
           "Wonder (2017 Movie) Official Trailer – #ChooseKind – Julia Roberts, Owen Wilson",
           "Movie Trailers"
          ],
          [
           "THE MIRACLE SEASON | Official Trailer",
           "Religious Journeys and Self-Discovery"
          ],
          [
           "Midnight Sun | Official Trailer [HD]  | Open Road Films",
           "Love and Loss Emotional Journeys"
          ],
          [
           "Mid90s | Official Trailer HD | A24",
           "Movie Trailers"
          ],
          [
           "EVERY DAY Official Trailer (2018)",
           "Movie Trailers"
          ],
          [
           "LEAVE NO TRACE | Official Trailer",
           "Movie Trailers"
          ],
          [
           "God's Not Dead 3: A Light in Darkness (Official Trailer)",
           "Religious Journeys and Self-Discovery"
          ],
          [
           "COLETTE | Official Trailer",
           "Movie Trailers"
          ],
          [
           "Samson - Official Trailer (2018)",
           "Inspirational True Stories"
          ],
          [
           "Blindspotting (2018 Movie) Official Trailer - Daveed Diggs, Rafael Casal",
           "Movies and their themes"
          ],
          [
           "GOTTI Trailer (2017)",
           "Mafia and Organized Crime"
          ],
          [
           "Life Itself - Official Trailer | Amazon Studios",
           "Movies and TV shows based on trailers"
          ],
          [
           "GOSNELL: The Trial of America's Biggest Serial Killer (Official Trailer)",
           "True Crime Dramas"
          ],
          [
           "DISOBEDIENCE | Official Trailer",
           "Movie Trailers"
          ],
          [
           "You Were Never Really Here – Official Trailer | Amazon Studios",
           "Movie Trailers"
          ],
          [
           "PAPILLON | Official Trailer",
           "Movie Trailers"
          ],
          [
           "Murder on the Orient Express | Official Trailer [HD] | 20th Century FOX",
           "Movies and Truth"
          ],
          [
           "Puzzle | Official Trailer HD (2018)",
           "Religious Journeys and Self-Discovery"
          ],
          [
           "THE FRONT RUNNER – International Trailer",
           "Movie Trailers"
          ],
          [
           "Lean on Pete | Official Trailer HD | A24",
           "Love and Loss Emotional Journeys"
          ],
          [
           "Schindler's List 25th Anniversary - Official Trailer - In Theaters December 7",
           "Movie Trailers"
          ],
          [
           "ON CHESIL BEACH | Official Trailer",
           "Movie Trailers"
          ],
          [
           "The Catcher Was a Spy - Official Trailer | HD | IFC Films",
           "Movie Trailers"
          ],
          [
           "THE LITTLE STRANGER - Official Trailer [HD] - In Theaters August 31",
           "Movie Trailers"
          ],
          [
           "Blaze - Official Trailer | HD | IFC Films",
           "Movies and their themes"
          ],
          [
           "Boundaries (2018) Official Trailer HD",
           "Movie Trailers"
          ],
          [
           "Lizzie Official Trailer | Roadside Attractions | In Select Theaters September 14",
           "Movie Trailers"
          ],
          [
           "The Florida Project | Official Trailer HD | A24",
           "Movie Trailers"
          ],
          [
           "MARSHALL | Official Trailer [HD] | Open Road Films",
           "Movie Trailers"
          ],
          [
           "MONSTERS AND MEN [Trailer] Now Playing in Select Cities",
           "Uncovering Painful Truths"
          ],
          [
           "The Children Act | Official Trailer | A24",
           "Movies and their themes"
          ],
          [
           "Flower (2018) | Official US Trailer HD",
           "Romantic Dramas"
          ],
          [
           "Skate Kitchen Official Trailer - Starring The Skate Kitchen and Jaden Smith",
           "Movie Trailers"
          ],
          [
           "Madeline's Madeline - Official Trailer HD - Oscilloscope Laboratories",
           "Movies and their stars"
          ],
          [
           "ONLY THE BRAVE - Official Trailer #3 (HD)",
           "Movies and their themes"
          ],
          [
           "The Young Karl Marx Trailer #1 (2018) | Movieclips Indie",
           "Uncovering Painful Truths"
          ],
          [
           "ROMAN J. ISRAEL, ESQ. - Official Trailer (HD)",
           "True Crime Dramas"
          ],
          [
           "Wonder Wheel – Official Trailer | Amazon Studios",
           "Love and Loss Emotional Journeys"
          ],
          [
           "The Breadwinner [Official US Trailer]",
           "Movie Synopses"
          ],
          [
           "NOSTALGIA | Official Trailer",
           "Movie Trailers"
          ],
          [
           "Where Hands Touch | Official Trailer (HD) | Vertical Entertainment",
           "Mystery and Suspense Movies"
          ],
          [
           "My Friend Dahmer - Official Trailer (US) - FilmRise",
           "Coming-of-age films"
          ],
          [
           "WHERE IS KYRA? Official Trailer (2018) Michelle Pfeiffer Drama Movie HD",
           "Uncovering Painful Truths"
          ],
          [
           "Bomb City I Movie Trailer",
           "Movie Trailers"
          ],
          [
           "A Kid Like Jake - Official Trailer I HD I IFC Films",
           "Coming-of-age films"
          ],
          [
           "Black 47 - Official Trailer I HD I IFC Films",
           "Movies and their stars"
          ],
          [
           "Krystal Trailer #1 (2018) | Movieclips Indie",
           "Movie Trailers"
          ],
          [
           "Loving Pablo Trailer #1 (2018) | Movieclips Trailers",
           "Movie Trailers"
          ],
          [
           "Paladins - Cinematic Trailer - \"Go To War\"",
           "Movie Trailers"
          ],
          [
           "The Last Movie Star | Official Trailer HD | A24",
           "Legendary Athletes in Film"
          ],
          [
           "HEAD FULL OF HONEY - Official Trailer",
           "Heartwarming Movie Releases"
          ],
          [
           "VICTORIA & ABDUL - Official Trailer [HD] - In Theaters 9/22",
           "Biographies and Historical Dramas"
          ],
          [
           "Please Stand By - Official Trailer",
           "Movie Trailers"
          ],
          [
           "Summer of '67 Trailer #1 (2018) | Movieclips Indie",
           "Movie Trailers"
          ],
          [
           "THE NUN II | OFFICIAL TRAILER",
           "Horror and Ghost Stories"
          ],
          [
           "DOWNTON ABBEY | Official Trailer | In Theaters September 20",
           "Movies and TV shows based on trailers"
          ],
          [
           "Rocketman (2019) - Official Trailer - Paramount Pictures",
           "Empowering Stories of Resilience"
          ],
          [
           "FIVE FEET APART - Trailer #2 - HD (Haley Lu Richardson, Cole Sprouse)",
           "Heartwarming Movie Releases"
          ],
          [
           "A DOG'S WAY HOME - Official Trailer (HD)",
           "Movie Trailers"
          ],
          [
           "Breakthrough | Official Trailer [HD] | 20th Century FOX",
           "Heartwarming Friendship Stories"
          ],
          [
           "The Art of Racing in the Rain | Official Trailer [HD] | 20th Century FOX",
           "Movie Trailers"
          ],
          [
           "A Dog's Journey - Official Trailer (HD)",
           "Movie Trailers"
          ],
          [
           "AFTER :: OFFICIAL TEASER TRAILER | In Theaters This April",
           "Romantic Dramas"
          ],
          [
           "BLINDED BY THE LIGHT - Official Trailer - Now Playing In Theaters",
           "Inspirational True Stories"
          ],
          [
           "The Best of Enemies | Official Trailer [HD] | Own It Now on Digital HD, Blu-Ray & DVD",
           "Movie Trailers"
          ],
          [
           "MOTHERLESS BROOKLYN - Official Trailer",
           "Uncovering Painful Truths"
          ],
          [
           "THE CURRENT WAR: Director's Cut | Official Trailer | 101 Studios",
           "Innovators and Their Dreams"
          ],
          [
           "THE MUSTANG | Official Trailer | Focus Features",
           "Movie Trailers"
          ],
          [
           "THE GOLDFINCH - Official Trailer 1",
           "Mystery and Suspense Movies"
          ],
          [
           "THE SUN IS ALSO A STAR - Official Trailer",
           "Movie Trailers"
          ],
          [
           "TOLKIEN | Trailer 2 | FOX Searchlight",
           "Biographies and Historical Dramas"
          ],
          [
           "The Last Black Man in San Francisco | Official Trailer HD | A24",
           "Uncovering Painful Truths"
          ],
          [
           "BRIAN BANKS | Official Trailer",
           "Movie Trailers"
          ],
          [
           "ARCTIC | Official Trailer",
           "Movie Trailers"
          ],
          [
           "THE AFTERMATH | Official Trailer | FOX Searchlight",
           "Romantic Dramas"
          ],
          [
           "El Chicano :: OFFICIAL TRAILER  |  In Theaters May 3rd",
           "True Crime Dramas"
          ],
          [
           "The Souvenir | Official Trailer HD | A24",
           "Love and Loss Emotional Journeys"
          ],
          [
           "Climax | Official Trailer HD | A24",
           "Movie Trailers"
          ],
          [
           "The Nightingale - Official Trailer I HD I IFC Films",
           "Movies and their stars"
          ],
          [
           "The Hummingbird Project Trailer #1 (2019) | Movieclips Trailers",
           "Mystery and Suspense Movies"
          ],
          [
           "LUCY IN THE SKY | Official Trailer | FOX Searchlight",
           "Movie Trailers"
          ],
          [
           "Her Smell | OFFICIAL TRAILER HD",
           "Emotional Journeys"
          ],
          [
           "\"Canal Street\" Official Trailer - In Theaters 1.18.19",
           "Movie Trailers"
          ],
          [
           "The Warrior Queen of Jhansi | Official Trailer | In Theaters November 15",
           "Movie Trailers"
          ],
          [
           "Peterloo - Official Trailer | Amazon Studios",
           "Movie Trailers"
          ],
          [
           "Mary Magdalene Ft. Rooney Mara & Joaquin Phoenix - Official Trailer I HD I IFC Films",
           "Emotional Journeys"
          ],
          [
           "Charlie Says - Official Trailer I HD I IFC Films",
           "Movie Trailers"
          ],
          [
           "Ophelia Ft. Daisy Ridley, Naomi Watts & Clive Owen - Official Trailer I HD I IFC Films",
           "Movie Previews"
          ],
          [
           "White Snake [Official English Trailer]",
           "Movie Trailers"
          ],
          [
           "THE OUTFIT - Official Trailer - Only in Theaters March 18",
           "True stories of historical figures"
          ],
          [
           "ARMAGEDDON TIME - Official Trailer - In Select Theaters October 28",
           "Religious Journeys and Self-Discovery"
          ],
          [
           "SHE SAID | Official Trailer",
           "Emotional Journeys"
          ],
          [
           "INFINITE STORM | Official Trailer | Bleecker Street",
           "Movie Trailers"
          ],
          [
           "THE GODFATHER | 50th Anniversary Trailer | Paramount Pictures",
           "Mafia and Organized Crime"
          ],
          [
           "SPOILER ALERT - Official Trailer [HD] - Only In Theaters December 2",
           "Movies and Literature"
          ],
          [
           "After Ever Happy | Official Trailer | Voltage Pictures",
           "Movie Trailers"
          ],
          [
           "Redeeming Love Trailer #1 (2022) | Movieclips Trailers",
           "Movie Trailers"
          ],
          [
           "Call Jane | Official Trailer | In Theaters October 28",
           "Religious Journeys and Self-Discovery"
          ],
          [
           "God's Country - Official Trailer ft. Thandiwe Newton | HD | IFC Films",
           "Movies and their themes"
          ],
          [
           "The Inspection | Official Trailer HD | A24",
           "Uncovering Painful Truths"
          ],
          [
           "Glass Onion: A Knives Out Mystery | Official Trailer | Netflix",
           "Mystery and Suspense Movies"
          ],
          [
           "FATHER STU - Official Trailer (HD)",
           "Inspirational True Stories"
          ],
          [
           "THE SILENT TWINS - Official Trailer [HD] - Only in Theaters September 16",
           "Movie Trailers"
          ],
          [
           "Firebird | Official Trailer HD | 2022",
           "Mystery and Suspense Movies"
          ],
          [
           "DOWNTON ABBEY: A NEW ERA - Official Trailer [HD] - Only in Theaters May 20",
           "Movies and TV shows based on trailers"
          ],
          [
           "Official Trailer | Death on the Nile | 20th Century Studios",
           "Movies and Truth"
          ],
          [
           "On The Count of Three | Official Trailer | Hulu",
           "Movie Trailers"
          ],
          [
           "WHERE THE CRAWDADS SING - Official Trailer (HD)",
           "Movie Trailers"
          ],
          [
           "MEMORIA - Official Trailer",
           "Movie Trailers"
          ],
          [
           "After Yang | Official Trailer HD | A24",
           "Romantic Dramas"
          ],
          [
           "Baz Luhrmann’s ELVIS | Official Trailer",
           "Empowering Stories of Resilience"
          ],
          [
           "TED K - Official Trailer - In Theaters and on Digital February 18",
           "Mystery and Suspense Movies"
          ],
          [
           "The Eternal Daughter | Official Trailer HD | A24",
           "Movie Trailers"
          ],
          [
           "HOUSE OF GUCCI | Official Trailer | MGM Studios",
           "Mafia and Organized Crime"
          ],
          [
           "KING RICHARD – Official Trailer",
           "Empowering Stories of Resilience"
          ],
          [
           "The Runner Official Trailer #1 (2015) - Nicolas Cage Movie HD",
           "Movie Trailers"
          ],
          [
           "STILLWATER - Official Trailer [HD] - In Theaters July 30",
           "Movies and their themes"
          ],
          [
           "American Underdog (2021 Movie) Official Trailer - Zachary Levi, Anna Paquin, and Dennis Quaid",
           "Heartwarming Friendship Stories"
          ],
          [
           "The Last Duel | Official Trailer | 20th Century Studios",
           "Movies and Truth"
          ],
          [
           "CRY MACHO – Official Trailer",
           "Movie Trailers"
          ],
          [
           "THE MANY SAINTS OF NEWARK – Official Trailer",
           "Mafia and Organized Crime"
          ],
          [
           "SPENCER - Official Trailer - In Theaters November 5",
           "Movie Trailers"
          ],
          [
           "BELFAST - Official Trailer - Only In Theaters November 12",
           "Movie Trailers"
          ],
          [
           "LICORICE PIZZA | Official Trailer | MGM Studios",
           "Movie Trailers"
          ],
          [
           "JUDAS AND THE BLACK MESSIAH - Official Trailer",
           "Religious Journeys and Self-Discovery"
          ],
          [
           "BOOGIE - Official Trailer - In Theaters March 5",
           "Legendary Athletes in Film"
          ],
          [
           "A JOURNAL FOR JORDAN - Final Trailer (HD) | Now in Theaters and On Demand",
           "Heartwarming Friendship Stories"
          ],
          [
           "PIG - Official Trailer - In Theatres July 16",
           "Movie Trailers"
          ],
          [
           "THE GIRL WHO BELIEVED IN MIRACLES Trailer (2021) Mira Sorvino Family Movie",
           "Religious Journeys and Self-Discovery"
          ],
          [
           "Finding You Official Trailer | Now Playing",
           "Heartwarming Movie Releases"
          ],
          [
           "LAND - Official Trailer [HD] - In Theaters February 12",
           "Movie Trailers"
          ],
          [
           "THE EYES OF TAMMY FAYE | Official Trailer | Searchlight Pictures",
           "Religious Journeys and Self-Discovery"
          ],
          [
           "NOMADLAND | Official Trailer | Searchlight Pictures",
           "Movie Trailers"
          ],
          [
           "After We Fell | Official Trailer | Prime Video",
           "Romantic Dramas"
          ],
          [
           "C'mon C'mon | Official Trailer HD | A24",
           "Movie Trailers"
          ],
          [
           "Joe Bell  | Official Trailer  |  In Theaters July 23",
           "Movie Synopses"
          ],
          [
           "God's Not Dead:  We The People  (Official Trailer)",
           "Inspirational True Stories"
          ],
          [
           "Four Good Days | Official Trailer (HD) | Vertical Entertainment",
           "Movie Trailers"
          ],
          [
           "The Mauritanian | Official Trailer [HD] | Rent or Own on Digital HD, Blu-ray & DVD Today",
           "True stories of historical figures"
          ],
          [
           "BLUE BAYOU - Official Trailer - Only in Theaters September 17",
           "Adoption and Family Dynamics"
          ],
          [
           "Red Rocket | Official Trailer HD | A24",
           "Movie Trailers"
          ],
          [
           "City Of Lies Official Teaser Trailer (2021)",
           "Movies and Truth"
          ],
          [
           "Courageous (2011) HD Movie Trailer - Christian Drama",
           "Inspirational True Stories"
          ],
          [
           "FLAG DAY | Official Trailer | MGM Studios",
           "Inspirational True Stories"
          ],
          [
           "THE WATER MAN Official Trailer",
           "Emotional Journeys Through Life and History"
          ],
          [
           "American Skin | Official Trailer (HD) | Vertical Entertainment",
           "True Crime Dramas"
          ],
          [
           "A MOUTHFUL OF AIR - Official Trailer (HD) | Now on Digital and On Demand",
           "Movie Trailers"
          ],
          [
           "SUPERNOVA | Official Trailer | Bleecker Street",
           "Movie Trailers"
          ],
          [
           "LIMBO - Official Trailer [HD] - In Theaters April 30",
           "Emotional Journeys"
          ],
          [
           "WOLF - Official Trailer [HD] - Only in Theaters December 3",
           "Coming-of-age films"
          ],
          [
           "THE WORLD TO COME | Official Trailer I Bleecker Street",
           "Movie Trailers"
          ],
          [
           "CARMEN | Official Trailer (2023)",
           "Movies and their themes"
          ],
          [
           "THE STARLING GIRL | Official Trailer | Bleecker Street",
           "Religious Journeys and Self-Discovery"
          ],
          [
           "Monday: Official Trailer | Starring Sebastian Stan & Denise Gough | IFC Films",
           "Movie Trailers"
          ],
          [
           "LANDSCAPE WITH INVISIBLE HAND | Official Trailer",
           "Movie Previews"
          ],
          [
           "GULLY | Official Trailer | Paramount Movies",
           "Movie Trailers"
          ],
          [
           "EMPIRE OF LIGHT | Official Trailer | Searchlight Pictures",
           "Movie Trailers"
          ],
          [
           "Aristotle and Dante Discover the Secrets of the Universe | Official Trailer (2023)",
           "Coming-of-age films"
          ],
          [
           "THE SON | Official Trailer (2022)",
           "Movies and their themes"
          ],
          [
           "Mayday - Official Trailer",
           "True Crime Dramas"
          ],
          [
           "Naked Singularity – Official Trailer",
           "Movies and Truth"
          ],
          [
           "PASSAGES | Official Trailer | In Theaters Now",
           "Movie Trailers"
          ],
          [
           "Aftersun | Official Trailer HD | A24",
           "Love and Loss Emotional Journeys"
          ],
          [
           "How To Blow Up A Pipeline - Official Trailer - In Theaters April 7",
           "Movie Trailers"
          ],
          [
           "Showing Up | Official Trailer HD | A24",
           "Movie Trailers"
          ],
          [
           "LITTLE WOMEN - Official Trailer (HD)",
           "Movie Previews"
          ],
          [
           "JUST MERCY Official Trailer",
           "True Crime Dramas"
          ],
          [
           "HIDDEN BLADE (2023) Official International Trailer | Watch Online July 18, 2023",
           "Mystery and Suspense Movies"
          ],
          [
           "Knives Out (2019 Movie) Official Trailer — Daniel Craig, Chris Evans, Jamie Lee Curtis",
           "Movie Trailers"
          ],
          [
           "The Photograph - Official Trailer 2 - In Theaters Valentine's Day",
           "Heartwarming Movie Releases"
          ],
          [
           "THE WAY BACK - Official Trailer",
           "Legendary Athletes in Film"
          ],
          [
           "I Still Believe (2020 Movie) Official Trailer | KJ Apa, Britt Robertson",
           "Inspirational True Stories"
          ],
          [
           "EMMA. - Official Trailer [HD] - Now On Demand and In Theaters",
           "Movies and TV shows based on trailers"
          ],
          [
           "DOWNHILL | Official Trailer [HD] | FOX Searchlight",
           "Romantic Comedies"
          ],
          [
           "FORD v FERRARI | Official Trailer [HD] | 20th Century FOX",
           "Legendary Athletes in Film"
          ],
          [
           "Bombshell (2019 Movie) New Trailer — Charlize Theron, Nicole Kidman, Margot Robbie",
           "Movie Trailers"
          ],
          [
           "Queen & Slim - Official Trailer",
           "Empowering Stories of Resilience"
          ],
          [
           "The Last Full Measure Official Trailer | Roadside Attractions",
           "Uncovering Painful Truths"
          ],
          [
           "A BEAUTIFUL DAY IN THE NEIGHBORHOOD - Official Trailer (HD)",
           "Movie Trailers"
          ],
          [
           "Words on Bathroom Walls | Official Trailer  | In Theaters August 21",
           "Movie Trailers"
          ],
          [
           "After We Collided | Official Trailer | Prime Video",
           "Romantic Dramas"
          ],
          [
           "THE PERSONAL HISTORY OF DAVID COPPERFIELD | Official Trailer | Searchlight Pictures",
           "Movies and TV shows based on trailers"
          ],
          [
           "THE BANSHEES OF INISHERIN | Official Trailer | Searchlight Pictures",
           "Movie Trailers"
          ],
          [
           "OFFICIAL TRAILER | 2 Hearts | Only in Theaters OCT 16",
           "Romantic Dramas"
          ],
          [
           "All My Life - Official Trailer [HD]",
           "Movie Trailers"
          ],
          [
           "JULES | Official Trailer | Bleecker Street",
           "Movie Trailers"
          ],
          [
           "CUT THROAT CITY Official Trailer | American Crime Drama | Directed by RZA | Starring Shameik Moore",
           "Uncovering Painful Truths"
          ],
          [
           "THE LAST VERMEER - Official Trailer (HD) - In Theaters November 20",
           "Movies and Truth"
          ],
          [
           "A GOOD PERSON | Official Trailer",
           "Movies and Literature"
          ],
          [
           "HARRIET | Official Trailer | Now Playing",
           "Empowering Stories of Resilience"
          ],
          [
           "KAJILLIONAIRE - Official Trailer [HD] - In Theaters September 25",
           "Heartwarming Friendship Stories"
          ],
          [
           "DARK WATERS | Official Trailer | In Theaters November 22",
           "True stories of historical figures"
          ],
          [
           "A HIDDEN LIFE | Official Trailer [HD] | FOX Searchlight",
           "Movie Trailers"
          ],
          [
           "A THOUSAND AND ONE - Official Trailer [HD] - Only In Theaters March 31",
           "Empowering Stories of Resilience"
          ],
          [
           "JUDY | Official Trailer | Roadside Attractions",
           "Empowering Stories of Resilience"
          ],
          [
           "CHEVALIER | Official Trailer | Searchlight Pictures",
           "Biographies and Historical Dramas"
          ],
          [
           "Clemency [Official Trailer] – In Theaters December 27, 2019",
           "Movie Trailers"
          ],
          [
           "WILD MOUNTAIN THYME I Official Trailer I Bleecker Street",
           "Movies and TV shows based on trailers"
          ],
          [
           "Ammonite - Official Trailer",
           "Movie Previews"
          ],
          [
           "GOLDA | Official Trailer | Bleecker Street",
           "Movie Trailers"
          ],
          [
           "A Call to Spy - Official Trailer | HD | IFC Films",
           "True stories of historical figures"
          ],
          [
           "WENDY | Official Trailer [HD] | FOX Searchlight",
           "Movie Trailers"
          ],
          [
           "BURDEN | Official Trailer 2 - Now Playing in Select Theaters | 101 Studios",
           "Adoption and Family Dynamics"
          ],
          [
           "The Fabelmans | Official Trailer [HD]",
           "Heartwarming Movie Releases"
          ],
          [
           "BIG GEORGE FOREMAN – Official Trailer (HD)",
           "Legendary Athletes in Film"
          ],
          [
           "BABYLON | Official Trailer (2022 Movie) – Brad Pitt, Margot Robbie, Diego Calva, Tobey Maguire",
           "Movies and their themes"
          ],
          [
           "Made in Italy - Official Trailer I HD I IFC Films",
           "Heartwarming Movie Releases"
          ],
          [
           "First Cow | Official Trailer HD | A24",
           "Movie Trailers"
          ],
          [
           "Tesla - Official Trailer I HD I IFC Films",
           "Innovators and Their Dreams"
          ],
          [
           "ON THE BASIS OF SEX | Official Trailer | Focus Features",
           "Religious Journeys and Self-Discovery"
          ],
          [
           "THE GODFATHER CODA: THE DEATH OF MICHAEL CORLEONE | Official Trailer [HD] | Paramount Movies",
           "Mafia and Organized Crime"
          ],
          [
           "I WANNA DANCE WITH SOMEBODY - Official Trailer (HD)",
           "Movies and their themes"
          ],
          [
           "Past Lives | Official Trailer HD | A24",
           "True Crime Dramas"
          ],
          [
           "The Whale | Official Trailer HD | A24",
           "Love and Loss Emotional Journeys"
          ],
          [
           "His Only Son | Official Trailer | Angel Studios",
           "Religious Journeys and Self-Discovery"
          ],
          [
           "Honey Boy - Official Trailer | Amazon Studios",
           "Movie Synopses"
          ],
          [
           "Titanic 25th Anniversary | Official Trailer | In Theatres February 10th",
           "Movie Previews"
          ],
          [
           "NEVER RARELY SOMETIMES ALWAYS - Official Trailer [HD] - At Home On Demand April 3",
           "Religious Journeys and Self-Discovery"
          ],
          [
           "Jesus Revolution (2023 Movie) Official Trailer - Kelsey Grammer, Joel Courtney",
           "Religious Journeys and Self-Discovery"
          ],
          [
           "AIR - Official Trailer | Amazon Studios",
           "Legendary Athletes in Film"
          ],
          [
           "RESISTANCE - Official Trailer I HD I IFC Films",
           "Movie Trailers"
          ],
          [
           "Herself Official Trailer (2021) | Prime Video",
           "Heartwarming Movie Releases"
          ],
          [
           "Last Call - Official Trailer | HD | IFC Films",
           "Heartwarming Movie Releases"
          ],
          [
           "CREED III | Official Trailer",
           "Movie Trailers"
          ],
          [
           "The Painted Bird - Official Trailer I HD I IFC Films",
           "Mystery and Suspense Movies"
          ],
          [
           "Little Joe - Official Trailer",
           "Emotional Journeys"
          ],
          [
           "Oppenheimer | New Trailer",
           "Emotional Journeys Through Life and History"
          ],
          [
           "Hustlers | Official Trailer [HD] | Own it Now on Digital HD, Blu-Ray & DVD",
           "Movie Trailers"
          ]
         ],
         "hovertemplate": "ReducedEmbeddings_x=%{x}<br>ReducedEmbeddings_y=%{y}<br>title=%{customdata[0]}<br>CustomName=%{customdata[1]}<br>pos-neg=%{marker.color}<extra></extra>",
         "legendgroup": "",
         "marker": {
          "color": [
           1.8031439099684545,
           1.1695269668338928,
           1.476343939757589,
           1.307202420190147,
           1.0935241061986825,
           1.5361209116133108,
           1.3697988845145241,
           1.2988940996597371,
           1.3480159382239525,
           1.4576028001523502,
           1.5439806226390176,
           1.5185199194171726,
           1.5421399247731888,
           1.7010867513664398,
           1.543016566250846,
           1.5743138704071238,
           1.295060999477693,
           1.3762282707045819,
           3.700439718141092,
           1.4272065660388231,
           1.3390127092593402,
           1.5289143430080814,
           4.700439718141093,
           1.7858506682060282,
           2.394551006892043,
           1.1874468457021827,
           2.0205586751439273,
           1.9036774610288019,
           1.3880271277047405,
           1.3363273966779272,
           1.3110596471398852,
           1.5439593106327716,
           1.857607105190726,
           1.1896249309729157,
           5.459431618637297,
           1.7222589228935263,
           2.771243749161422,
           1.6538070458406473,
           4.169925001442312,
           3.5849625007211565,
           2.047818583457956,
           4.754887502163469,
           2.807354922057604,
           3.0959032742893844,
           1.6778087682944516,
           2.321928094887362,
           2.0922185341675,
           3.0959032742893844,
           1.7499526414000295,
           1.6056362616774722,
           1.3652123889719707,
           1.968099281839111,
           0.9797151227215061,
           2.9299470414358537,
           1.8624283426034778,
           1.2920296742201791,
           3.3219280948873626,
           1.1291500681071593,
           1.410964047443681,
           3.033103256304337,
           4.08746284125034,
           2.8135880922155954,
           2,
           1.445634304012274,
           1.6557403313609884,
           1.433441474398345,
           5.357552004618084,
           1.4524553401431888,
           1.3079534109733006,
           2.9299470414358537,
           1.6309297535714573,
           1.207588560867608,
           1.535136198929144,
           1.4192372846806518,
           1.358032897344099,
           1.636776423579942,
           2.0220297301525907,
           1.7922583956163145,
           1.283935533211521,
           1.3105646917096478,
           1.5949409553805778,
           4.807354922057604,
           1.6769965665793711,
           1.8415644423232036,
           2.4243239656074644,
           1.6398823431004312,
           1.4146844459153354,
           1.5063623779851851,
           1.6287168213280778,
           1.2090619551221675,
           1.727448062845333,
           1.9481920934663797,
           1.4124534801998294,
           2.6125224135125684,
           1.7297158093186489,
           1.3565661886755245,
           1.44189067312579,
           1.5889774927747713,
           1.3868528072345416,
           1.5238838693859558,
           1.5343042396812747,
           1.5849625007211563,
           3.700439718141092,
           1.2097085961051282,
           1.5884815929753662,
           1.7546603403387586,
           1.8188858263387908,
           1.5377270602757498,
           1.2798566139783552,
           2.807354922057604,
           1.7957881972790721,
           6,
           1.445118739153156,
           2.767641585823457,
           1.3634165139304208,
           3.5849625007211565,
           1.6324386432636993,
           1.2970851379467154,
           1.4059992833467623,
           2.2924812503605785,
           3.3219280948873626,
           1.8512343410634267,
           1.1902161718730502,
           4.321928094887363,
           1.9195140415076537,
           1.8750612633916997,
           1.6704286220526683,
           1.4584820129290283,
           1.5383822204249031,
           1.7044064714912375,
           1.6511306167934052,
           1.6737386493137456,
           1.4056838710822128,
           1.603506184132919,
           1.9067940461077975,
           1.4100847232571974,
           1.7589920039940075,
           1.4942583368359585,
           1.3316508026530192,
           2.3219280948873626,
           1.842000323785857,
           1.233181854900897,
           1.5699673475025722,
           1.3812528762135865,
           1.3989630009275233,
           1.7163294603769252,
           2.680143859246375,
           1.843072575667113,
           1.538697391499865,
           1.6997561009963964,
           3.505613627711627,
           1.8301079681042904,
           1.5404763088546396,
           1.1205510586004057,
           1.3733681873444643,
           1.7949345586645566,
           2.5840593484403582,
           1.6272664537277277,
           2.1239637567217926,
           1.6309297535714573,
           3.6139154408744694,
           3.4594316186372978,
           1.2366941756039844,
           1.3423754829424792,
           5.169925001442312,
           5,
           1.892789260714372,
           1.8069475620432935,
           4.321928094887363,
           2.182658338644138,
           2.2454520084538694,
           2.111996447574856,
           1.0331192929457338,
           2.378868651539773,
           1.9335735117254034,
           2.2158621074639253,
           2,
           2.584962500721156,
           2.630929753571457,
           2.3073720570481235,
           0.9449415302021363,
           1.5980368481118183,
           1.4814577032155256,
           1.3980249097109085,
           3.6192023696625397,
           1.1247489824223282,
           5.20945336562895,
           1.3567943314652275,
           1.696321208079587,
           1.9141144276807753,
           1.8557672647413568,
           1.4466827417788801,
           1.203584801509194,
           1.0068484712133665,
           1.8793235854571533,
           1.2784635765458068,
           1.8727885893214173,
           1.3652123889719707,
           2.2435894449529292,
           1.542900112764033,
           1.7020020894202454,
           1.6930880663897714,
           2.54373142062517,
           1.5849625007211563,
           2.9299470414358537,
           4.095903274289384,
           1.242119671504687,
           2.2601593585085435,
           1.2496606329758426,
           1.4388083285638036,
           2.941321524680921,
           1.6814647064528179,
           1.4707474942148402,
           3.3219280948873626,
           1.209072125318021,
           1.850219859070546,
           1.2289789288974886,
           2.477098155193438,
           1.7637966742771916,
           2.321928094887362,
           1.580045406165023,
           1.5368895399060607,
           1.3960673863563535,
           1.6609640474436813,
           1.3234000426025028,
           1.5394909583905907,
           1.3663093706429568,
           1.7343889579073268,
           1.7188360624293284,
           1.4297587689282603,
           1.2465427612510767,
           1.7075516557516117,
           2.2471556621337156,
           1.748961941064367,
           1.0805314786342621,
           1.8015294830909425,
           3.2618595071429146,
           0.7324867603589634,
           3.3219280948873626,
           3.1699250014423126,
           1.3764214818499916,
           2.5789019231625656,
           2.2618595071429146,
           1.106533801160234,
           1.878339805414236
          ],
          "coloraxis": "coloraxis",
          "symbol": "circle"
         },
         "mode": "markers",
         "name": "",
         "orientation": "v",
         "showlegend": false,
         "type": "scatter",
         "x": [
          7.812714,
          5.310845,
          1.9047374,
          2.7874,
          2.245054,
          3.8021061,
          1.7179339,
          1.8404154,
          2.099974,
          2.8530006,
          2.3266394,
          4.8429346,
          5.151782,
          4.8752437,
          3.7662737,
          7.852756,
          3.8707063,
          1.3859712,
          6.7114196,
          5.8719897,
          7.4640737,
          7.5138955,
          7.4629946,
          6.553754,
          7.446153,
          3.0478787,
          2.1573465,
          5.1228333,
          4.7929378,
          5.040092,
          7.6703296,
          4.8769445,
          7.290787,
          4.78656,
          7.5866895,
          1.7205044,
          5.7465606,
          6.315572,
          5.3591676,
          4.864619,
          6.2340527,
          2.539107,
          7.714767,
          7.1094036,
          1.972521,
          7.2412066,
          5.1583357,
          2.8016584,
          7.1546245,
          5.3165603,
          4.0212955,
          2.2426214,
          5.079773,
          4.712967,
          5.7138357,
          4.0708985,
          8.364626,
          6.1629567,
          3.6074388,
          5.1864314,
          2.022968,
          2.629797,
          2.6795392,
          7.735233,
          4.9363656,
          6.44432,
          7.006822,
          1.6688064,
          3.3371522,
          6.162732,
          7.638051,
          4.290935,
          4.747144,
          7.485852,
          1.3614501,
          2.9190826,
          1.3920332,
          8.283298,
          2.928291,
          6.302088,
          3.0039833,
          1.6440136,
          5.0399513,
          3.584439,
          9.203874,
          6.0356383,
          7.4740605,
          3.2311833,
          5.2939997,
          7.1876764,
          7.9396005,
          6.248126,
          4.488983,
          5.37741,
          2.0618799,
          2.6432862,
          6.126802,
          8.409927,
          3.9390178,
          5.9536185,
          7.221577,
          7.796598,
          3.8702192,
          2.7357275,
          3.2421725,
          8.814628,
          1.727668,
          6.6360617,
          3.935678,
          6.0792494,
          5.160316,
          2.0783107,
          7.7882237,
          4.9150567,
          7.0678296,
          2.5486927,
          5.062005,
          4.8060594,
          3.2374115,
          2.392819,
          6.1551995,
          4.610436,
          4.752925,
          7.9796185,
          1.8396188,
          7.2943053,
          6.290908,
          7.534161,
          5.063318,
          8.200805,
          5.159815,
          7.726091,
          1.6353325,
          2.3260472,
          1.2592634,
          4.8382273,
          5.5997868,
          5.1294613,
          6.486393,
          7.1623597,
          4.377564,
          6.0726895,
          6.9597497,
          1.2103318,
          8.155666,
          6.666035,
          1.7896405,
          6.098165,
          6.010339,
          6.0856485,
          6.2215447,
          8.205838,
          4.1772003,
          3.085965,
          6.0194182,
          1.696507,
          3.8186872,
          6.369173,
          5.204226,
          2.9757538,
          3.310445,
          2.827158,
          4.6245775,
          3.7624793,
          5.847712,
          4.040492,
          2.7260642,
          6.2419796,
          1.9970073,
          6.648339,
          7.607688,
          3.6664958,
          7.986914,
          5.304032,
          3.9636152,
          2.6195102,
          5.525712,
          4.9413795,
          5.4954796,
          6.0834975,
          7.556476,
          7.109932,
          3.7751842,
          5.076569,
          4.8198485,
          6.147135,
          1.8439226,
          7.086249,
          3.1384568,
          4.796473,
          4.569087,
          7.147265,
          3.1421034,
          7.759869,
          4.986469,
          8.35756,
          2.8148355,
          6.217201,
          4.7869453,
          4.8278565,
          6.060331,
          7.484754,
          7.2720213,
          5.531266,
          4.867388,
          2.2562332,
          7.3109026,
          0.93356246,
          1.6672221,
          8.240437,
          7.7894545,
          7.592803,
          3.298938,
          6.7654896,
          5.1616216,
          3.3915138,
          1.7488344,
          1.7180102,
          7.655707,
          3.7776394,
          1.5847104,
          7.265362,
          1.9140855,
          1.796428,
          3.8192766,
          3.5067334,
          7.2799864,
          5.0838947,
          2.1681566,
          5.7570887,
          5.4384885,
          6.6114583,
          4.1093554,
          3.3923142,
          6.6434116,
          6.384302,
          7.09829,
          6.586015,
          1.2462951,
          1.7996386,
          6.514732,
          6.1079087,
          4.078673,
          3.1140964,
          6.612958
         ],
         "xaxis": "x",
         "y": [
          3.0232685,
          2.7768207,
          2.963583,
          3.8018749,
          2.9724758,
          5.8909345,
          2.8415134,
          2.9127908,
          4.7735143,
          2.6496658,
          3.2052586,
          2.2152102,
          4.3338532,
          2.8741677,
          4.4841213,
          4.5656004,
          5.8815393,
          4.486235,
          1.7255142,
          5.0731206,
          3.085413,
          3.7318559,
          3.1423943,
          1.4071488,
          3.8849654,
          2.1464775,
          3.3954382,
          6.2942247,
          5.3624797,
          3.0038931,
          3.62329,
          3.3687246,
          2.8104367,
          2.2027779,
          2.2240105,
          2.4978309,
          5.1281123,
          3.3247051,
          4.1862836,
          2.7234354,
          2.56352,
          3.318707,
          4.1066957,
          3.0502703,
          4.0701284,
          2.4769683,
          3.2376475,
          3.1640654,
          3.5334983,
          6.2631726,
          4.6369877,
          3.0749152,
          3.4948444,
          5.996629,
          5.1616077,
          3.3619175,
          4.112619,
          3.397406,
          5.8397627,
          3.2672799,
          3.1312978,
          5.085132,
          2.795304,
          3.4251242,
          1.4438746,
          2.507829,
          5.456632,
          4.9699926,
          3.3043668,
          5.1783814,
          3.6132193,
          2.2024288,
          4.8874393,
          5.2886977,
          4.665535,
          4.448424,
          3.8279102,
          3.996099,
          4.3331127,
          4.469929,
          1.7926351,
          2.591039,
          3.2009602,
          4.0510483,
          3.6087174,
          3.3521252,
          3.7920632,
          2.5768507,
          3.2736318,
          2.4768455,
          4.30147,
          4.5916376,
          5.9794846,
          4.6780534,
          3.1994853,
          2.8945172,
          3.2452419,
          4.161336,
          2.0342414,
          2.886394,
          4.668003,
          3.4667304,
          1.9637144,
          2.8822653,
          4.608156,
          4.5200086,
          2.8630178,
          1.4399022,
          2.0653107,
          2.8063338,
          6.3259177,
          5.046217,
          3.6152644,
          1.4406271,
          1.4822454,
          3.1461256,
          3.5827956,
          1.8453598,
          2.0176094,
          4.0888124,
          3.297211,
          4.7953577,
          2.2031434,
          3.1620982,
          3.984647,
          3.4026437,
          4.520461,
          5.300327,
          2.0875976,
          3.9323323,
          6.3248954,
          5.536984,
          2.5920794,
          3.1396375,
          3.857031,
          2.2470677,
          2.675872,
          6.3341675,
          3.122485,
          4.685982,
          4.882945,
          1.2776217,
          5.9731894,
          3.7117846,
          3.6348875,
          1.6650308,
          4.744465,
          5.026473,
          1.1931986,
          2.787675,
          4.594144,
          3.6893342,
          3.486436,
          1.98754,
          2.8265388,
          2.8042533,
          3.8899024,
          4.1851463,
          2.4374812,
          1.5325845,
          2.0329695,
          3.597225,
          5.949107,
          4.9052916,
          4.955219,
          2.450068,
          5.287728,
          3.9979403,
          3.2504733,
          1.522813,
          3.6628914,
          4.6237936,
          3.1611915,
          3.94888,
          5.9835887,
          3.459154,
          3.0524993,
          2.324321,
          4.0700665,
          4.910339,
          3.0080454,
          3.4100318,
          4.5226126,
          2.9651616,
          1.8892089,
          2.5682106,
          4.7448177,
          5.846769,
          2.0576975,
          4.847923,
          1.4771327,
          5.811098,
          3.9777768,
          5.4519205,
          3.4394083,
          3.9870632,
          5.517796,
          4.5784397,
          5.0091386,
          3.3658578,
          4.811257,
          3.7969298,
          3.2673333,
          3.0069096,
          2.2721481,
          4.952759,
          4.7013707,
          4.3198805,
          2.6676154,
          3.2431326,
          5.4233546,
          5.125136,
          3.269244,
          2.44096,
          5.032072,
          4.617138,
          2.8668056,
          2.848248,
          4.298283,
          3.301276,
          4.9619975,
          5.69996,
          3.2853549,
          5.014309,
          4.891424,
          4.039935,
          1.7001048,
          6.359226,
          3.8109717,
          3.2116303,
          5.0127726,
          1.2994938,
          3.5073946,
          4.654582,
          1.701909,
          1.2334875,
          5.853099,
          3.4425464,
          4.536458,
          5.0580735,
          2.2100906,
          3.331384,
          2.577462,
          4.091232,
          2.591962
         ],
         "yaxis": "y"
        }
       ],
       "layout": {
        "coloraxis": {
         "colorbar": {
          "title": {
           "text": "pos-neg"
          }
         },
         "colorscale": [
          [
           0,
           "#0d0887"
          ],
          [
           0.1111111111111111,
           "#46039f"
          ],
          [
           0.2222222222222222,
           "#7201a8"
          ],
          [
           0.3333333333333333,
           "#9c179e"
          ],
          [
           0.4444444444444444,
           "#bd3786"
          ],
          [
           0.5555555555555556,
           "#d8576b"
          ],
          [
           0.6666666666666666,
           "#ed7953"
          ],
          [
           0.7777777777777778,
           "#fb9f3a"
          ],
          [
           0.8888888888888888,
           "#fdca26"
          ],
          [
           1,
           "#f0f921"
          ]
         ]
        },
        "height": 750,
        "legend": {
         "tracegroupgap": 0
        },
        "margin": {
         "t": 60
        },
        "template": {
         "data": {
          "bar": [
           {
            "error_x": {
             "color": "#2a3f5f"
            },
            "error_y": {
             "color": "#2a3f5f"
            },
            "marker": {
             "line": {
              "color": "#E5ECF6",
              "width": 0.5
             },
             "pattern": {
              "fillmode": "overlay",
              "size": 10,
              "solidity": 0.2
             }
            },
            "type": "bar"
           }
          ],
          "barpolar": [
           {
            "marker": {
             "line": {
              "color": "#E5ECF6",
              "width": 0.5
             },
             "pattern": {
              "fillmode": "overlay",
              "size": 10,
              "solidity": 0.2
             }
            },
            "type": "barpolar"
           }
          ],
          "carpet": [
           {
            "aaxis": {
             "endlinecolor": "#2a3f5f",
             "gridcolor": "white",
             "linecolor": "white",
             "minorgridcolor": "white",
             "startlinecolor": "#2a3f5f"
            },
            "baxis": {
             "endlinecolor": "#2a3f5f",
             "gridcolor": "white",
             "linecolor": "white",
             "minorgridcolor": "white",
             "startlinecolor": "#2a3f5f"
            },
            "type": "carpet"
           }
          ],
          "choropleth": [
           {
            "colorbar": {
             "outlinewidth": 0,
             "ticks": ""
            },
            "type": "choropleth"
           }
          ],
          "contour": [
           {
            "colorbar": {
             "outlinewidth": 0,
             "ticks": ""
            },
            "colorscale": [
             [
              0,
              "#0d0887"
             ],
             [
              0.1111111111111111,
              "#46039f"
             ],
             [
              0.2222222222222222,
              "#7201a8"
             ],
             [
              0.3333333333333333,
              "#9c179e"
             ],
             [
              0.4444444444444444,
              "#bd3786"
             ],
             [
              0.5555555555555556,
              "#d8576b"
             ],
             [
              0.6666666666666666,
              "#ed7953"
             ],
             [
              0.7777777777777778,
              "#fb9f3a"
             ],
             [
              0.8888888888888888,
              "#fdca26"
             ],
             [
              1,
              "#f0f921"
             ]
            ],
            "type": "contour"
           }
          ],
          "contourcarpet": [
           {
            "colorbar": {
             "outlinewidth": 0,
             "ticks": ""
            },
            "type": "contourcarpet"
           }
          ],
          "heatmap": [
           {
            "colorbar": {
             "outlinewidth": 0,
             "ticks": ""
            },
            "colorscale": [
             [
              0,
              "#0d0887"
             ],
             [
              0.1111111111111111,
              "#46039f"
             ],
             [
              0.2222222222222222,
              "#7201a8"
             ],
             [
              0.3333333333333333,
              "#9c179e"
             ],
             [
              0.4444444444444444,
              "#bd3786"
             ],
             [
              0.5555555555555556,
              "#d8576b"
             ],
             [
              0.6666666666666666,
              "#ed7953"
             ],
             [
              0.7777777777777778,
              "#fb9f3a"
             ],
             [
              0.8888888888888888,
              "#fdca26"
             ],
             [
              1,
              "#f0f921"
             ]
            ],
            "type": "heatmap"
           }
          ],
          "heatmapgl": [
           {
            "colorbar": {
             "outlinewidth": 0,
             "ticks": ""
            },
            "colorscale": [
             [
              0,
              "#0d0887"
             ],
             [
              0.1111111111111111,
              "#46039f"
             ],
             [
              0.2222222222222222,
              "#7201a8"
             ],
             [
              0.3333333333333333,
              "#9c179e"
             ],
             [
              0.4444444444444444,
              "#bd3786"
             ],
             [
              0.5555555555555556,
              "#d8576b"
             ],
             [
              0.6666666666666666,
              "#ed7953"
             ],
             [
              0.7777777777777778,
              "#fb9f3a"
             ],
             [
              0.8888888888888888,
              "#fdca26"
             ],
             [
              1,
              "#f0f921"
             ]
            ],
            "type": "heatmapgl"
           }
          ],
          "histogram": [
           {
            "marker": {
             "pattern": {
              "fillmode": "overlay",
              "size": 10,
              "solidity": 0.2
             }
            },
            "type": "histogram"
           }
          ],
          "histogram2d": [
           {
            "colorbar": {
             "outlinewidth": 0,
             "ticks": ""
            },
            "colorscale": [
             [
              0,
              "#0d0887"
             ],
             [
              0.1111111111111111,
              "#46039f"
             ],
             [
              0.2222222222222222,
              "#7201a8"
             ],
             [
              0.3333333333333333,
              "#9c179e"
             ],
             [
              0.4444444444444444,
              "#bd3786"
             ],
             [
              0.5555555555555556,
              "#d8576b"
             ],
             [
              0.6666666666666666,
              "#ed7953"
             ],
             [
              0.7777777777777778,
              "#fb9f3a"
             ],
             [
              0.8888888888888888,
              "#fdca26"
             ],
             [
              1,
              "#f0f921"
             ]
            ],
            "type": "histogram2d"
           }
          ],
          "histogram2dcontour": [
           {
            "colorbar": {
             "outlinewidth": 0,
             "ticks": ""
            },
            "colorscale": [
             [
              0,
              "#0d0887"
             ],
             [
              0.1111111111111111,
              "#46039f"
             ],
             [
              0.2222222222222222,
              "#7201a8"
             ],
             [
              0.3333333333333333,
              "#9c179e"
             ],
             [
              0.4444444444444444,
              "#bd3786"
             ],
             [
              0.5555555555555556,
              "#d8576b"
             ],
             [
              0.6666666666666666,
              "#ed7953"
             ],
             [
              0.7777777777777778,
              "#fb9f3a"
             ],
             [
              0.8888888888888888,
              "#fdca26"
             ],
             [
              1,
              "#f0f921"
             ]
            ],
            "type": "histogram2dcontour"
           }
          ],
          "mesh3d": [
           {
            "colorbar": {
             "outlinewidth": 0,
             "ticks": ""
            },
            "type": "mesh3d"
           }
          ],
          "parcoords": [
           {
            "line": {
             "colorbar": {
              "outlinewidth": 0,
              "ticks": ""
             }
            },
            "type": "parcoords"
           }
          ],
          "pie": [
           {
            "automargin": true,
            "type": "pie"
           }
          ],
          "scatter": [
           {
            "fillpattern": {
             "fillmode": "overlay",
             "size": 10,
             "solidity": 0.2
            },
            "type": "scatter"
           }
          ],
          "scatter3d": [
           {
            "line": {
             "colorbar": {
              "outlinewidth": 0,
              "ticks": ""
             }
            },
            "marker": {
             "colorbar": {
              "outlinewidth": 0,
              "ticks": ""
             }
            },
            "type": "scatter3d"
           }
          ],
          "scattercarpet": [
           {
            "marker": {
             "colorbar": {
              "outlinewidth": 0,
              "ticks": ""
             }
            },
            "type": "scattercarpet"
           }
          ],
          "scattergeo": [
           {
            "marker": {
             "colorbar": {
              "outlinewidth": 0,
              "ticks": ""
             }
            },
            "type": "scattergeo"
           }
          ],
          "scattergl": [
           {
            "marker": {
             "colorbar": {
              "outlinewidth": 0,
              "ticks": ""
             }
            },
            "type": "scattergl"
           }
          ],
          "scattermapbox": [
           {
            "marker": {
             "colorbar": {
              "outlinewidth": 0,
              "ticks": ""
             }
            },
            "type": "scattermapbox"
           }
          ],
          "scatterpolar": [
           {
            "marker": {
             "colorbar": {
              "outlinewidth": 0,
              "ticks": ""
             }
            },
            "type": "scatterpolar"
           }
          ],
          "scatterpolargl": [
           {
            "marker": {
             "colorbar": {
              "outlinewidth": 0,
              "ticks": ""
             }
            },
            "type": "scatterpolargl"
           }
          ],
          "scatterternary": [
           {
            "marker": {
             "colorbar": {
              "outlinewidth": 0,
              "ticks": ""
             }
            },
            "type": "scatterternary"
           }
          ],
          "surface": [
           {
            "colorbar": {
             "outlinewidth": 0,
             "ticks": ""
            },
            "colorscale": [
             [
              0,
              "#0d0887"
             ],
             [
              0.1111111111111111,
              "#46039f"
             ],
             [
              0.2222222222222222,
              "#7201a8"
             ],
             [
              0.3333333333333333,
              "#9c179e"
             ],
             [
              0.4444444444444444,
              "#bd3786"
             ],
             [
              0.5555555555555556,
              "#d8576b"
             ],
             [
              0.6666666666666666,
              "#ed7953"
             ],
             [
              0.7777777777777778,
              "#fb9f3a"
             ],
             [
              0.8888888888888888,
              "#fdca26"
             ],
             [
              1,
              "#f0f921"
             ]
            ],
            "type": "surface"
           }
          ],
          "table": [
           {
            "cells": {
             "fill": {
              "color": "#EBF0F8"
             },
             "line": {
              "color": "white"
             }
            },
            "header": {
             "fill": {
              "color": "#C8D4E3"
             },
             "line": {
              "color": "white"
             }
            },
            "type": "table"
           }
          ]
         },
         "layout": {
          "annotationdefaults": {
           "arrowcolor": "#2a3f5f",
           "arrowhead": 0,
           "arrowwidth": 1
          },
          "autotypenumbers": "strict",
          "coloraxis": {
           "colorbar": {
            "outlinewidth": 0,
            "ticks": ""
           }
          },
          "colorscale": {
           "diverging": [
            [
             0,
             "#8e0152"
            ],
            [
             0.1,
             "#c51b7d"
            ],
            [
             0.2,
             "#de77ae"
            ],
            [
             0.3,
             "#f1b6da"
            ],
            [
             0.4,
             "#fde0ef"
            ],
            [
             0.5,
             "#f7f7f7"
            ],
            [
             0.6,
             "#e6f5d0"
            ],
            [
             0.7,
             "#b8e186"
            ],
            [
             0.8,
             "#7fbc41"
            ],
            [
             0.9,
             "#4d9221"
            ],
            [
             1,
             "#276419"
            ]
           ],
           "sequential": [
            [
             0,
             "#0d0887"
            ],
            [
             0.1111111111111111,
             "#46039f"
            ],
            [
             0.2222222222222222,
             "#7201a8"
            ],
            [
             0.3333333333333333,
             "#9c179e"
            ],
            [
             0.4444444444444444,
             "#bd3786"
            ],
            [
             0.5555555555555556,
             "#d8576b"
            ],
            [
             0.6666666666666666,
             "#ed7953"
            ],
            [
             0.7777777777777778,
             "#fb9f3a"
            ],
            [
             0.8888888888888888,
             "#fdca26"
            ],
            [
             1,
             "#f0f921"
            ]
           ],
           "sequentialminus": [
            [
             0,
             "#0d0887"
            ],
            [
             0.1111111111111111,
             "#46039f"
            ],
            [
             0.2222222222222222,
             "#7201a8"
            ],
            [
             0.3333333333333333,
             "#9c179e"
            ],
            [
             0.4444444444444444,
             "#bd3786"
            ],
            [
             0.5555555555555556,
             "#d8576b"
            ],
            [
             0.6666666666666666,
             "#ed7953"
            ],
            [
             0.7777777777777778,
             "#fb9f3a"
            ],
            [
             0.8888888888888888,
             "#fdca26"
            ],
            [
             1,
             "#f0f921"
            ]
           ]
          },
          "colorway": [
           "#636efa",
           "#EF553B",
           "#00cc96",
           "#ab63fa",
           "#FFA15A",
           "#19d3f3",
           "#FF6692",
           "#B6E880",
           "#FF97FF",
           "#FECB52"
          ],
          "font": {
           "color": "#2a3f5f"
          },
          "geo": {
           "bgcolor": "white",
           "lakecolor": "white",
           "landcolor": "#E5ECF6",
           "showlakes": true,
           "showland": true,
           "subunitcolor": "white"
          },
          "hoverlabel": {
           "align": "left"
          },
          "hovermode": "closest",
          "mapbox": {
           "style": "light"
          },
          "paper_bgcolor": "white",
          "plot_bgcolor": "#E5ECF6",
          "polar": {
           "angularaxis": {
            "gridcolor": "white",
            "linecolor": "white",
            "ticks": ""
           },
           "bgcolor": "#E5ECF6",
           "radialaxis": {
            "gridcolor": "white",
            "linecolor": "white",
            "ticks": ""
           }
          },
          "scene": {
           "xaxis": {
            "backgroundcolor": "#E5ECF6",
            "gridcolor": "white",
            "gridwidth": 2,
            "linecolor": "white",
            "showbackground": true,
            "ticks": "",
            "zerolinecolor": "white"
           },
           "yaxis": {
            "backgroundcolor": "#E5ECF6",
            "gridcolor": "white",
            "gridwidth": 2,
            "linecolor": "white",
            "showbackground": true,
            "ticks": "",
            "zerolinecolor": "white"
           },
           "zaxis": {
            "backgroundcolor": "#E5ECF6",
            "gridcolor": "white",
            "gridwidth": 2,
            "linecolor": "white",
            "showbackground": true,
            "ticks": "",
            "zerolinecolor": "white"
           }
          },
          "shapedefaults": {
           "line": {
            "color": "#2a3f5f"
           }
          },
          "ternary": {
           "aaxis": {
            "gridcolor": "white",
            "linecolor": "white",
            "ticks": ""
           },
           "baxis": {
            "gridcolor": "white",
            "linecolor": "white",
            "ticks": ""
           },
           "bgcolor": "#E5ECF6",
           "caxis": {
            "gridcolor": "white",
            "linecolor": "white",
            "ticks": ""
           }
          },
          "title": {
           "x": 0.05
          },
          "xaxis": {
           "automargin": true,
           "gridcolor": "white",
           "linecolor": "white",
           "ticks": "",
           "title": {
            "standoff": 15
           },
           "zerolinecolor": "white",
           "zerolinewidth": 2
          },
          "yaxis": {
           "automargin": true,
           "gridcolor": "white",
           "linecolor": "white",
           "ticks": "",
           "title": {
            "standoff": 15
           },
           "zerolinecolor": "white",
           "zerolinewidth": 2
          }
         }
        },
        "width": 1200,
        "xaxis": {
         "anchor": "y",
         "domain": [
          0,
          1
         ],
         "title": {
          "text": "ReducedEmbeddings_x"
         }
        },
        "yaxis": {
         "anchor": "x",
         "domain": [
          0,
          1
         ],
         "title": {
          "text": "ReducedEmbeddings_y"
         }
        }
       }
      }
     },
     "metadata": {},
     "output_type": "display_data"
    }
   ],
   "source": [
    "px.scatter(final, x='ReducedEmbeddings_x', y='ReducedEmbeddings_y', width=1200, height=750, hover_data=['title', 'CustomName'], color='pos-neg')"
   ]
  },
  {
   "cell_type": "code",
   "execution_count": null,
   "metadata": {},
   "outputs": [
    {
     "data": {
      "application/vnd.plotly.v1+json": {
       "config": {
        "plotlyServerURL": "https://plot.ly"
       },
       "data": [
        {
         "customdata": [
          [
           "TÁR - Official Trailer [HD] - In Select Theaters October 7",
           1.8031439099684545
          ],
          [
           "PHANTOM THREAD - Official Trailer [HD] - In Select Theaters Christmas",
           1.5421399247731888
          ],
          [
           "OPERATION FINALE | Official Trailer | MGM",
           1.7010867513664398
          ],
          [
           "Lady Bird | Official Trailer HD | A24",
           1.543016566250846
          ],
          [
           "Forever My Girl | Official Trailer | Roadside Attractions |  In theaters January 19",
           1.5743138704071238
          ],
          [
           "Wonder (2017 Movie) Official Trailer – #ChooseKind – Julia Roberts, Owen Wilson",
           1.3762282707045819
          ],
          [
           "Mid90s | Official Trailer HD | A24",
           1.3390127092593402
          ],
          [
           "EVERY DAY Official Trailer (2018)",
           1.5289143430080814
          ],
          [
           "LEAVE NO TRACE | Official Trailer",
           4.700439718141093
          ],
          [
           "COLETTE | Official Trailer",
           2.394551006892043
          ],
          [
           "DISOBEDIENCE | Official Trailer",
           1.3110596471398852
          ],
          [
           "You Were Never Really Here – Official Trailer | Amazon Studios",
           1.5439593106327716
          ],
          [
           "PAPILLON | Official Trailer",
           1.857607105190726
          ],
          [
           "THE FRONT RUNNER – International Trailer",
           1.7222589228935263
          ],
          [
           "Schindler's List 25th Anniversary - Official Trailer - In Theaters December 7",
           1.6538070458406473
          ],
          [
           "ON CHESIL BEACH | Official Trailer",
           4.169925001442312
          ],
          [
           "The Catcher Was a Spy - Official Trailer | HD | IFC Films",
           3.5849625007211565
          ],
          [
           "THE LITTLE STRANGER - Official Trailer [HD] - In Theaters August 31",
           2.047818583457956
          ],
          [
           "Boundaries (2018) Official Trailer HD",
           2.807354922057604
          ],
          [
           "Lizzie Official Trailer | Roadside Attractions | In Select Theaters September 14",
           3.0959032742893844
          ],
          [
           "The Florida Project | Official Trailer HD | A24",
           1.6778087682944516
          ],
          [
           "MARSHALL | Official Trailer [HD] | Open Road Films",
           2.321928094887362
          ],
          [
           "Skate Kitchen Official Trailer - Starring The Skate Kitchen and Jaden Smith",
           1.6056362616774722
          ],
          [
           "NOSTALGIA | Official Trailer",
           3.3219280948873626
          ],
          [
           "Bomb City I Movie Trailer",
           4.08746284125034
          ],
          [
           "Krystal Trailer #1 (2018) | Movieclips Indie",
           1.445634304012274
          ],
          [
           "Loving Pablo Trailer #1 (2018) | Movieclips Trailers",
           1.6557403313609884
          ],
          [
           "Paladins - Cinematic Trailer - \"Go To War\"",
           1.433441474398345
          ],
          [
           "Please Stand By - Official Trailer",
           2.9299470414358537
          ],
          [
           "Summer of '67 Trailer #1 (2018) | Movieclips Indie",
           1.6309297535714573
          ],
          [
           "A DOG'S WAY HOME - Official Trailer (HD)",
           1.636776423579942
          ],
          [
           "The Art of Racing in the Rain | Official Trailer [HD] | 20th Century FOX",
           1.7922583956163145
          ],
          [
           "A Dog's Journey - Official Trailer (HD)",
           1.283935533211521
          ],
          [
           "The Best of Enemies | Official Trailer [HD] | Own It Now on Digital HD, Blu-Ray & DVD",
           4.807354922057604
          ],
          [
           "THE MUSTANG | Official Trailer | Focus Features",
           2.4243239656074644
          ],
          [
           "THE SUN IS ALSO A STAR - Official Trailer",
           1.4146844459153354
          ],
          [
           "BRIAN BANKS | Official Trailer",
           1.2090619551221675
          ],
          [
           "ARCTIC | Official Trailer",
           1.727448062845333
          ],
          [
           "Climax | Official Trailer HD | A24",
           1.7297158093186489
          ],
          [
           "LUCY IN THE SKY | Official Trailer | FOX Searchlight",
           1.5889774927747713
          ],
          [
           "\"Canal Street\" Official Trailer - In Theaters 1.18.19",
           1.5238838693859558
          ],
          [
           "The Warrior Queen of Jhansi | Official Trailer | In Theaters November 15",
           1.5343042396812747
          ],
          [
           "Peterloo - Official Trailer | Amazon Studios",
           1.5849625007211563
          ],
          [
           "Charlie Says - Official Trailer I HD I IFC Films",
           1.2097085961051282
          ],
          [
           "White Snake [Official English Trailer]",
           1.7546603403387586
          ],
          [
           "INFINITE STORM | Official Trailer | Bleecker Street",
           2.807354922057604
          ],
          [
           "After Ever Happy | Official Trailer | Voltage Pictures",
           1.445118739153156
          ],
          [
           "Redeeming Love Trailer #1 (2022) | Movieclips Trailers",
           2.767641585823457
          ],
          [
           "THE SILENT TWINS - Official Trailer [HD] - Only in Theaters September 16",
           2.2924812503605785
          ],
          [
           "On The Count of Three | Official Trailer | Hulu",
           4.321928094887363
          ],
          [
           "WHERE THE CRAWDADS SING - Official Trailer (HD)",
           1.9195140415076537
          ],
          [
           "MEMORIA - Official Trailer",
           1.8750612633916997
          ],
          [
           "The Eternal Daughter | Official Trailer HD | A24",
           1.7044064714912375
          ],
          [
           "The Runner Official Trailer #1 (2015) - Nicolas Cage Movie HD",
           1.4056838710822128
          ],
          [
           "CRY MACHO – Official Trailer",
           1.7589920039940075
          ],
          [
           "SPENCER - Official Trailer - In Theaters November 5",
           1.3316508026530192
          ],
          [
           "BELFAST - Official Trailer - Only In Theaters November 12",
           2.3219280948873626
          ],
          [
           "LICORICE PIZZA | Official Trailer | MGM Studios",
           1.842000323785857
          ],
          [
           "PIG - Official Trailer - In Theatres July 16",
           1.3989630009275233
          ],
          [
           "LAND - Official Trailer [HD] - In Theaters February 12",
           1.843072575667113
          ],
          [
           "NOMADLAND | Official Trailer | Searchlight Pictures",
           1.6997561009963964
          ],
          [
           "C'mon C'mon | Official Trailer HD | A24",
           1.8301079681042904
          ],
          [
           "Four Good Days | Official Trailer (HD) | Vertical Entertainment",
           1.3733681873444643
          ],
          [
           "Red Rocket | Official Trailer HD | A24",
           1.6272664537277277
          ],
          [
           "A MOUTHFUL OF AIR - Official Trailer (HD) | Now on Digital and On Demand",
           1.3423754829424792
          ],
          [
           "SUPERNOVA | Official Trailer | Bleecker Street",
           5.169925001442312
          ],
          [
           "THE WORLD TO COME | Official Trailer I Bleecker Street",
           1.8069475620432935
          ],
          [
           "Monday: Official Trailer | Starring Sebastian Stan & Denise Gough | IFC Films",
           2.2454520084538694
          ],
          [
           "GULLY | Official Trailer | Paramount Movies",
           1.0331192929457338
          ],
          [
           "EMPIRE OF LIGHT | Official Trailer | Searchlight Pictures",
           2.378868651539773
          ],
          [
           "PASSAGES | Official Trailer | In Theaters Now",
           2.630929753571457
          ],
          [
           "How To Blow Up A Pipeline - Official Trailer - In Theaters April 7",
           0.9449415302021363
          ],
          [
           "Showing Up | Official Trailer HD | A24",
           1.5980368481118183
          ],
          [
           "Knives Out (2019 Movie) Official Trailer — Daniel Craig, Chris Evans, Jamie Lee Curtis",
           1.1247489824223282
          ],
          [
           "Bombshell (2019 Movie) New Trailer — Charlize Theron, Nicole Kidman, Margot Robbie",
           1.203584801509194
          ],
          [
           "A BEAUTIFUL DAY IN THE NEIGHBORHOOD - Official Trailer (HD)",
           1.2784635765458068
          ],
          [
           "Words on Bathroom Walls | Official Trailer  | In Theaters August 21",
           1.8727885893214173
          ],
          [
           "THE BANSHEES OF INISHERIN | Official Trailer | Searchlight Pictures",
           1.542900112764033
          ],
          [
           "All My Life - Official Trailer [HD]",
           1.6930880663897714
          ],
          [
           "JULES | Official Trailer | Bleecker Street",
           2.54373142062517
          ],
          [
           "A HIDDEN LIFE | Official Trailer [HD] | FOX Searchlight",
           1.4388083285638036
          ],
          [
           "Clemency [Official Trailer] – In Theaters December 27, 2019",
           3.3219280948873626
          ],
          [
           "GOLDA | Official Trailer | Bleecker Street",
           1.2289789288974886
          ],
          [
           "WENDY | Official Trailer [HD] | FOX Searchlight",
           1.7637966742771916
          ],
          [
           "First Cow | Official Trailer HD | A24",
           1.3234000426025028
          ],
          [
           "RESISTANCE - Official Trailer I HD I IFC Films",
           0.7324867603589634
          ],
          [
           "CREED III | Official Trailer",
           1.3764214818499916
          ],
          [
           "Hustlers | Official Trailer [HD] | Own it Now on Digital HD, Blu-Ray & DVD",
           1.878339805414236
          ]
         ],
         "hovertemplate": "CustomName=Movie Trailers<br>ReducedEmbeddings_x=%{x}<br>ReducedEmbeddings_y=%{y}<br>title=%{customdata[0]}<br>pos-neg=%{customdata[1]}<extra></extra>",
         "legendgroup": "Movie Trailers",
         "marker": {
          "color": "#636efa",
          "symbol": "circle"
         },
         "mode": "markers",
         "name": "Movie Trailers",
         "orientation": "v",
         "showlegend": true,
         "type": "scatter",
         "x": [
          7.812714,
          5.151782,
          4.8752437,
          3.7662737,
          7.852756,
          1.3859712,
          7.4640737,
          7.5138955,
          7.4629946,
          7.446153,
          7.6703296,
          4.8769445,
          7.290787,
          1.7205044,
          6.315572,
          5.3591676,
          4.864619,
          6.2340527,
          7.714767,
          7.1094036,
          1.972521,
          7.2412066,
          5.3165603,
          8.364626,
          2.022968,
          7.735233,
          4.9363656,
          6.44432,
          6.162732,
          7.638051,
          2.9190826,
          8.283298,
          2.928291,
          1.6440136,
          9.203874,
          7.4740605,
          7.1876764,
          7.9396005,
          2.0618799,
          8.409927,
          5.9536185,
          7.221577,
          7.796598,
          2.7357275,
          8.814628,
          6.0792494,
          7.7882237,
          4.9150567,
          2.392819,
          7.9796185,
          1.8396188,
          7.2943053,
          8.200805,
          1.6353325,
          5.5997868,
          6.486393,
          7.1623597,
          4.377564,
          8.155666,
          6.098165,
          6.0856485,
          8.205838,
          6.0194182,
          6.369173,
          3.7624793,
          5.847712,
          6.2419796,
          7.607688,
          7.986914,
          5.304032,
          5.4954796,
          7.556476,
          7.109932,
          6.147135,
          3.1421034,
          8.35756,
          2.8148355,
          4.8278565,
          7.484754,
          7.2720213,
          8.240437,
          6.7654896,
          1.7488344,
          7.655707,
          3.8192766,
          6.586015,
          6.514732,
          6.612958
         ],
         "xaxis": "x",
         "y": [
          3.0232685,
          4.3338532,
          2.8741677,
          4.4841213,
          4.5656004,
          4.486235,
          3.085413,
          3.7318559,
          3.1423943,
          3.8849654,
          3.62329,
          3.3687246,
          2.8104367,
          2.4978309,
          3.3247051,
          4.1862836,
          2.7234354,
          2.56352,
          4.1066957,
          3.0502703,
          4.0701284,
          2.4769683,
          6.2631726,
          4.112619,
          3.1312978,
          3.4251242,
          1.4438746,
          2.507829,
          5.1783814,
          3.6132193,
          4.448424,
          3.996099,
          4.3331127,
          2.591039,
          3.6087174,
          3.7920632,
          2.4768455,
          4.30147,
          3.1994853,
          4.161336,
          2.886394,
          4.668003,
          3.4667304,
          2.8822653,
          4.5200086,
          2.8063338,
          3.6152644,
          1.4406271,
          4.0888124,
          3.1620982,
          3.984647,
          3.4026437,
          3.9323323,
          2.5920794,
          2.675872,
          3.122485,
          4.685982,
          4.882945,
          3.6348875,
          5.026473,
          2.787675,
          3.6893342,
          2.8265388,
          4.1851463,
          4.9052916,
          4.955219,
          3.9979403,
          3.6628914,
          3.1611915,
          3.94888,
          4.0700665,
          3.0080454,
          3.4100318,
          2.5682106,
          3.9777768,
          3.9870632,
          5.517796,
          3.3658578,
          3.7969298,
          3.2673333,
          3.2431326,
          2.44096,
          2.8668056,
          4.298283,
          4.891424,
          3.4425464,
          2.2100906,
          2.591962
         ],
         "yaxis": "y"
        },
        {
         "customdata": [
          [
           "RICHARD JEWELL - Official Trailer [HD]",
           1.1695269668338928
          ],
          [
           "GOSNELL: The Trial of America's Biggest Serial Killer (Official Trailer)",
           1.3363273966779272
          ],
          [
           "ROMAN J. ISRAEL, ESQ. - Official Trailer (HD)",
           2.9299470414358537
          ],
          [
           "El Chicano :: OFFICIAL TRAILER  |  In Theaters May 3rd",
           1.4124534801998294
          ],
          [
           "American Skin | Official Trailer (HD) | Vertical Entertainment",
           1.2366941756039844
          ],
          [
           "Mayday - Official Trailer",
           2
          ],
          [
           "JUST MERCY Official Trailer",
           1.3980249097109085
          ],
          [
           "Past Lives | Official Trailer HD | A24",
           1.4297587689282603
          ]
         ],
         "hovertemplate": "CustomName=True Crime Dramas<br>ReducedEmbeddings_x=%{x}<br>ReducedEmbeddings_y=%{y}<br>title=%{customdata[0]}<br>pos-neg=%{customdata[1]}<extra></extra>",
         "legendgroup": "True Crime Dramas",
         "marker": {
          "color": "#EF553B",
          "symbol": "circle"
         },
         "mode": "markers",
         "name": "True Crime Dramas",
         "orientation": "v",
         "showlegend": true,
         "type": "scatter",
         "x": [
          5.310845,
          5.040092,
          4.712967,
          4.488983,
          4.6245775,
          5.525712,
          5.076569,
          5.7570887
         ],
         "xaxis": "x",
         "y": [
          2.7768207,
          3.0038931,
          5.996629,
          5.9794846,
          5.949107,
          3.0524993,
          2.9651616,
          3.2116303
         ],
         "yaxis": "y"
        },
        {
         "customdata": [
          [
           "The Post | Official Trailer [HD] | 20th Century FOX",
           1.476343939757589
          ],
          [
           "DARKEST HOUR - Official Trailer [HD] - In Theaters November 22nd",
           1.3697988845145241
          ],
          [
           "THE 15:17 TO PARIS - Official Trailer [HD]",
           1.2988940996597371
          ],
          [
           "THE OUTFIT - Official Trailer - Only in Theaters March 18",
           1.8188858263387908
          ],
          [
           "The Mauritanian | Official Trailer [HD] | Rent or Own on Digital HD, Blu-ray & DVD Today",
           1.7949345586645566
          ],
          [
           "DARK WATERS | Official Trailer | In Theaters November 22",
           1.2496606329758426
          ],
          [
           "A Call to Spy - Official Trailer | HD | IFC Films",
           2.477098155193438
          ]
         ],
         "hovertemplate": "CustomName=True stories of historical figures<br>ReducedEmbeddings_x=%{x}<br>ReducedEmbeddings_y=%{y}<br>title=%{customdata[0]}<br>pos-neg=%{customdata[1]}<extra></extra>",
         "legendgroup": "True stories of historical figures",
         "marker": {
          "color": "#00cc96",
          "symbol": "circle"
         },
         "mode": "markers",
         "name": "True stories of historical figures",
         "orientation": "v",
         "showlegend": true,
         "type": "scatter",
         "x": [
          1.9047374,
          1.7179339,
          1.8404154,
          1.727668,
          1.696507,
          1.6672221,
          1.7180102
         ],
         "xaxis": "x",
         "y": [
          2.963583,
          2.8415134,
          2.9127908,
          2.8630178,
          2.8042533,
          2.6676154,
          2.848248
         ],
         "yaxis": "y"
        },
        {
         "customdata": [
          [
           "THE SHAPE OF WATER | Official Trailer | FOX Searchlight",
           1.307202420190147
          ],
          [
           "THE WATER MAN Official Trailer",
           3.4594316186372978
          ],
          [
           "Oppenheimer | New Trailer",
           1.106533801160234
          ]
         ],
         "hovertemplate": "CustomName=Emotional Journeys Through Life and History<br>ReducedEmbeddings_x=%{x}<br>ReducedEmbeddings_y=%{y}<br>title=%{customdata[0]}<br>pos-neg=%{customdata[1]}<extra></extra>",
         "legendgroup": "Emotional Journeys Through Life and History",
         "marker": {
          "color": "#ab63fa",
          "symbol": "circle"
         },
         "mode": "markers",
         "name": "Emotional Journeys Through Life and History",
         "orientation": "v",
         "showlegend": true,
         "type": "scatter",
         "x": [
          2.7874,
          2.827158,
          3.1140964
         ],
         "xaxis": "x",
         "y": [
          3.8018749,
          3.597225,
          4.091232
         ],
         "yaxis": "y"
        },
        {
         "customdata": [
          [
           "12 STRONG - Official Trailer",
           1.0935241061986825
          ],
          [
           "WHITE BOY RICK - Official Trailer (HD)",
           1.5439806226390176
          ],
          [
           "Blindspotting (2018 Movie) Official Trailer - Daveed Diggs, Rafael Casal",
           2.0205586751439273
          ],
          [
           "Blaze - Official Trailer | HD | IFC Films",
           4.754887502163469
          ],
          [
           "The Children Act | Official Trailer | A24",
           3.0959032742893844
          ],
          [
           "ONLY THE BRAVE - Official Trailer #3 (HD)",
           1.968099281839111
          ],
          [
           "God's Country - Official Trailer ft. Thandiwe Newton | HD | IFC Films",
           3.5849625007211565
          ],
          [
           "STILLWATER - Official Trailer [HD] - In Theaters July 30",
           1.603506184132919
          ],
          [
           "CARMEN | Official Trailer (2023)",
           4.321928094887363
          ],
          [
           "THE SON | Official Trailer (2022)",
           2.2158621074639253
          ],
          [
           "BABYLON | Official Trailer (2022 Movie) – Brad Pitt, Margot Robbie, Diego Calva, Tobey Maguire",
           1.3960673863563535
          ],
          [
           "I WANNA DANCE WITH SOMEBODY - Official Trailer (HD)",
           1.7188360624293284
          ]
         ],
         "hovertemplate": "CustomName=Movies and their themes<br>ReducedEmbeddings_x=%{x}<br>ReducedEmbeddings_y=%{y}<br>title=%{customdata[0]}<br>pos-neg=%{customdata[1]}<extra></extra>",
         "legendgroup": "Movies and their themes",
         "marker": {
          "color": "#FFA15A",
          "symbol": "circle"
         },
         "mode": "markers",
         "name": "Movies and their themes",
         "orientation": "v",
         "showlegend": true,
         "type": "scatter",
         "x": [
          2.245054,
          2.3266394,
          2.1573465,
          2.539107,
          2.8016584,
          2.2426214,
          2.5486927,
          2.3260472,
          1.9970073,
          2.6195102,
          1.9140855,
          2.1681566
         ],
         "xaxis": "x",
         "y": [
          2.9724758,
          3.2052586,
          3.3954382,
          3.318707,
          3.1640654,
          3.0749152,
          3.1461256,
          3.1396375,
          3.2504733,
          3.459154,
          3.2853549,
          3.8109717
         ],
         "yaxis": "y"
        },
        {
         "customdata": [
          [
           "Love, Simon | Official Trailer 2 [HD] | 20th Century FOX",
           1.5361209116133108
          ],
          [
           "Eighth Grade | Official Trailer HD | A24",
           1.295060999477693
          ],
          [
           "My Friend Dahmer - Official Trailer (US) - FilmRise",
           1.410964047443681
          ],
          [
           "A Kid Like Jake - Official Trailer I HD I IFC Films",
           2.8135880922155954
          ],
          [
           "WOLF - Official Trailer [HD] - Only in Theaters December 3",
           1.892789260714372
          ],
          [
           "Aristotle and Dante Discover the Secrets of the Universe | Official Trailer (2023)",
           1.9335735117254034
          ]
         ],
         "hovertemplate": "CustomName=Coming-of-age films<br>ReducedEmbeddings_x=%{x}<br>ReducedEmbeddings_y=%{y}<br>title=%{customdata[0]}<br>pos-neg=%{customdata[1]}<extra></extra>",
         "legendgroup": "Coming-of-age films",
         "marker": {
          "color": "#19d3f3",
          "symbol": "circle"
         },
         "mode": "markers",
         "name": "Coming-of-age films",
         "orientation": "v",
         "showlegend": true,
         "type": "scatter",
         "x": [
          3.8021061,
          3.8707063,
          3.6074388,
          2.629797,
          2.7260642,
          3.9636152
         ],
         "xaxis": "x",
         "y": [
          5.8909345,
          5.8815393,
          5.8397627,
          5.085132,
          5.287728,
          5.9835887
         ],
         "yaxis": "y"
        },
        {
         "customdata": [
          [
           "Nobody's Fool (2018) - Official Trailer - Paramount Pictures",
           1.3480159382239525
          ],
          [
           "SPOILER ALERT - Official Trailer [HD] - Only In Theaters December 2",
           6
          ],
          [
           "A GOOD PERSON | Official Trailer",
           4.095903274289384
          ]
         ],
         "hovertemplate": "CustomName=Movies and Literature<br>ReducedEmbeddings_x=%{x}<br>ReducedEmbeddings_y=%{y}<br>title=%{customdata[0]}<br>pos-neg=%{customdata[1]}<extra></extra>",
         "legendgroup": "Movies and Literature",
         "marker": {
          "color": "#FF6692",
          "symbol": "circle"
         },
         "mode": "markers",
         "name": "Movies and Literature",
         "orientation": "v",
         "showlegend": true,
         "type": "scatter",
         "x": [
          2.099974,
          2.0783107,
          2.2562332
         ],
         "xaxis": "x",
         "y": [
          4.7735143,
          5.046217,
          4.952759
         ],
         "yaxis": "y"
        },
        {
         "customdata": [
          [
           "Adrift | Final Trailer | Own It Now on Digital HD, Blu-Ray & DVD",
           1.4576028001523502
          ],
          [
           "Madeline's Madeline - Official Trailer HD - Oscilloscope Laboratories",
           1.3652123889719707
          ],
          [
           "Black 47 - Official Trailer I HD I IFC Films",
           2
          ],
          [
           "The Nightingale - Official Trailer I HD I IFC Films",
           1.3565661886755245
          ]
         ],
         "hovertemplate": "CustomName=Movies and their stars<br>ReducedEmbeddings_x=%{x}<br>ReducedEmbeddings_y=%{y}<br>title=%{customdata[0]}<br>pos-neg=%{customdata[1]}<extra></extra>",
         "legendgroup": "Movies and their stars",
         "marker": {
          "color": "#B6E880",
          "symbol": "circle"
         },
         "mode": "markers",
         "name": "Movies and their stars",
         "orientation": "v",
         "showlegend": true,
         "type": "scatter",
         "x": [
          2.8530006,
          4.0212955,
          2.6795392,
          2.6432862
         ],
         "xaxis": "x",
         "y": [
          2.6496658,
          4.6369877,
          2.795304,
          2.8945172
         ],
         "yaxis": "y"
        },
        {
         "customdata": [
          [
           "Molly's Game | Official Trailer | Own it Now on Digital HD, Blu-ray™ & DVD",
           1.5185199194171726
          ],
          [
           "Murder on the Orient Express | Official Trailer [HD] | 20th Century FOX",
           1.1896249309729157
          ],
          [
           "Official Trailer | Death on the Nile | 20th Century Studios",
           1.1902161718730502
          ],
          [
           "The Last Duel | Official Trailer | 20th Century Studios",
           1.4100847232571974
          ],
          [
           "City Of Lies Official Teaser Trailer (2021)",
           2.1239637567217926
          ],
          [
           "Naked Singularity – Official Trailer",
           2.584962500721156
          ],
          [
           "THE LAST VERMEER - Official Trailer (HD) - In Theaters November 20",
           2.9299470414358537
          ]
         ],
         "hovertemplate": "CustomName=Movies and Truth<br>ReducedEmbeddings_x=%{x}<br>ReducedEmbeddings_y=%{y}<br>title=%{customdata[0]}<br>pos-neg=%{customdata[1]}<extra></extra>",
         "legendgroup": "Movies and Truth",
         "marker": {
          "color": "#FF97FF",
          "symbol": "circle"
         },
         "mode": "markers",
         "name": "Movies and Truth",
         "orientation": "v",
         "showlegend": true,
         "type": "scatter",
         "x": [
          4.8429346,
          4.78656,
          4.752925,
          4.8382273,
          5.204226,
          4.9413795,
          4.867388
         ],
         "xaxis": "x",
         "y": [
          2.2152102,
          2.2027779,
          2.2031434,
          2.2470677,
          2.4374812,
          2.324321,
          2.2721481
         ],
         "yaxis": "y"
        },
        {
         "customdata": [
          [
           "THE MIRACLE SEASON | Official Trailer",
           3.700439718141092
          ],
          [
           "God's Not Dead 3: A Light in Darkness (Official Trailer)",
           1.7858506682060282
          ],
          [
           "Puzzle | Official Trailer HD (2018)",
           5.459431618637297
          ],
          [
           "ARMAGEDDON TIME - Official Trailer - In Select Theaters October 28",
           1.5377270602757498
          ],
          [
           "Call Jane | Official Trailer | In Theaters October 28",
           1.3634165139304208
          ],
          [
           "JUDAS AND THE BLACK MESSIAH - Official Trailer",
           1.233181854900897
          ],
          [
           "THE GIRL WHO BELIEVED IN MIRACLES Trailer (2021) Mira Sorvino Family Movie",
           1.7163294603769252
          ],
          [
           "THE EYES OF TAMMY FAYE | Official Trailer | Searchlight Pictures",
           1.538697391499865
          ],
          [
           "THE STARLING GIRL | Official Trailer | Bleecker Street",
           2.182658338644138
          ],
          [
           "ON THE BASIS OF SEX | Official Trailer | Focus Features",
           1.3663093706429568
          ],
          [
           "His Only Son | Official Trailer | Angel Studios",
           1.7075516557516117
          ],
          [
           "NEVER RARELY SOMETIMES ALWAYS - Official Trailer [HD] - At Home On Demand April 3",
           1.0805314786342621
          ],
          [
           "Jesus Revolution (2023 Movie) Official Trailer - Kelsey Grammer, Joel Courtney",
           1.8015294830909425
          ]
         ],
         "hovertemplate": "CustomName=Religious Journeys and Self-Discovery<br>ReducedEmbeddings_x=%{x}<br>ReducedEmbeddings_y=%{y}<br>title=%{customdata[0]}<br>pos-neg=%{customdata[1]}<extra></extra>",
         "legendgroup": "Religious Journeys and Self-Discovery",
         "marker": {
          "color": "#FECB52",
          "symbol": "circle"
         },
         "mode": "markers",
         "name": "Religious Journeys and Self-Discovery",
         "orientation": "v",
         "showlegend": true,
         "type": "scatter",
         "x": [
          6.7114196,
          6.553754,
          7.5866895,
          6.6360617,
          7.0678296,
          6.0726895,
          6.666035,
          6.010339,
          6.648339,
          7.2799864,
          6.6114583,
          6.6434116,
          6.384302
         ],
         "xaxis": "x",
         "y": [
          1.7255142,
          1.4071488,
          2.2240105,
          1.4399022,
          1.4822454,
          1.2776217,
          1.6650308,
          1.1931986,
          1.522813,
          1.7001048,
          1.2994938,
          1.701909,
          1.2334875
         ],
         "yaxis": "y"
        },
        {
         "customdata": [
          [
           "Midnight Sun | Official Trailer [HD]  | Open Road Films",
           1.4272065660388231
          ],
          [
           "Lean on Pete | Official Trailer HD | A24",
           2.771243749161422
          ],
          [
           "Wonder Wheel – Official Trailer | Amazon Studios",
           1.8624283426034778
          ],
          [
           "The Souvenir | Official Trailer HD | A24",
           2.6125224135125684
          ],
          [
           "Aftersun | Official Trailer HD | A24",
           2.3073720570481235
          ],
          [
           "The Whale | Official Trailer HD | A24",
           1.2465427612510767
          ]
         ],
         "hovertemplate": "CustomName=Love and Loss Emotional Journeys<br>ReducedEmbeddings_x=%{x}<br>ReducedEmbeddings_y=%{y}<br>title=%{customdata[0]}<br>pos-neg=%{customdata[1]}<extra></extra>",
         "legendgroup": "Love and Loss Emotional Journeys",
         "marker": {
          "color": "#636efa",
          "symbol": "circle"
         },
         "mode": "markers",
         "name": "Love and Loss Emotional Journeys",
         "orientation": "v",
         "showlegend": true,
         "type": "scatter",
         "x": [
          5.8719897,
          5.7465606,
          5.7138357,
          5.37741,
          6.0834975,
          5.4384885
         ],
         "xaxis": "x",
         "y": [
          5.0731206,
          5.1281123,
          5.1616077,
          4.6780534,
          4.910339,
          5.0127726
         ],
         "yaxis": "y"
        },
        {
         "customdata": [
          [
           "Samson - Official Trailer (2018)",
           1.1874468457021827
          ],
          [
           "BLINDED BY THE LIGHT - Official Trailer - Now Playing In Theaters",
           1.5949409553805778
          ],
          [
           "FATHER STU - Official Trailer (HD)",
           1.4059992833467623
          ],
          [
           "God's Not Dead:  We The People  (Official Trailer)",
           1.1205510586004057
          ],
          [
           "Courageous (2011) HD Movie Trailer - Christian Drama",
           1.6309297535714573
          ],
          [
           "FLAG DAY | Official Trailer | MGM Studios",
           3.6139154408744694
          ],
          [
           "I Still Believe (2020 Movie) Official Trailer | KJ Apa, Britt Robertson",
           1.696321208079587
          ]
         ],
         "hovertemplate": "CustomName=Inspirational True Stories<br>ReducedEmbeddings_x=%{x}<br>ReducedEmbeddings_y=%{y}<br>title=%{customdata[0]}<br>pos-neg=%{customdata[1]}<extra></extra>",
         "legendgroup": "Inspirational True Stories",
         "marker": {
          "color": "#EF553B",
          "symbol": "circle"
         },
         "mode": "markers",
         "name": "Inspirational True Stories",
         "orientation": "v",
         "showlegend": true,
         "type": "scatter",
         "x": [
          3.0478787,
          3.0039833,
          3.2374115,
          3.085965,
          2.9757538,
          3.310445,
          3.1384568
         ],
         "xaxis": "x",
         "y": [
          2.1464775,
          1.7926351,
          2.0176094,
          1.98754,
          1.5325845,
          2.0329695,
          2.0576975
         ],
         "yaxis": "y"
        },
        {
         "customdata": [
          [
           "GOTTI Trailer (2017)",
           1.9036774610288019
          ],
          [
           "THE GODFATHER | 50th Anniversary Trailer | Paramount Pictures",
           1.7957881972790721
          ],
          [
           "HOUSE OF GUCCI | Official Trailer | MGM Studios",
           1.6511306167934052
          ],
          [
           "THE MANY SAINTS OF NEWARK – Official Trailer",
           1.4942583368359585
          ],
          [
           "THE GODFATHER CODA: THE DEATH OF MICHAEL CORLEONE | Official Trailer [HD] | Paramount Movies",
           1.7343889579073268
          ]
         ],
         "hovertemplate": "CustomName=Mafia and Organized Crime<br>ReducedEmbeddings_x=%{x}<br>ReducedEmbeddings_y=%{y}<br>title=%{customdata[0]}<br>pos-neg=%{customdata[1]}<extra></extra>",
         "legendgroup": "Mafia and Organized Crime",
         "marker": {
          "color": "#00cc96",
          "symbol": "circle"
         },
         "mode": "markers",
         "name": "Mafia and Organized Crime",
         "orientation": "v",
         "showlegend": true,
         "type": "scatter",
         "x": [
          5.1228333,
          5.160316,
          5.159815,
          5.1294613,
          5.0838947
         ],
         "xaxis": "x",
         "y": [
          6.2942247,
          6.3259177,
          6.3248954,
          6.3341675,
          6.359226
         ],
         "yaxis": "y"
        },
        {
         "customdata": [
          [
           "Life Itself - Official Trailer | Amazon Studios",
           1.3880271277047405
          ],
          [
           "DOWNTON ABBEY | Official Trailer | In Theaters September 20",
           1.535136198929144
          ],
          [
           "DOWNTON ABBEY: A NEW ERA - Official Trailer [HD] - Only in Theaters May 20",
           1.8512343410634267
          ],
          [
           "EMMA. - Official Trailer [HD] - Now On Demand and In Theaters",
           1.9141144276807753
          ],
          [
           "THE PERSONAL HISTORY OF DAVID COPPERFIELD | Official Trailer | Searchlight Pictures",
           2.2435894449529292
          ],
          [
           "WILD MOUNTAIN THYME I Official Trailer I Bleecker Street",
           1.209072125318021
          ]
         ],
         "hovertemplate": "CustomName=Movies and TV shows based on trailers<br>ReducedEmbeddings_x=%{x}<br>ReducedEmbeddings_y=%{y}<br>title=%{customdata[0]}<br>pos-neg=%{customdata[1]}<extra></extra>",
         "legendgroup": "Movies and TV shows based on trailers",
         "marker": {
          "color": "#ab63fa",
          "symbol": "circle"
         },
         "mode": "markers",
         "name": "Movies and TV shows based on trailers",
         "orientation": "v",
         "showlegend": true,
         "type": "scatter",
         "x": [
          4.7929378,
          4.747144,
          4.610436,
          4.796473,
          4.7869453,
          5.1616216
         ],
         "xaxis": "x",
         "y": [
          5.3624797,
          4.8874393,
          4.7953577,
          4.847923,
          5.0091386,
          5.032072
         ],
         "yaxis": "y"
        },
        {
         "customdata": [
          [
           "MONSTERS AND MEN [Trailer] Now Playing in Select Cities",
           2.0922185341675
          ],
          [
           "The Young Karl Marx Trailer #1 (2018) | Movieclips Indie",
           0.9797151227215061
          ],
          [
           "WHERE IS KYRA? Official Trailer (2018) Michelle Pfeiffer Drama Movie HD",
           3.033103256304337
          ],
          [
           "MOTHERLESS BROOKLYN - Official Trailer",
           1.6769965665793711
          ],
          [
           "The Last Black Man in San Francisco | Official Trailer HD | A24",
           1.6287168213280778
          ],
          [
           "The Inspection | Official Trailer HD | A24",
           1.6324386432636993
          ],
          [
           "The Last Full Measure Official Trailer | Roadside Attractions",
           1.8793235854571533
          ],
          [
           "CUT THROAT CITY Official Trailer | American Crime Drama | Directed by RZA | Starring Shameik Moore",
           1.5849625007211563
          ]
         ],
         "hovertemplate": "CustomName=Uncovering Painful Truths<br>ReducedEmbeddings_x=%{x}<br>ReducedEmbeddings_y=%{y}<br>title=%{customdata[0]}<br>pos-neg=%{customdata[1]}<extra></extra>",
         "legendgroup": "Uncovering Painful Truths",
         "marker": {
          "color": "#FFA15A",
          "symbol": "circle"
         },
         "mode": "markers",
         "name": "Uncovering Painful Truths",
         "orientation": "v",
         "showlegend": true,
         "type": "scatter",
         "x": [
          5.1583357,
          5.079773,
          5.1864314,
          5.0399513,
          5.2939997,
          5.062005,
          4.986469,
          5.531266
         ],
         "xaxis": "x",
         "y": [
          3.2376475,
          3.4948444,
          3.2672799,
          3.2009602,
          3.2736318,
          3.5827956,
          3.4394083,
          3.0069096
         ],
         "yaxis": "y"
        },
        {
         "customdata": [
          [
           "Flower (2018) | Official US Trailer HD",
           1.7499526414000295
          ],
          [
           "AFTER :: OFFICIAL TEASER TRAILER | In Theaters This April",
           1.3105646917096478
          ],
          [
           "THE AFTERMATH | Official Trailer | FOX Searchlight",
           1.9481920934663797
          ],
          [
           "After Yang | Official Trailer HD | A24",
           1.6704286220526683
          ],
          [
           "After We Fell | Official Trailer | Prime Video",
           3.505613627711627
          ],
          [
           "After We Collided | Official Trailer | Prime Video",
           1.3652123889719707
          ],
          [
           "OFFICIAL TRAILER | 2 Hearts | Only in Theaters OCT 16",
           1.7020020894202454
          ]
         ],
         "hovertemplate": "CustomName=Romantic Dramas<br>ReducedEmbeddings_x=%{x}<br>ReducedEmbeddings_y=%{y}<br>title=%{customdata[0]}<br>pos-neg=%{customdata[1]}<extra></extra>",
         "legendgroup": "Romantic Dramas",
         "marker": {
          "color": "#19d3f3",
          "symbol": "circle"
         },
         "mode": "markers",
         "name": "Romantic Dramas",
         "orientation": "v",
         "showlegend": true,
         "type": "scatter",
         "x": [
          7.1546245,
          6.302088,
          6.248126,
          6.290908,
          6.2215447,
          6.217201,
          6.060331
         ],
         "xaxis": "x",
         "y": [
          3.5334983,
          4.469929,
          4.5916376,
          4.520461,
          4.594144,
          4.5784397,
          4.811257
         ],
         "yaxis": "y"
        },
        {
         "customdata": [
          [
           "The Breadwinner [Official US Trailer]",
           1.2920296742201791
          ],
          [
           "Joe Bell  | Official Trailer  |  In Theaters July 23",
           1.5404763088546396
          ],
          [
           "Honey Boy - Official Trailer | Amazon Studios",
           2.2471556621337156
          ]
         ],
         "hovertemplate": "CustomName=Movie Synopses<br>ReducedEmbeddings_x=%{x}<br>ReducedEmbeddings_y=%{y}<br>title=%{customdata[0]}<br>pos-neg=%{customdata[1]}<extra></extra>",
         "legendgroup": "Movie Synopses",
         "marker": {
          "color": "#FF6692",
          "symbol": "circle"
         },
         "mode": "markers",
         "name": "Movie Synopses",
         "orientation": "v",
         "showlegend": true,
         "type": "scatter",
         "x": [
          4.0708985,
          4.1772003,
          4.1093554
         ],
         "xaxis": "x",
         "y": [
          3.3619175,
          3.486436,
          3.5073946
         ],
         "yaxis": "y"
        },
        {
         "customdata": [
          [
           "Where Hands Touch | Official Trailer (HD) | Vertical Entertainment",
           1.1291500681071593
          ],
          [
           "THE GOLDFINCH - Official Trailer 1",
           1.6398823431004312
          ],
          [
           "The Hummingbird Project Trailer #1 (2019) | Movieclips Trailers",
           1.44189067312579
          ],
          [
           "Glass Onion: A Knives Out Mystery | Official Trailer | Netflix",
           1.2970851379467154
          ],
          [
           "Firebird | Official Trailer HD | 2022",
           3.3219280948873626
          ],
          [
           "TED K - Official Trailer - In Theaters and on Digital February 18",
           1.5383822204249031
          ],
          [
           "HIDDEN BLADE (2023) Official International Trailer | Watch Online July 18, 2023",
           3.6192023696625397
          ],
          [
           "The Painted Bird - Official Trailer I HD I IFC Films",
           2.5789019231625656
          ]
         ],
         "hovertemplate": "CustomName=Mystery and Suspense Movies<br>ReducedEmbeddings_x=%{x}<br>ReducedEmbeddings_y=%{y}<br>title=%{customdata[0]}<br>pos-neg=%{customdata[1]}<extra></extra>",
         "legendgroup": "Mystery and Suspense Movies",
         "marker": {
          "color": "#B6E880",
          "symbol": "circle"
         },
         "mode": "markers",
         "name": "Mystery and Suspense Movies",
         "orientation": "v",
         "showlegend": true,
         "type": "scatter",
         "x": [
          6.1629567,
          6.0356383,
          6.126802,
          4.8060594,
          6.1551995,
          5.063318,
          4.8198485,
          6.1079087
         ],
         "xaxis": "x",
         "y": [
          3.397406,
          3.3521252,
          3.2452419,
          1.8453598,
          3.297211,
          2.0875976,
          1.8892089,
          3.331384
         ],
         "yaxis": "y"
        },
        {
         "customdata": [
          [
           "The Last Movie Star | Official Trailer HD | A24",
           5.357552004618084
          ],
          [
           "BOOGIE - Official Trailer - In Theaters March 5",
           1.5699673475025722
          ],
          [
           "THE WAY BACK - Official Trailer",
           1.3567943314652275
          ],
          [
           "FORD v FERRARI | Official Trailer [HD] | 20th Century FOX",
           1.4466827417788801
          ],
          [
           "BIG GEORGE FOREMAN – Official Trailer (HD)",
           1.5368895399060607
          ],
          [
           "AIR - Official Trailer | Amazon Studios",
           3.2618595071429146
          ]
         ],
         "hovertemplate": "CustomName=Legendary Athletes in Film<br>ReducedEmbeddings_x=%{x}<br>ReducedEmbeddings_y=%{y}<br>title=%{customdata[0]}<br>pos-neg=%{customdata[1]}<extra></extra>",
         "legendgroup": "Legendary Athletes in Film",
         "marker": {
          "color": "#FF97FF",
          "symbol": "circle"
         },
         "mode": "markers",
         "name": "Legendary Athletes in Film",
         "orientation": "v",
         "showlegend": true,
         "type": "scatter",
         "x": [
          7.006822,
          6.9597497,
          7.086249,
          7.147265,
          7.265362,
          7.09829
         ],
         "xaxis": "x",
         "y": [
          5.456632,
          5.9731894,
          5.846769,
          5.811098,
          5.69996,
          5.853099
         ],
         "yaxis": "y"
        },
        {
         "customdata": [
          [
           "HEAD FULL OF HONEY - Official Trailer",
           1.4524553401431888
          ],
          [
           "FIVE FEET APART - Trailer #2 - HD (Haley Lu Richardson, Cole Sprouse)",
           1.358032897344099
          ],
          [
           "Finding You Official Trailer | Now Playing",
           2.680143859246375
          ],
          [
           "The Photograph - Official Trailer 2 - In Theaters Valentine's Day",
           5.20945336562895
          ],
          [
           "The Fabelmans | Official Trailer [HD]",
           1.580045406165023
          ],
          [
           "Made in Italy - Official Trailer I HD I IFC Films",
           1.6609640474436813
          ],
          [
           "Herself Official Trailer (2021) | Prime Video",
           3.3219280948873626
          ],
          [
           "Last Call - Official Trailer | HD | IFC Films",
           3.1699250014423126
          ]
         ],
         "hovertemplate": "CustomName=Heartwarming Movie Releases<br>ReducedEmbeddings_x=%{x}<br>ReducedEmbeddings_y=%{y}<br>title=%{customdata[0]}<br>pos-neg=%{customdata[1]}<extra></extra>",
         "legendgroup": "Heartwarming Movie Releases",
         "marker": {
          "color": "#FECB52",
          "symbol": "circle"
         },
         "mode": "markers",
         "name": "Heartwarming Movie Releases",
         "orientation": "v",
         "showlegend": true,
         "type": "scatter",
         "x": [
          1.6688064,
          1.3614501,
          1.7896405,
          1.8439226,
          1.5847104,
          1.796428,
          1.2462951,
          1.7996386
         ],
         "xaxis": "x",
         "y": [
          4.9699926,
          4.665535,
          4.744465,
          4.7448177,
          4.9619975,
          5.014309,
          4.536458,
          5.0580735
         ],
         "yaxis": "y"
        },
        {
         "customdata": [
          [
           "VICTORIA & ABDUL - Official Trailer [HD] - In Theaters 9/22",
           1.3079534109733006
          ],
          [
           "TOLKIEN | Trailer 2 | FOX Searchlight",
           1.5063623779851851
          ],
          [
           "CHEVALIER | Official Trailer | Searchlight Pictures",
           1.4707474942148402
          ]
         ],
         "hovertemplate": "CustomName=Biographies and Historical Dramas<br>ReducedEmbeddings_x=%{x}<br>ReducedEmbeddings_y=%{y}<br>title=%{customdata[0]}<br>pos-neg=%{customdata[1]}<extra></extra>",
         "legendgroup": "Biographies and Historical Dramas",
         "marker": {
          "color": "#636efa",
          "symbol": "circle"
         },
         "mode": "markers",
         "name": "Biographies and Historical Dramas",
         "orientation": "v",
         "showlegend": true,
         "type": "scatter",
         "x": [
          3.3371522,
          3.2311833,
          3.298938
         ],
         "xaxis": "x",
         "y": [
          3.3043668,
          2.5768507,
          3.269244
         ],
         "yaxis": "y"
        },
        {
         "customdata": [
          [
           "THE NUN II | OFFICIAL TRAILER",
           1.207588560867608
          ]
         ],
         "hovertemplate": "CustomName=Horror and Ghost Stories<br>ReducedEmbeddings_x=%{x}<br>ReducedEmbeddings_y=%{y}<br>title=%{customdata[0]}<br>pos-neg=%{customdata[1]}<extra></extra>",
         "legendgroup": "Horror and Ghost Stories",
         "marker": {
          "color": "#EF553B",
          "symbol": "circle"
         },
         "mode": "markers",
         "name": "Horror and Ghost Stories",
         "orientation": "v",
         "showlegend": true,
         "type": "scatter",
         "x": [
          4.290935
         ],
         "xaxis": "x",
         "y": [
          2.2024288
         ],
         "yaxis": "y"
        },
        {
         "customdata": [
          [
           "Rocketman (2019) - Official Trailer - Paramount Pictures",
           1.4192372846806518
          ],
          [
           "Baz Luhrmann’s ELVIS | Official Trailer",
           1.4584820129290283
          ],
          [
           "KING RICHARD – Official Trailer",
           1.6737386493137456
          ],
          [
           "Queen & Slim - Official Trailer",
           1.0068484712133665
          ],
          [
           "HARRIET | Official Trailer | Now Playing",
           1.242119671504687
          ],
          [
           "A THOUSAND AND ONE - Official Trailer [HD] - Only In Theaters March 31",
           2.941321524680921
          ],
          [
           "JUDY | Official Trailer | Roadside Attractions",
           1.6814647064528179
          ]
         ],
         "hovertemplate": "CustomName=Empowering Stories of Resilience<br>ReducedEmbeddings_x=%{x}<br>ReducedEmbeddings_y=%{y}<br>title=%{customdata[0]}<br>pos-neg=%{customdata[1]}<extra></extra>",
         "legendgroup": "Empowering Stories of Resilience",
         "marker": {
          "color": "#00cc96",
          "symbol": "circle"
         },
         "mode": "markers",
         "name": "Empowering Stories of Resilience",
         "orientation": "v",
         "showlegend": true,
         "type": "scatter",
         "x": [
          7.485852,
          7.534161,
          7.726091,
          7.759869,
          7.3109026,
          7.7894545,
          7.592803
         ],
         "xaxis": "x",
         "y": [
          5.2886977,
          5.300327,
          5.536984,
          5.4519205,
          4.7013707,
          5.4233546,
          5.125136
         ],
         "yaxis": "y"
        },
        {
         "customdata": [
          [
           "Breakthrough | Official Trailer [HD] | 20th Century FOX",
           2.0220297301525907
          ],
          [
           "American Underdog (2021 Movie) Official Trailer - Zachary Levi, Anna Paquin, and Dennis Quaid",
           1.9067940461077975
          ],
          [
           "A JOURNAL FOR JORDAN - Final Trailer (HD) | Now in Theaters and On Demand",
           1.3812528762135865
          ],
          [
           "KAJILLIONAIRE - Official Trailer [HD] - In Theaters September 25",
           2.2601593585085435
          ]
         ],
         "hovertemplate": "CustomName=Heartwarming Friendship Stories<br>ReducedEmbeddings_x=%{x}<br>ReducedEmbeddings_y=%{y}<br>title=%{customdata[0]}<br>pos-neg=%{customdata[1]}<extra></extra>",
         "legendgroup": "Heartwarming Friendship Stories",
         "marker": {
          "color": "#ab63fa",
          "symbol": "circle"
         },
         "mode": "markers",
         "name": "Heartwarming Friendship Stories",
         "orientation": "v",
         "showlegend": true,
         "type": "scatter",
         "x": [
          1.3920332,
          1.2592634,
          1.2103318,
          0.93356246
         ],
         "xaxis": "x",
         "y": [
          3.8279102,
          3.857031,
          3.7117846,
          4.3198805
         ],
         "yaxis": "y"
        },
        {
         "customdata": [
          [
           "THE CURRENT WAR: Director's Cut | Official Trailer | 101 Studios",
           1.8415644423232036
          ],
          [
           "Tesla - Official Trailer I HD I IFC Films",
           1.5394909583905907
          ]
         ],
         "hovertemplate": "CustomName=Innovators and Their Dreams<br>ReducedEmbeddings_x=%{x}<br>ReducedEmbeddings_y=%{y}<br>title=%{customdata[0]}<br>pos-neg=%{customdata[1]}<extra></extra>",
         "legendgroup": "Innovators and Their Dreams",
         "marker": {
          "color": "#FFA15A",
          "symbol": "circle"
         },
         "mode": "markers",
         "name": "Innovators and Their Dreams",
         "orientation": "v",
         "showlegend": true,
         "type": "scatter",
         "x": [
          3.584439,
          3.5067334
         ],
         "xaxis": "x",
         "y": [
          4.0510483,
          4.039935
         ],
         "yaxis": "y"
        },
        {
         "customdata": [
          [
           "Her Smell | OFFICIAL TRAILER HD",
           1.3868528072345416
          ],
          [
           "Mary Magdalene Ft. Rooney Mara & Joaquin Phoenix - Official Trailer I HD I IFC Films",
           3.700439718141092
          ],
          [
           "SHE SAID | Official Trailer",
           1.2798566139783552
          ],
          [
           "LIMBO - Official Trailer [HD] - In Theaters April 30",
           5
          ],
          [
           "Little Joe - Official Trailer",
           2.2618595071429146
          ]
         ],
         "hovertemplate": "CustomName=Emotional Journeys<br>ReducedEmbeddings_x=%{x}<br>ReducedEmbeddings_y=%{y}<br>title=%{customdata[0]}<br>pos-neg=%{customdata[1]}<extra></extra>",
         "legendgroup": "Emotional Journeys",
         "marker": {
          "color": "#19d3f3",
          "symbol": "circle"
         },
         "mode": "markers",
         "name": "Emotional Journeys",
         "orientation": "v",
         "showlegend": true,
         "type": "scatter",
         "x": [
          3.9390178,
          3.8702192,
          3.935678,
          4.040492,
          4.078673
         ],
         "xaxis": "x",
         "y": [
          2.0342414,
          1.9637144,
          2.0653107,
          2.450068,
          2.577462
         ],
         "yaxis": "y"
        },
        {
         "customdata": [
          [
           "Ophelia Ft. Daisy Ridley, Naomi Watts & Clive Owen - Official Trailer I HD I IFC Films",
           1.5884815929753662
          ],
          [
           "LANDSCAPE WITH INVISIBLE HAND | Official Trailer",
           2.111996447574856
          ],
          [
           "LITTLE WOMEN - Official Trailer (HD)",
           1.4814577032155256
          ],
          [
           "Ammonite - Official Trailer",
           1.850219859070546
          ],
          [
           "Titanic 25th Anniversary | Official Trailer | In Theatres February 10th",
           1.748961941064367
          ]
         ],
         "hovertemplate": "CustomName=Movie Previews<br>ReducedEmbeddings_x=%{x}<br>ReducedEmbeddings_y=%{y}<br>title=%{customdata[0]}<br>pos-neg=%{customdata[1]}<extra></extra>",
         "legendgroup": "Movie Previews",
         "marker": {
          "color": "#FF6692",
          "symbol": "circle"
         },
         "mode": "markers",
         "name": "Movie Previews",
         "orientation": "v",
         "showlegend": true,
         "type": "scatter",
         "x": [
          3.2421725,
          3.6664958,
          3.7751842,
          3.3915138,
          3.3923142
         ],
         "xaxis": "x",
         "y": [
          4.608156,
          4.6237936,
          4.5226126,
          4.617138,
          4.654582
         ],
         "yaxis": "y"
        },
        {
         "customdata": [
          [
           "BLUE BAYOU - Official Trailer - Only in Theaters September 17",
           2.5840593484403582
          ],
          [
           "BURDEN | Official Trailer 2 - Now Playing in Select Theaters | 101 Studios",
           2.321928094887362
          ]
         ],
         "hovertemplate": "CustomName=Adoption and Family Dynamics<br>ReducedEmbeddings_x=%{x}<br>ReducedEmbeddings_y=%{y}<br>title=%{customdata[0]}<br>pos-neg=%{customdata[1]}<extra></extra>",
         "legendgroup": "Adoption and Family Dynamics",
         "marker": {
          "color": "#B6E880",
          "symbol": "circle"
         },
         "mode": "markers",
         "name": "Adoption and Family Dynamics",
         "orientation": "v",
         "showlegend": true,
         "type": "scatter",
         "x": [
          3.8186872,
          3.7776394
         ],
         "xaxis": "x",
         "y": [
          3.8899024,
          3.301276
         ],
         "yaxis": "y"
        },
        {
         "customdata": [
          [
           "DOWNHILL | Official Trailer [HD] | FOX Searchlight",
           1.8557672647413568
          ]
         ],
         "hovertemplate": "CustomName=Romantic Comedies<br>ReducedEmbeddings_x=%{x}<br>ReducedEmbeddings_y=%{y}<br>title=%{customdata[0]}<br>pos-neg=%{customdata[1]}<extra></extra>",
         "legendgroup": "Romantic Comedies",
         "marker": {
          "color": "#FF97FF",
          "symbol": "circle"
         },
         "mode": "markers",
         "name": "Romantic Comedies",
         "orientation": "v",
         "showlegend": true,
         "type": "scatter",
         "x": [
          4.569087
         ],
         "xaxis": "x",
         "y": [
          1.4771327
         ],
         "yaxis": "y"
        }
       ],
       "layout": {
        "height": 750,
        "legend": {
         "title": {
          "text": "CustomName"
         },
         "tracegroupgap": 0
        },
        "margin": {
         "t": 60
        },
        "template": {
         "data": {
          "bar": [
           {
            "error_x": {
             "color": "#2a3f5f"
            },
            "error_y": {
             "color": "#2a3f5f"
            },
            "marker": {
             "line": {
              "color": "#E5ECF6",
              "width": 0.5
             },
             "pattern": {
              "fillmode": "overlay",
              "size": 10,
              "solidity": 0.2
             }
            },
            "type": "bar"
           }
          ],
          "barpolar": [
           {
            "marker": {
             "line": {
              "color": "#E5ECF6",
              "width": 0.5
             },
             "pattern": {
              "fillmode": "overlay",
              "size": 10,
              "solidity": 0.2
             }
            },
            "type": "barpolar"
           }
          ],
          "carpet": [
           {
            "aaxis": {
             "endlinecolor": "#2a3f5f",
             "gridcolor": "white",
             "linecolor": "white",
             "minorgridcolor": "white",
             "startlinecolor": "#2a3f5f"
            },
            "baxis": {
             "endlinecolor": "#2a3f5f",
             "gridcolor": "white",
             "linecolor": "white",
             "minorgridcolor": "white",
             "startlinecolor": "#2a3f5f"
            },
            "type": "carpet"
           }
          ],
          "choropleth": [
           {
            "colorbar": {
             "outlinewidth": 0,
             "ticks": ""
            },
            "type": "choropleth"
           }
          ],
          "contour": [
           {
            "colorbar": {
             "outlinewidth": 0,
             "ticks": ""
            },
            "colorscale": [
             [
              0,
              "#0d0887"
             ],
             [
              0.1111111111111111,
              "#46039f"
             ],
             [
              0.2222222222222222,
              "#7201a8"
             ],
             [
              0.3333333333333333,
              "#9c179e"
             ],
             [
              0.4444444444444444,
              "#bd3786"
             ],
             [
              0.5555555555555556,
              "#d8576b"
             ],
             [
              0.6666666666666666,
              "#ed7953"
             ],
             [
              0.7777777777777778,
              "#fb9f3a"
             ],
             [
              0.8888888888888888,
              "#fdca26"
             ],
             [
              1,
              "#f0f921"
             ]
            ],
            "type": "contour"
           }
          ],
          "contourcarpet": [
           {
            "colorbar": {
             "outlinewidth": 0,
             "ticks": ""
            },
            "type": "contourcarpet"
           }
          ],
          "heatmap": [
           {
            "colorbar": {
             "outlinewidth": 0,
             "ticks": ""
            },
            "colorscale": [
             [
              0,
              "#0d0887"
             ],
             [
              0.1111111111111111,
              "#46039f"
             ],
             [
              0.2222222222222222,
              "#7201a8"
             ],
             [
              0.3333333333333333,
              "#9c179e"
             ],
             [
              0.4444444444444444,
              "#bd3786"
             ],
             [
              0.5555555555555556,
              "#d8576b"
             ],
             [
              0.6666666666666666,
              "#ed7953"
             ],
             [
              0.7777777777777778,
              "#fb9f3a"
             ],
             [
              0.8888888888888888,
              "#fdca26"
             ],
             [
              1,
              "#f0f921"
             ]
            ],
            "type": "heatmap"
           }
          ],
          "heatmapgl": [
           {
            "colorbar": {
             "outlinewidth": 0,
             "ticks": ""
            },
            "colorscale": [
             [
              0,
              "#0d0887"
             ],
             [
              0.1111111111111111,
              "#46039f"
             ],
             [
              0.2222222222222222,
              "#7201a8"
             ],
             [
              0.3333333333333333,
              "#9c179e"
             ],
             [
              0.4444444444444444,
              "#bd3786"
             ],
             [
              0.5555555555555556,
              "#d8576b"
             ],
             [
              0.6666666666666666,
              "#ed7953"
             ],
             [
              0.7777777777777778,
              "#fb9f3a"
             ],
             [
              0.8888888888888888,
              "#fdca26"
             ],
             [
              1,
              "#f0f921"
             ]
            ],
            "type": "heatmapgl"
           }
          ],
          "histogram": [
           {
            "marker": {
             "pattern": {
              "fillmode": "overlay",
              "size": 10,
              "solidity": 0.2
             }
            },
            "type": "histogram"
           }
          ],
          "histogram2d": [
           {
            "colorbar": {
             "outlinewidth": 0,
             "ticks": ""
            },
            "colorscale": [
             [
              0,
              "#0d0887"
             ],
             [
              0.1111111111111111,
              "#46039f"
             ],
             [
              0.2222222222222222,
              "#7201a8"
             ],
             [
              0.3333333333333333,
              "#9c179e"
             ],
             [
              0.4444444444444444,
              "#bd3786"
             ],
             [
              0.5555555555555556,
              "#d8576b"
             ],
             [
              0.6666666666666666,
              "#ed7953"
             ],
             [
              0.7777777777777778,
              "#fb9f3a"
             ],
             [
              0.8888888888888888,
              "#fdca26"
             ],
             [
              1,
              "#f0f921"
             ]
            ],
            "type": "histogram2d"
           }
          ],
          "histogram2dcontour": [
           {
            "colorbar": {
             "outlinewidth": 0,
             "ticks": ""
            },
            "colorscale": [
             [
              0,
              "#0d0887"
             ],
             [
              0.1111111111111111,
              "#46039f"
             ],
             [
              0.2222222222222222,
              "#7201a8"
             ],
             [
              0.3333333333333333,
              "#9c179e"
             ],
             [
              0.4444444444444444,
              "#bd3786"
             ],
             [
              0.5555555555555556,
              "#d8576b"
             ],
             [
              0.6666666666666666,
              "#ed7953"
             ],
             [
              0.7777777777777778,
              "#fb9f3a"
             ],
             [
              0.8888888888888888,
              "#fdca26"
             ],
             [
              1,
              "#f0f921"
             ]
            ],
            "type": "histogram2dcontour"
           }
          ],
          "mesh3d": [
           {
            "colorbar": {
             "outlinewidth": 0,
             "ticks": ""
            },
            "type": "mesh3d"
           }
          ],
          "parcoords": [
           {
            "line": {
             "colorbar": {
              "outlinewidth": 0,
              "ticks": ""
             }
            },
            "type": "parcoords"
           }
          ],
          "pie": [
           {
            "automargin": true,
            "type": "pie"
           }
          ],
          "scatter": [
           {
            "fillpattern": {
             "fillmode": "overlay",
             "size": 10,
             "solidity": 0.2
            },
            "type": "scatter"
           }
          ],
          "scatter3d": [
           {
            "line": {
             "colorbar": {
              "outlinewidth": 0,
              "ticks": ""
             }
            },
            "marker": {
             "colorbar": {
              "outlinewidth": 0,
              "ticks": ""
             }
            },
            "type": "scatter3d"
           }
          ],
          "scattercarpet": [
           {
            "marker": {
             "colorbar": {
              "outlinewidth": 0,
              "ticks": ""
             }
            },
            "type": "scattercarpet"
           }
          ],
          "scattergeo": [
           {
            "marker": {
             "colorbar": {
              "outlinewidth": 0,
              "ticks": ""
             }
            },
            "type": "scattergeo"
           }
          ],
          "scattergl": [
           {
            "marker": {
             "colorbar": {
              "outlinewidth": 0,
              "ticks": ""
             }
            },
            "type": "scattergl"
           }
          ],
          "scattermapbox": [
           {
            "marker": {
             "colorbar": {
              "outlinewidth": 0,
              "ticks": ""
             }
            },
            "type": "scattermapbox"
           }
          ],
          "scatterpolar": [
           {
            "marker": {
             "colorbar": {
              "outlinewidth": 0,
              "ticks": ""
             }
            },
            "type": "scatterpolar"
           }
          ],
          "scatterpolargl": [
           {
            "marker": {
             "colorbar": {
              "outlinewidth": 0,
              "ticks": ""
             }
            },
            "type": "scatterpolargl"
           }
          ],
          "scatterternary": [
           {
            "marker": {
             "colorbar": {
              "outlinewidth": 0,
              "ticks": ""
             }
            },
            "type": "scatterternary"
           }
          ],
          "surface": [
           {
            "colorbar": {
             "outlinewidth": 0,
             "ticks": ""
            },
            "colorscale": [
             [
              0,
              "#0d0887"
             ],
             [
              0.1111111111111111,
              "#46039f"
             ],
             [
              0.2222222222222222,
              "#7201a8"
             ],
             [
              0.3333333333333333,
              "#9c179e"
             ],
             [
              0.4444444444444444,
              "#bd3786"
             ],
             [
              0.5555555555555556,
              "#d8576b"
             ],
             [
              0.6666666666666666,
              "#ed7953"
             ],
             [
              0.7777777777777778,
              "#fb9f3a"
             ],
             [
              0.8888888888888888,
              "#fdca26"
             ],
             [
              1,
              "#f0f921"
             ]
            ],
            "type": "surface"
           }
          ],
          "table": [
           {
            "cells": {
             "fill": {
              "color": "#EBF0F8"
             },
             "line": {
              "color": "white"
             }
            },
            "header": {
             "fill": {
              "color": "#C8D4E3"
             },
             "line": {
              "color": "white"
             }
            },
            "type": "table"
           }
          ]
         },
         "layout": {
          "annotationdefaults": {
           "arrowcolor": "#2a3f5f",
           "arrowhead": 0,
           "arrowwidth": 1
          },
          "autotypenumbers": "strict",
          "coloraxis": {
           "colorbar": {
            "outlinewidth": 0,
            "ticks": ""
           }
          },
          "colorscale": {
           "diverging": [
            [
             0,
             "#8e0152"
            ],
            [
             0.1,
             "#c51b7d"
            ],
            [
             0.2,
             "#de77ae"
            ],
            [
             0.3,
             "#f1b6da"
            ],
            [
             0.4,
             "#fde0ef"
            ],
            [
             0.5,
             "#f7f7f7"
            ],
            [
             0.6,
             "#e6f5d0"
            ],
            [
             0.7,
             "#b8e186"
            ],
            [
             0.8,
             "#7fbc41"
            ],
            [
             0.9,
             "#4d9221"
            ],
            [
             1,
             "#276419"
            ]
           ],
           "sequential": [
            [
             0,
             "#0d0887"
            ],
            [
             0.1111111111111111,
             "#46039f"
            ],
            [
             0.2222222222222222,
             "#7201a8"
            ],
            [
             0.3333333333333333,
             "#9c179e"
            ],
            [
             0.4444444444444444,
             "#bd3786"
            ],
            [
             0.5555555555555556,
             "#d8576b"
            ],
            [
             0.6666666666666666,
             "#ed7953"
            ],
            [
             0.7777777777777778,
             "#fb9f3a"
            ],
            [
             0.8888888888888888,
             "#fdca26"
            ],
            [
             1,
             "#f0f921"
            ]
           ],
           "sequentialminus": [
            [
             0,
             "#0d0887"
            ],
            [
             0.1111111111111111,
             "#46039f"
            ],
            [
             0.2222222222222222,
             "#7201a8"
            ],
            [
             0.3333333333333333,
             "#9c179e"
            ],
            [
             0.4444444444444444,
             "#bd3786"
            ],
            [
             0.5555555555555556,
             "#d8576b"
            ],
            [
             0.6666666666666666,
             "#ed7953"
            ],
            [
             0.7777777777777778,
             "#fb9f3a"
            ],
            [
             0.8888888888888888,
             "#fdca26"
            ],
            [
             1,
             "#f0f921"
            ]
           ]
          },
          "colorway": [
           "#636efa",
           "#EF553B",
           "#00cc96",
           "#ab63fa",
           "#FFA15A",
           "#19d3f3",
           "#FF6692",
           "#B6E880",
           "#FF97FF",
           "#FECB52"
          ],
          "font": {
           "color": "#2a3f5f"
          },
          "geo": {
           "bgcolor": "white",
           "lakecolor": "white",
           "landcolor": "#E5ECF6",
           "showlakes": true,
           "showland": true,
           "subunitcolor": "white"
          },
          "hoverlabel": {
           "align": "left"
          },
          "hovermode": "closest",
          "mapbox": {
           "style": "light"
          },
          "paper_bgcolor": "white",
          "plot_bgcolor": "#E5ECF6",
          "polar": {
           "angularaxis": {
            "gridcolor": "white",
            "linecolor": "white",
            "ticks": ""
           },
           "bgcolor": "#E5ECF6",
           "radialaxis": {
            "gridcolor": "white",
            "linecolor": "white",
            "ticks": ""
           }
          },
          "scene": {
           "xaxis": {
            "backgroundcolor": "#E5ECF6",
            "gridcolor": "white",
            "gridwidth": 2,
            "linecolor": "white",
            "showbackground": true,
            "ticks": "",
            "zerolinecolor": "white"
           },
           "yaxis": {
            "backgroundcolor": "#E5ECF6",
            "gridcolor": "white",
            "gridwidth": 2,
            "linecolor": "white",
            "showbackground": true,
            "ticks": "",
            "zerolinecolor": "white"
           },
           "zaxis": {
            "backgroundcolor": "#E5ECF6",
            "gridcolor": "white",
            "gridwidth": 2,
            "linecolor": "white",
            "showbackground": true,
            "ticks": "",
            "zerolinecolor": "white"
           }
          },
          "shapedefaults": {
           "line": {
            "color": "#2a3f5f"
           }
          },
          "ternary": {
           "aaxis": {
            "gridcolor": "white",
            "linecolor": "white",
            "ticks": ""
           },
           "baxis": {
            "gridcolor": "white",
            "linecolor": "white",
            "ticks": ""
           },
           "bgcolor": "#E5ECF6",
           "caxis": {
            "gridcolor": "white",
            "linecolor": "white",
            "ticks": ""
           }
          },
          "title": {
           "x": 0.05
          },
          "xaxis": {
           "automargin": true,
           "gridcolor": "white",
           "linecolor": "white",
           "ticks": "",
           "title": {
            "standoff": 15
           },
           "zerolinecolor": "white",
           "zerolinewidth": 2
          },
          "yaxis": {
           "automargin": true,
           "gridcolor": "white",
           "linecolor": "white",
           "ticks": "",
           "title": {
            "standoff": 15
           },
           "zerolinecolor": "white",
           "zerolinewidth": 2
          }
         }
        },
        "width": 1200,
        "xaxis": {
         "anchor": "y",
         "domain": [
          0,
          1
         ],
         "title": {
          "text": "ReducedEmbeddings_x"
         }
        },
        "yaxis": {
         "anchor": "x",
         "domain": [
          0,
          1
         ],
         "title": {
          "text": "ReducedEmbeddings_y"
         }
        }
       }
      }
     },
     "metadata": {},
     "output_type": "display_data"
    }
   ],
   "source": [
    "px.scatter(final, x='ReducedEmbeddings_x', y='ReducedEmbeddings_y', width=1200, height=750, hover_data=['title', 'pos-neg'], color='CustomName')"
   ]
  },
  {
   "cell_type": "code",
   "execution_count": null,
   "metadata": {},
   "outputs": [],
   "source": [
    "final.to_csv('final_reg_data.csv', index=False)"
   ]
  },
  {
   "cell_type": "code",
   "execution_count": null,
   "metadata": {},
   "outputs": [
    {
     "data": {
      "text/html": [
       "<div>\n",
       "<style scoped>\n",
       "    .dataframe tbody tr th:only-of-type {\n",
       "        vertical-align: middle;\n",
       "    }\n",
       "\n",
       "    .dataframe tbody tr th {\n",
       "        vertical-align: top;\n",
       "    }\n",
       "\n",
       "    .dataframe thead th {\n",
       "        text-align: right;\n",
       "    }\n",
       "</style>\n",
       "<table border=\"1\" class=\"dataframe\">\n",
       "  <thead>\n",
       "    <tr style=\"text-align: right;\">\n",
       "      <th></th>\n",
       "      <th>VideoId</th>\n",
       "      <th>Topic</th>\n",
       "      <th>Probaibility</th>\n",
       "      <th>ReducedEmbeddings_x</th>\n",
       "      <th>ReducedEmbeddings_y</th>\n",
       "      <th>CustomName</th>\n",
       "      <th>videoId</th>\n",
       "      <th>title</th>\n",
       "    </tr>\n",
       "  </thead>\n",
       "  <tbody>\n",
       "    <tr>\n",
       "      <th>0</th>\n",
       "      <td>09zYzvKkCOA</td>\n",
       "      <td>6</td>\n",
       "      <td>0.960030</td>\n",
       "      <td>2.788041</td>\n",
       "      <td>2.322691</td>\n",
       "      <td>Inspirational True Stories</td>\n",
       "      <td>09zYzvKkCOA</td>\n",
       "      <td>Three Christs - Official Trailer I HD I IFC Films</td>\n",
       "    </tr>\n",
       "    <tr>\n",
       "      <th>1</th>\n",
       "      <td>Na6gA1RehsU</td>\n",
       "      <td>0</td>\n",
       "      <td>1.000000</td>\n",
       "      <td>7.812714</td>\n",
       "      <td>3.023268</td>\n",
       "      <td>Movie Trailers</td>\n",
       "      <td>Na6gA1RehsU</td>\n",
       "      <td>TÁR - Official Trailer [HD] - In Select Theate...</td>\n",
       "    </tr>\n",
       "    <tr>\n",
       "      <th>2</th>\n",
       "      <td>gSMxBLlA8qY</td>\n",
       "      <td>17</td>\n",
       "      <td>0.673917</td>\n",
       "      <td>5.310845</td>\n",
       "      <td>2.776821</td>\n",
       "      <td>True Crime Dramas</td>\n",
       "      <td>gSMxBLlA8qY</td>\n",
       "      <td>RICHARD JEWELL - Official Trailer [HD]</td>\n",
       "    </tr>\n",
       "    <tr>\n",
       "      <th>3</th>\n",
       "      <td>tSkv_sEyPSc</td>\n",
       "      <td>5</td>\n",
       "      <td>0.478666</td>\n",
       "      <td>5.177978</td>\n",
       "      <td>3.813516</td>\n",
       "      <td>Uncovering Painful Truths</td>\n",
       "      <td>tSkv_sEyPSc</td>\n",
       "      <td>MENDING THE LINE | Official Trailer</td>\n",
       "    </tr>\n",
       "    <tr>\n",
       "      <th>4</th>\n",
       "      <td>b6qSGKN42Gc</td>\n",
       "      <td>3</td>\n",
       "      <td>1.000000</td>\n",
       "      <td>2.385987</td>\n",
       "      <td>3.115065</td>\n",
       "      <td>Movies and their themes</td>\n",
       "      <td>b6qSGKN42Gc</td>\n",
       "      <td>SILO - Official Trailer - Oscilloscope Laborat...</td>\n",
       "    </tr>\n",
       "    <tr>\n",
       "      <th>...</th>\n",
       "      <td>...</td>\n",
       "      <td>...</td>\n",
       "      <td>...</td>\n",
       "      <td>...</td>\n",
       "      <td>...</td>\n",
       "      <td>...</td>\n",
       "      <td>...</td>\n",
       "      <td>...</td>\n",
       "    </tr>\n",
       "    <tr>\n",
       "      <th>549</th>\n",
       "      <td>WuClROtJCaw</td>\n",
       "      <td>6</td>\n",
       "      <td>1.000000</td>\n",
       "      <td>2.976135</td>\n",
       "      <td>2.231939</td>\n",
       "      <td>Inspirational True Stories</td>\n",
       "      <td>WuClROtJCaw</td>\n",
       "      <td>ANOTHER ROUND Trailer [HD] Mongrel Media</td>\n",
       "    </tr>\n",
       "    <tr>\n",
       "      <th>550</th>\n",
       "      <td>uYPbbksJxIg</td>\n",
       "      <td>18</td>\n",
       "      <td>0.591520</td>\n",
       "      <td>3.114096</td>\n",
       "      <td>4.091232</td>\n",
       "      <td>Emotional Journeys Through Life and History</td>\n",
       "      <td>uYPbbksJxIg</td>\n",
       "      <td>Oppenheimer | New Trailer</td>\n",
       "    </tr>\n",
       "    <tr>\n",
       "      <th>551</th>\n",
       "      <td>P_dfc0iqmig</td>\n",
       "      <td>0</td>\n",
       "      <td>1.000000</td>\n",
       "      <td>6.612958</td>\n",
       "      <td>2.591962</td>\n",
       "      <td>Movie Trailers</td>\n",
       "      <td>P_dfc0iqmig</td>\n",
       "      <td>Hustlers | Official Trailer [HD] | Own it Now ...</td>\n",
       "    </tr>\n",
       "    <tr>\n",
       "      <th>552</th>\n",
       "      <td>j5BnpaiMvO4</td>\n",
       "      <td>0</td>\n",
       "      <td>1.000000</td>\n",
       "      <td>8.060444</td>\n",
       "      <td>4.137704</td>\n",
       "      <td>Movie Trailers</td>\n",
       "      <td>j5BnpaiMvO4</td>\n",
       "      <td>MICKEY AND THE BEAR Trailer (2019) Drama Movie</td>\n",
       "    </tr>\n",
       "    <tr>\n",
       "      <th>553</th>\n",
       "      <td>FvQ8ieRAySY</td>\n",
       "      <td>0</td>\n",
       "      <td>1.000000</td>\n",
       "      <td>5.980517</td>\n",
       "      <td>2.840429</td>\n",
       "      <td>Movie Trailers</td>\n",
       "      <td>FvQ8ieRAySY</td>\n",
       "      <td>Love by Drowning Trailer</td>\n",
       "    </tr>\n",
       "  </tbody>\n",
       "</table>\n",
       "<p>554 rows × 8 columns</p>\n",
       "</div>"
      ],
      "text/plain": [
       "         VideoId  Topic  Probaibility  ReducedEmbeddings_x  \\\n",
       "0    09zYzvKkCOA      6      0.960030             2.788041   \n",
       "1    Na6gA1RehsU      0      1.000000             7.812714   \n",
       "2    gSMxBLlA8qY     17      0.673917             5.310845   \n",
       "3    tSkv_sEyPSc      5      0.478666             5.177978   \n",
       "4    b6qSGKN42Gc      3      1.000000             2.385987   \n",
       "..           ...    ...           ...                  ...   \n",
       "549  WuClROtJCaw      6      1.000000             2.976135   \n",
       "550  uYPbbksJxIg     18      0.591520             3.114096   \n",
       "551  P_dfc0iqmig      0      1.000000             6.612958   \n",
       "552  j5BnpaiMvO4      0      1.000000             8.060444   \n",
       "553  FvQ8ieRAySY      0      1.000000             5.980517   \n",
       "\n",
       "     ReducedEmbeddings_y                                   CustomName  \\\n",
       "0               2.322691                   Inspirational True Stories   \n",
       "1               3.023268                               Movie Trailers   \n",
       "2               2.776821                            True Crime Dramas   \n",
       "3               3.813516                    Uncovering Painful Truths   \n",
       "4               3.115065                      Movies and their themes   \n",
       "..                   ...                                          ...   \n",
       "549             2.231939                   Inspirational True Stories   \n",
       "550             4.091232  Emotional Journeys Through Life and History   \n",
       "551             2.591962                               Movie Trailers   \n",
       "552             4.137704                               Movie Trailers   \n",
       "553             2.840429                               Movie Trailers   \n",
       "\n",
       "         videoId                                              title  \n",
       "0    09zYzvKkCOA  Three Christs - Official Trailer I HD I IFC Films  \n",
       "1    Na6gA1RehsU  TÁR - Official Trailer [HD] - In Select Theate...  \n",
       "2    gSMxBLlA8qY             RICHARD JEWELL - Official Trailer [HD]  \n",
       "3    tSkv_sEyPSc                MENDING THE LINE | Official Trailer  \n",
       "4    b6qSGKN42Gc  SILO - Official Trailer - Oscilloscope Laborat...  \n",
       "..           ...                                                ...  \n",
       "549  WuClROtJCaw           ANOTHER ROUND Trailer [HD] Mongrel Media  \n",
       "550  uYPbbksJxIg                          Oppenheimer | New Trailer  \n",
       "551  P_dfc0iqmig  Hustlers | Official Trailer [HD] | Own it Now ...  \n",
       "552  j5BnpaiMvO4     MICKEY AND THE BEAR Trailer (2019) Drama Movie  \n",
       "553  FvQ8ieRAySY                           Love by Drowning Trailer  \n",
       "\n",
       "[554 rows x 8 columns]"
      ]
     },
     "execution_count": 17,
     "metadata": {},
     "output_type": "execute_result"
    }
   ],
   "source": [
    "topic_classification_passer"
   ]
  },
  {
   "cell_type": "code",
   "execution_count": null,
   "metadata": {},
   "outputs": [
    {
     "name": "stderr",
     "output_type": "stream",
     "text": [
      "/Library/Frameworks/Python.framework/Versions/3.10/lib/python3.10/site-packages/pandas/core/arraylike.py:396: RuntimeWarning:\n",
      "\n",
      "divide by zero encountered in log\n",
      "\n"
     ]
    },
    {
     "data": {
      "text/html": [
       "<div>\n",
       "<style scoped>\n",
       "    .dataframe tbody tr th:only-of-type {\n",
       "        vertical-align: middle;\n",
       "    }\n",
       "\n",
       "    .dataframe tbody tr th {\n",
       "        vertical-align: top;\n",
       "    }\n",
       "\n",
       "    .dataframe thead th {\n",
       "        text-align: right;\n",
       "    }\n",
       "</style>\n",
       "<table border=\"1\" class=\"dataframe\">\n",
       "  <thead>\n",
       "    <tr style=\"text-align: right;\">\n",
       "      <th></th>\n",
       "      <th>CustomName</th>\n",
       "      <th>positive_sent</th>\n",
       "      <th>negative_sent</th>\n",
       "      <th>neutral_sent</th>\n",
       "      <th>total_comments</th>\n",
       "      <th>pos-neg</th>\n",
       "    </tr>\n",
       "  </thead>\n",
       "  <tbody>\n",
       "    <tr>\n",
       "      <th>0</th>\n",
       "      <td>Adoption and Family Dynamics</td>\n",
       "      <td>79</td>\n",
       "      <td>8</td>\n",
       "      <td>52</td>\n",
       "      <td>146</td>\n",
       "      <td>2.929947</td>\n",
       "    </tr>\n",
       "    <tr>\n",
       "      <th>1</th>\n",
       "      <td>Biographies and Historical Dramas</td>\n",
       "      <td>1039</td>\n",
       "      <td>165</td>\n",
       "      <td>697</td>\n",
       "      <td>2094</td>\n",
       "      <td>-0.000000</td>\n",
       "    </tr>\n",
       "    <tr>\n",
       "      <th>2</th>\n",
       "      <td>Coming-of-age films</td>\n",
       "      <td>2836</td>\n",
       "      <td>420</td>\n",
       "      <td>2313</td>\n",
       "      <td>6157</td>\n",
       "      <td>2.020559</td>\n",
       "    </tr>\n",
       "    <tr>\n",
       "      <th>3</th>\n",
       "      <td>Emotional Journeys</td>\n",
       "      <td>230</td>\n",
       "      <td>70</td>\n",
       "      <td>156</td>\n",
       "      <td>495</td>\n",
       "      <td>1.093524</td>\n",
       "    </tr>\n",
       "    <tr>\n",
       "      <th>4</th>\n",
       "      <td>Emotional Journeys Through Life and History</td>\n",
       "      <td>5754</td>\n",
       "      <td>2244</td>\n",
       "      <td>6472</td>\n",
       "      <td>16231</td>\n",
       "      <td>1.470747</td>\n",
       "    </tr>\n",
       "    <tr>\n",
       "      <th>5</th>\n",
       "      <td>Empowering Stories of Resilience</td>\n",
       "      <td>5640</td>\n",
       "      <td>887</td>\n",
       "      <td>3894</td>\n",
       "      <td>11509</td>\n",
       "      <td>1.278464</td>\n",
       "    </tr>\n",
       "    <tr>\n",
       "      <th>6</th>\n",
       "      <td>Heartwarming Friendship Stories</td>\n",
       "      <td>414</td>\n",
       "      <td>71</td>\n",
       "      <td>461</td>\n",
       "      <td>1062</td>\n",
       "      <td>-0.000000</td>\n",
       "    </tr>\n",
       "    <tr>\n",
       "      <th>7</th>\n",
       "      <td>Heartwarming Movie Releases</td>\n",
       "      <td>1344</td>\n",
       "      <td>194</td>\n",
       "      <td>1132</td>\n",
       "      <td>3052</td>\n",
       "      <td>-0.000000</td>\n",
       "    </tr>\n",
       "    <tr>\n",
       "      <th>8</th>\n",
       "      <td>Horror and Ghost Stories</td>\n",
       "      <td>3224</td>\n",
       "      <td>799</td>\n",
       "      <td>3495</td>\n",
       "      <td>8529</td>\n",
       "      <td>-0.000000</td>\n",
       "    </tr>\n",
       "    <tr>\n",
       "      <th>9</th>\n",
       "      <td>Innovators and Their Dreams</td>\n",
       "      <td>205</td>\n",
       "      <td>36</td>\n",
       "      <td>155</td>\n",
       "      <td>426</td>\n",
       "      <td>-0.000000</td>\n",
       "    </tr>\n",
       "    <tr>\n",
       "      <th>10</th>\n",
       "      <td>Inspirational True Stories</td>\n",
       "      <td>3009</td>\n",
       "      <td>798</td>\n",
       "      <td>2280</td>\n",
       "      <td>6962</td>\n",
       "      <td>1.701087</td>\n",
       "    </tr>\n",
       "    <tr>\n",
       "      <th>11</th>\n",
       "      <td>Legendary Athletes in Film</td>\n",
       "      <td>4337</td>\n",
       "      <td>476</td>\n",
       "      <td>3569</td>\n",
       "      <td>9196</td>\n",
       "      <td>-0.000000</td>\n",
       "    </tr>\n",
       "    <tr>\n",
       "      <th>12</th>\n",
       "      <td>Love and Loss Emotional Journeys</td>\n",
       "      <td>2650</td>\n",
       "      <td>539</td>\n",
       "      <td>1739</td>\n",
       "      <td>5846</td>\n",
       "      <td>-0.000000</td>\n",
       "    </tr>\n",
       "    <tr>\n",
       "      <th>13</th>\n",
       "      <td>Mafia and Organized Crime</td>\n",
       "      <td>3194</td>\n",
       "      <td>244</td>\n",
       "      <td>3279</td>\n",
       "      <td>7342</td>\n",
       "      <td>3.095903</td>\n",
       "    </tr>\n",
       "    <tr>\n",
       "      <th>14</th>\n",
       "      <td>Movie Previews</td>\n",
       "      <td>1936</td>\n",
       "      <td>182</td>\n",
       "      <td>1407</td>\n",
       "      <td>3853</td>\n",
       "      <td>2.543731</td>\n",
       "    </tr>\n",
       "    <tr>\n",
       "      <th>15</th>\n",
       "      <td>Movie Synopses</td>\n",
       "      <td>189</td>\n",
       "      <td>28</td>\n",
       "      <td>129</td>\n",
       "      <td>372</td>\n",
       "      <td>1.203585</td>\n",
       "    </tr>\n",
       "    <tr>\n",
       "      <th>16</th>\n",
       "      <td>Movie Trailers</td>\n",
       "      <td>25489</td>\n",
       "      <td>4614</td>\n",
       "      <td>27801</td>\n",
       "      <td>64331</td>\n",
       "      <td>-0.000000</td>\n",
       "    </tr>\n",
       "    <tr>\n",
       "      <th>17</th>\n",
       "      <td>Movies about Running and Personal Growth</td>\n",
       "      <td>76</td>\n",
       "      <td>5</td>\n",
       "      <td>44</td>\n",
       "      <td>136</td>\n",
       "      <td>-0.000000</td>\n",
       "    </tr>\n",
       "    <tr>\n",
       "      <th>18</th>\n",
       "      <td>Movies and Literature</td>\n",
       "      <td>277</td>\n",
       "      <td>39</td>\n",
       "      <td>149</td>\n",
       "      <td>515</td>\n",
       "      <td>1.398963</td>\n",
       "    </tr>\n",
       "    <tr>\n",
       "      <th>19</th>\n",
       "      <td>Movies and TV shows based on trailers</td>\n",
       "      <td>1959</td>\n",
       "      <td>236</td>\n",
       "      <td>1448</td>\n",
       "      <td>3984</td>\n",
       "      <td>1.636776</td>\n",
       "    </tr>\n",
       "    <tr>\n",
       "      <th>20</th>\n",
       "      <td>Movies and Truth</td>\n",
       "      <td>4475</td>\n",
       "      <td>1188</td>\n",
       "      <td>4874</td>\n",
       "      <td>11620</td>\n",
       "      <td>-0.000000</td>\n",
       "    </tr>\n",
       "    <tr>\n",
       "      <th>21</th>\n",
       "      <td>Movies and their stars</td>\n",
       "      <td>188</td>\n",
       "      <td>51</td>\n",
       "      <td>151</td>\n",
       "      <td>429</td>\n",
       "      <td>NaN</td>\n",
       "    </tr>\n",
       "    <tr>\n",
       "      <th>22</th>\n",
       "      <td>Movies and their themes</td>\n",
       "      <td>2055</td>\n",
       "      <td>465</td>\n",
       "      <td>1666</td>\n",
       "      <td>4728</td>\n",
       "      <td>1.358033</td>\n",
       "    </tr>\n",
       "    <tr>\n",
       "      <th>23</th>\n",
       "      <td>Mystery and Suspense Movies</td>\n",
       "      <td>1669</td>\n",
       "      <td>271</td>\n",
       "      <td>1327</td>\n",
       "      <td>3607</td>\n",
       "      <td>1.366309</td>\n",
       "    </tr>\n",
       "    <tr>\n",
       "      <th>24</th>\n",
       "      <td>Religious Journeys and Self-Discovery</td>\n",
       "      <td>1981</td>\n",
       "      <td>407</td>\n",
       "      <td>1251</td>\n",
       "      <td>4004</td>\n",
       "      <td>NaN</td>\n",
       "    </tr>\n",
       "    <tr>\n",
       "      <th>25</th>\n",
       "      <td>Romantic Comedies</td>\n",
       "      <td>71</td>\n",
       "      <td>9</td>\n",
       "      <td>43</td>\n",
       "      <td>136</td>\n",
       "      <td>3.613915</td>\n",
       "    </tr>\n",
       "    <tr>\n",
       "      <th>26</th>\n",
       "      <td>Romantic Dramas</td>\n",
       "      <td>1038</td>\n",
       "      <td>171</td>\n",
       "      <td>1226</td>\n",
       "      <td>2679</td>\n",
       "      <td>-0.000000</td>\n",
       "    </tr>\n",
       "    <tr>\n",
       "      <th>27</th>\n",
       "      <td>True Crime Dramas</td>\n",
       "      <td>1903</td>\n",
       "      <td>467</td>\n",
       "      <td>1159</td>\n",
       "      <td>4046</td>\n",
       "      <td>1.310565</td>\n",
       "    </tr>\n",
       "    <tr>\n",
       "      <th>28</th>\n",
       "      <td>True stories of historical figures</td>\n",
       "      <td>1002</td>\n",
       "      <td>203</td>\n",
       "      <td>691</td>\n",
       "      <td>2090</td>\n",
       "      <td>2.000000</td>\n",
       "    </tr>\n",
       "    <tr>\n",
       "      <th>29</th>\n",
       "      <td>Uncovering Painful Truths</td>\n",
       "      <td>834</td>\n",
       "      <td>125</td>\n",
       "      <td>438</td>\n",
       "      <td>1572</td>\n",
       "      <td>-0.000000</td>\n",
       "    </tr>\n",
       "  </tbody>\n",
       "</table>\n",
       "</div>"
      ],
      "text/plain": [
       "                                     CustomName  positive_sent  negative_sent  \\\n",
       "0                  Adoption and Family Dynamics             79              8   \n",
       "1             Biographies and Historical Dramas           1039            165   \n",
       "2                           Coming-of-age films           2836            420   \n",
       "3                            Emotional Journeys            230             70   \n",
       "4   Emotional Journeys Through Life and History           5754           2244   \n",
       "5              Empowering Stories of Resilience           5640            887   \n",
       "6               Heartwarming Friendship Stories            414             71   \n",
       "7                   Heartwarming Movie Releases           1344            194   \n",
       "8                      Horror and Ghost Stories           3224            799   \n",
       "9                   Innovators and Their Dreams            205             36   \n",
       "10                   Inspirational True Stories           3009            798   \n",
       "11                   Legendary Athletes in Film           4337            476   \n",
       "12             Love and Loss Emotional Journeys           2650            539   \n",
       "13                    Mafia and Organized Crime           3194            244   \n",
       "14                               Movie Previews           1936            182   \n",
       "15                               Movie Synopses            189             28   \n",
       "16                               Movie Trailers          25489           4614   \n",
       "17     Movies about Running and Personal Growth             76              5   \n",
       "18                        Movies and Literature            277             39   \n",
       "19        Movies and TV shows based on trailers           1959            236   \n",
       "20                             Movies and Truth           4475           1188   \n",
       "21                       Movies and their stars            188             51   \n",
       "22                      Movies and their themes           2055            465   \n",
       "23                  Mystery and Suspense Movies           1669            271   \n",
       "24        Religious Journeys and Self-Discovery           1981            407   \n",
       "25                            Romantic Comedies             71              9   \n",
       "26                              Romantic Dramas           1038            171   \n",
       "27                            True Crime Dramas           1903            467   \n",
       "28           True stories of historical figures           1002            203   \n",
       "29                    Uncovering Painful Truths            834            125   \n",
       "\n",
       "    neutral_sent  total_comments   pos-neg  \n",
       "0             52             146  2.929947  \n",
       "1            697            2094 -0.000000  \n",
       "2           2313            6157  2.020559  \n",
       "3            156             495  1.093524  \n",
       "4           6472           16231  1.470747  \n",
       "5           3894           11509  1.278464  \n",
       "6            461            1062 -0.000000  \n",
       "7           1132            3052 -0.000000  \n",
       "8           3495            8529 -0.000000  \n",
       "9            155             426 -0.000000  \n",
       "10          2280            6962  1.701087  \n",
       "11          3569            9196 -0.000000  \n",
       "12          1739            5846 -0.000000  \n",
       "13          3279            7342  3.095903  \n",
       "14          1407            3853  2.543731  \n",
       "15           129             372  1.203585  \n",
       "16         27801           64331 -0.000000  \n",
       "17            44             136 -0.000000  \n",
       "18           149             515  1.398963  \n",
       "19          1448            3984  1.636776  \n",
       "20          4874           11620 -0.000000  \n",
       "21           151             429       NaN  \n",
       "22          1666            4728  1.358033  \n",
       "23          1327            3607  1.366309  \n",
       "24          1251            4004       NaN  \n",
       "25            43             136  3.613915  \n",
       "26          1226            2679 -0.000000  \n",
       "27          1159            4046  1.310565  \n",
       "28           691            2090  2.000000  \n",
       "29           438            1572 -0.000000  "
      ]
     },
     "execution_count": 18,
     "metadata": {},
     "output_type": "execute_result"
    }
   ],
   "source": [
    "commets__ = comments[['videoId', 'comment', 'sentiment']].merge(topic_classification_passer.drop(['videoId'], axis=1), left_on='videoId', right_on='VideoId', how='left')\n",
    "\n",
    "commets__ = commets__.groupby('CustomName').agg(\n",
    "    positive_sent = pd.NamedAgg('sentiment', aggfunc=lambda x: (x == 'positive').sum()),\n",
    "    negative_sent = pd.NamedAgg('sentiment', aggfunc=lambda x: (x == 'negative').sum()),\n",
    "    neutral_sent = pd.NamedAgg('sentiment', aggfunc=lambda x: (x == 'neutral').sum()),\n",
    "    total_comments = pd.NamedAgg('videoId', aggfunc='count')\n",
    ").reset_index(drop=False)\n",
    "\n",
    "commets__['pos-neg'] = np.log(comments_['positive_sent']) / np.log(comments_['negative_sent'])\n",
    "commets__"
   ]
  },
  {
   "cell_type": "code",
   "execution_count": null,
   "metadata": {},
   "outputs": [
    {
     "data": {
      "text/html": [
       "<div>\n",
       "<style scoped>\n",
       "    .dataframe tbody tr th:only-of-type {\n",
       "        vertical-align: middle;\n",
       "    }\n",
       "\n",
       "    .dataframe tbody tr th {\n",
       "        vertical-align: top;\n",
       "    }\n",
       "\n",
       "    .dataframe thead th {\n",
       "        text-align: right;\n",
       "    }\n",
       "</style>\n",
       "<table border=\"1\" class=\"dataframe\">\n",
       "  <thead>\n",
       "    <tr style=\"text-align: right;\">\n",
       "      <th></th>\n",
       "      <th>CustomName</th>\n",
       "      <th>positive_sent</th>\n",
       "      <th>negative_sent</th>\n",
       "      <th>neutral_sent</th>\n",
       "      <th>total_comments</th>\n",
       "      <th>pos-neg</th>\n",
       "      <th>pos_neg_mod</th>\n",
       "    </tr>\n",
       "  </thead>\n",
       "  <tbody>\n",
       "    <tr>\n",
       "      <th>0</th>\n",
       "      <td>Adoption and Family Dynamics</td>\n",
       "      <td>79</td>\n",
       "      <td>8</td>\n",
       "      <td>52</td>\n",
       "      <td>146</td>\n",
       "      <td>2.929947</td>\n",
       "      <td>2.929947</td>\n",
       "    </tr>\n",
       "    <tr>\n",
       "      <th>1</th>\n",
       "      <td>Biographies and Historical Dramas</td>\n",
       "      <td>1039</td>\n",
       "      <td>165</td>\n",
       "      <td>697</td>\n",
       "      <td>2094</td>\n",
       "      <td>-0.000000</td>\n",
       "      <td>0.000000</td>\n",
       "    </tr>\n",
       "    <tr>\n",
       "      <th>2</th>\n",
       "      <td>Coming-of-age films</td>\n",
       "      <td>2836</td>\n",
       "      <td>420</td>\n",
       "      <td>2313</td>\n",
       "      <td>6157</td>\n",
       "      <td>2.020559</td>\n",
       "      <td>2.020559</td>\n",
       "    </tr>\n",
       "    <tr>\n",
       "      <th>3</th>\n",
       "      <td>Emotional Journeys</td>\n",
       "      <td>230</td>\n",
       "      <td>70</td>\n",
       "      <td>156</td>\n",
       "      <td>495</td>\n",
       "      <td>1.093524</td>\n",
       "      <td>1.093524</td>\n",
       "    </tr>\n",
       "    <tr>\n",
       "      <th>4</th>\n",
       "      <td>Emotional Journeys Through Life and History</td>\n",
       "      <td>5754</td>\n",
       "      <td>2244</td>\n",
       "      <td>6472</td>\n",
       "      <td>16231</td>\n",
       "      <td>1.470747</td>\n",
       "      <td>1.470747</td>\n",
       "    </tr>\n",
       "    <tr>\n",
       "      <th>5</th>\n",
       "      <td>Empowering Stories of Resilience</td>\n",
       "      <td>5640</td>\n",
       "      <td>887</td>\n",
       "      <td>3894</td>\n",
       "      <td>11509</td>\n",
       "      <td>1.278464</td>\n",
       "      <td>1.278464</td>\n",
       "    </tr>\n",
       "    <tr>\n",
       "      <th>6</th>\n",
       "      <td>Heartwarming Friendship Stories</td>\n",
       "      <td>414</td>\n",
       "      <td>71</td>\n",
       "      <td>461</td>\n",
       "      <td>1062</td>\n",
       "      <td>-0.000000</td>\n",
       "      <td>0.000000</td>\n",
       "    </tr>\n",
       "    <tr>\n",
       "      <th>7</th>\n",
       "      <td>Heartwarming Movie Releases</td>\n",
       "      <td>1344</td>\n",
       "      <td>194</td>\n",
       "      <td>1132</td>\n",
       "      <td>3052</td>\n",
       "      <td>-0.000000</td>\n",
       "      <td>0.000000</td>\n",
       "    </tr>\n",
       "    <tr>\n",
       "      <th>8</th>\n",
       "      <td>Horror and Ghost Stories</td>\n",
       "      <td>3224</td>\n",
       "      <td>799</td>\n",
       "      <td>3495</td>\n",
       "      <td>8529</td>\n",
       "      <td>-0.000000</td>\n",
       "      <td>0.000000</td>\n",
       "    </tr>\n",
       "    <tr>\n",
       "      <th>9</th>\n",
       "      <td>Innovators and Their Dreams</td>\n",
       "      <td>205</td>\n",
       "      <td>36</td>\n",
       "      <td>155</td>\n",
       "      <td>426</td>\n",
       "      <td>-0.000000</td>\n",
       "      <td>0.000000</td>\n",
       "    </tr>\n",
       "    <tr>\n",
       "      <th>10</th>\n",
       "      <td>Inspirational True Stories</td>\n",
       "      <td>3009</td>\n",
       "      <td>798</td>\n",
       "      <td>2280</td>\n",
       "      <td>6962</td>\n",
       "      <td>1.701087</td>\n",
       "      <td>1.701087</td>\n",
       "    </tr>\n",
       "    <tr>\n",
       "      <th>11</th>\n",
       "      <td>Legendary Athletes in Film</td>\n",
       "      <td>4337</td>\n",
       "      <td>476</td>\n",
       "      <td>3569</td>\n",
       "      <td>9196</td>\n",
       "      <td>-0.000000</td>\n",
       "      <td>0.000000</td>\n",
       "    </tr>\n",
       "    <tr>\n",
       "      <th>12</th>\n",
       "      <td>Love and Loss Emotional Journeys</td>\n",
       "      <td>2650</td>\n",
       "      <td>539</td>\n",
       "      <td>1739</td>\n",
       "      <td>5846</td>\n",
       "      <td>-0.000000</td>\n",
       "      <td>0.000000</td>\n",
       "    </tr>\n",
       "    <tr>\n",
       "      <th>13</th>\n",
       "      <td>Mafia and Organized Crime</td>\n",
       "      <td>3194</td>\n",
       "      <td>244</td>\n",
       "      <td>3279</td>\n",
       "      <td>7342</td>\n",
       "      <td>3.095903</td>\n",
       "      <td>3.095903</td>\n",
       "    </tr>\n",
       "    <tr>\n",
       "      <th>14</th>\n",
       "      <td>Movie Previews</td>\n",
       "      <td>1936</td>\n",
       "      <td>182</td>\n",
       "      <td>1407</td>\n",
       "      <td>3853</td>\n",
       "      <td>2.543731</td>\n",
       "      <td>2.543731</td>\n",
       "    </tr>\n",
       "    <tr>\n",
       "      <th>15</th>\n",
       "      <td>Movie Synopses</td>\n",
       "      <td>189</td>\n",
       "      <td>28</td>\n",
       "      <td>129</td>\n",
       "      <td>372</td>\n",
       "      <td>1.203585</td>\n",
       "      <td>1.203585</td>\n",
       "    </tr>\n",
       "    <tr>\n",
       "      <th>16</th>\n",
       "      <td>Movie Trailers</td>\n",
       "      <td>25489</td>\n",
       "      <td>4614</td>\n",
       "      <td>27801</td>\n",
       "      <td>64331</td>\n",
       "      <td>-0.000000</td>\n",
       "      <td>0.000000</td>\n",
       "    </tr>\n",
       "    <tr>\n",
       "      <th>17</th>\n",
       "      <td>Movies about Running and Personal Growth</td>\n",
       "      <td>76</td>\n",
       "      <td>5</td>\n",
       "      <td>44</td>\n",
       "      <td>136</td>\n",
       "      <td>-0.000000</td>\n",
       "      <td>0.000000</td>\n",
       "    </tr>\n",
       "    <tr>\n",
       "      <th>18</th>\n",
       "      <td>Movies and Literature</td>\n",
       "      <td>277</td>\n",
       "      <td>39</td>\n",
       "      <td>149</td>\n",
       "      <td>515</td>\n",
       "      <td>1.398963</td>\n",
       "      <td>1.398963</td>\n",
       "    </tr>\n",
       "    <tr>\n",
       "      <th>19</th>\n",
       "      <td>Movies and TV shows based on trailers</td>\n",
       "      <td>1959</td>\n",
       "      <td>236</td>\n",
       "      <td>1448</td>\n",
       "      <td>3984</td>\n",
       "      <td>1.636776</td>\n",
       "      <td>1.636776</td>\n",
       "    </tr>\n",
       "    <tr>\n",
       "      <th>20</th>\n",
       "      <td>Movies and Truth</td>\n",
       "      <td>4475</td>\n",
       "      <td>1188</td>\n",
       "      <td>4874</td>\n",
       "      <td>11620</td>\n",
       "      <td>-0.000000</td>\n",
       "      <td>0.000000</td>\n",
       "    </tr>\n",
       "    <tr>\n",
       "      <th>21</th>\n",
       "      <td>Movies and their stars</td>\n",
       "      <td>188</td>\n",
       "      <td>51</td>\n",
       "      <td>151</td>\n",
       "      <td>429</td>\n",
       "      <td>NaN</td>\n",
       "      <td>0.000000</td>\n",
       "    </tr>\n",
       "    <tr>\n",
       "      <th>22</th>\n",
       "      <td>Movies and their themes</td>\n",
       "      <td>2055</td>\n",
       "      <td>465</td>\n",
       "      <td>1666</td>\n",
       "      <td>4728</td>\n",
       "      <td>1.358033</td>\n",
       "      <td>1.358033</td>\n",
       "    </tr>\n",
       "    <tr>\n",
       "      <th>23</th>\n",
       "      <td>Mystery and Suspense Movies</td>\n",
       "      <td>1669</td>\n",
       "      <td>271</td>\n",
       "      <td>1327</td>\n",
       "      <td>3607</td>\n",
       "      <td>1.366309</td>\n",
       "      <td>1.366309</td>\n",
       "    </tr>\n",
       "    <tr>\n",
       "      <th>24</th>\n",
       "      <td>Religious Journeys and Self-Discovery</td>\n",
       "      <td>1981</td>\n",
       "      <td>407</td>\n",
       "      <td>1251</td>\n",
       "      <td>4004</td>\n",
       "      <td>NaN</td>\n",
       "      <td>0.000000</td>\n",
       "    </tr>\n",
       "    <tr>\n",
       "      <th>25</th>\n",
       "      <td>Romantic Comedies</td>\n",
       "      <td>71</td>\n",
       "      <td>9</td>\n",
       "      <td>43</td>\n",
       "      <td>136</td>\n",
       "      <td>3.613915</td>\n",
       "      <td>3.613915</td>\n",
       "    </tr>\n",
       "    <tr>\n",
       "      <th>26</th>\n",
       "      <td>Romantic Dramas</td>\n",
       "      <td>1038</td>\n",
       "      <td>171</td>\n",
       "      <td>1226</td>\n",
       "      <td>2679</td>\n",
       "      <td>-0.000000</td>\n",
       "      <td>0.000000</td>\n",
       "    </tr>\n",
       "    <tr>\n",
       "      <th>27</th>\n",
       "      <td>True Crime Dramas</td>\n",
       "      <td>1903</td>\n",
       "      <td>467</td>\n",
       "      <td>1159</td>\n",
       "      <td>4046</td>\n",
       "      <td>1.310565</td>\n",
       "      <td>1.310565</td>\n",
       "    </tr>\n",
       "    <tr>\n",
       "      <th>28</th>\n",
       "      <td>True stories of historical figures</td>\n",
       "      <td>1002</td>\n",
       "      <td>203</td>\n",
       "      <td>691</td>\n",
       "      <td>2090</td>\n",
       "      <td>2.000000</td>\n",
       "      <td>2.000000</td>\n",
       "    </tr>\n",
       "    <tr>\n",
       "      <th>29</th>\n",
       "      <td>Uncovering Painful Truths</td>\n",
       "      <td>834</td>\n",
       "      <td>125</td>\n",
       "      <td>438</td>\n",
       "      <td>1572</td>\n",
       "      <td>-0.000000</td>\n",
       "      <td>0.000000</td>\n",
       "    </tr>\n",
       "  </tbody>\n",
       "</table>\n",
       "</div>"
      ],
      "text/plain": [
       "                                     CustomName  positive_sent  negative_sent  \\\n",
       "0                  Adoption and Family Dynamics             79              8   \n",
       "1             Biographies and Historical Dramas           1039            165   \n",
       "2                           Coming-of-age films           2836            420   \n",
       "3                            Emotional Journeys            230             70   \n",
       "4   Emotional Journeys Through Life and History           5754           2244   \n",
       "5              Empowering Stories of Resilience           5640            887   \n",
       "6               Heartwarming Friendship Stories            414             71   \n",
       "7                   Heartwarming Movie Releases           1344            194   \n",
       "8                      Horror and Ghost Stories           3224            799   \n",
       "9                   Innovators and Their Dreams            205             36   \n",
       "10                   Inspirational True Stories           3009            798   \n",
       "11                   Legendary Athletes in Film           4337            476   \n",
       "12             Love and Loss Emotional Journeys           2650            539   \n",
       "13                    Mafia and Organized Crime           3194            244   \n",
       "14                               Movie Previews           1936            182   \n",
       "15                               Movie Synopses            189             28   \n",
       "16                               Movie Trailers          25489           4614   \n",
       "17     Movies about Running and Personal Growth             76              5   \n",
       "18                        Movies and Literature            277             39   \n",
       "19        Movies and TV shows based on trailers           1959            236   \n",
       "20                             Movies and Truth           4475           1188   \n",
       "21                       Movies and their stars            188             51   \n",
       "22                      Movies and their themes           2055            465   \n",
       "23                  Mystery and Suspense Movies           1669            271   \n",
       "24        Religious Journeys and Self-Discovery           1981            407   \n",
       "25                            Romantic Comedies             71              9   \n",
       "26                              Romantic Dramas           1038            171   \n",
       "27                            True Crime Dramas           1903            467   \n",
       "28           True stories of historical figures           1002            203   \n",
       "29                    Uncovering Painful Truths            834            125   \n",
       "\n",
       "    neutral_sent  total_comments   pos-neg  pos_neg_mod  \n",
       "0             52             146  2.929947     2.929947  \n",
       "1            697            2094 -0.000000     0.000000  \n",
       "2           2313            6157  2.020559     2.020559  \n",
       "3            156             495  1.093524     1.093524  \n",
       "4           6472           16231  1.470747     1.470747  \n",
       "5           3894           11509  1.278464     1.278464  \n",
       "6            461            1062 -0.000000     0.000000  \n",
       "7           1132            3052 -0.000000     0.000000  \n",
       "8           3495            8529 -0.000000     0.000000  \n",
       "9            155             426 -0.000000     0.000000  \n",
       "10          2280            6962  1.701087     1.701087  \n",
       "11          3569            9196 -0.000000     0.000000  \n",
       "12          1739            5846 -0.000000     0.000000  \n",
       "13          3279            7342  3.095903     3.095903  \n",
       "14          1407            3853  2.543731     2.543731  \n",
       "15           129             372  1.203585     1.203585  \n",
       "16         27801           64331 -0.000000     0.000000  \n",
       "17            44             136 -0.000000     0.000000  \n",
       "18           149             515  1.398963     1.398963  \n",
       "19          1448            3984  1.636776     1.636776  \n",
       "20          4874           11620 -0.000000     0.000000  \n",
       "21           151             429       NaN     0.000000  \n",
       "22          1666            4728  1.358033     1.358033  \n",
       "23          1327            3607  1.366309     1.366309  \n",
       "24          1251            4004       NaN     0.000000  \n",
       "25            43             136  3.613915     3.613915  \n",
       "26          1226            2679 -0.000000     0.000000  \n",
       "27          1159            4046  1.310565     1.310565  \n",
       "28           691            2090  2.000000     2.000000  \n",
       "29           438            1572 -0.000000     0.000000  "
      ]
     },
     "execution_count": 19,
     "metadata": {},
     "output_type": "execute_result"
    }
   ],
   "source": [
    "commets__['pos_neg_mod'] = [i if i>0 else 0 for i in commets__['pos-neg']]\n",
    "commets__"
   ]
  },
  {
   "cell_type": "code",
   "execution_count": null,
   "metadata": {},
   "outputs": [
    {
     "data": {
      "text/html": [
       "<div>\n",
       "<style scoped>\n",
       "    .dataframe tbody tr th:only-of-type {\n",
       "        vertical-align: middle;\n",
       "    }\n",
       "\n",
       "    .dataframe tbody tr th {\n",
       "        vertical-align: top;\n",
       "    }\n",
       "\n",
       "    .dataframe thead th {\n",
       "        text-align: right;\n",
       "    }\n",
       "</style>\n",
       "<table border=\"1\" class=\"dataframe\">\n",
       "  <thead>\n",
       "    <tr style=\"text-align: right;\">\n",
       "      <th></th>\n",
       "      <th>VideoId</th>\n",
       "      <th>Topic</th>\n",
       "      <th>Probaibility</th>\n",
       "      <th>ReducedEmbeddings_x</th>\n",
       "      <th>ReducedEmbeddings_y</th>\n",
       "      <th>CustomName</th>\n",
       "      <th>videoId_x</th>\n",
       "      <th>title</th>\n",
       "      <th>videoId_y</th>\n",
       "      <th>positive_sent</th>\n",
       "      <th>negative_sent</th>\n",
       "      <th>neutral_sent</th>\n",
       "      <th>total_comments</th>\n",
       "      <th>pos-neg</th>\n",
       "      <th>ReducedEmbeddings</th>\n",
       "      <th>OpenAIGeneratedDescription</th>\n",
       "      <th>pos_neg_mod</th>\n",
       "    </tr>\n",
       "  </thead>\n",
       "  <tbody>\n",
       "    <tr>\n",
       "      <th>0</th>\n",
       "      <td>Na6gA1RehsU</td>\n",
       "      <td>0</td>\n",
       "      <td>1.000000</td>\n",
       "      <td>7.812714</td>\n",
       "      <td>3.023268</td>\n",
       "      <td>Movie Trailers</td>\n",
       "      <td>Na6gA1RehsU</td>\n",
       "      <td>TÁR - Official Trailer [HD] - In Select Theate...</td>\n",
       "      <td>Na6gA1RehsU</td>\n",
       "      <td>102.0</td>\n",
       "      <td>13.0</td>\n",
       "      <td>48.0</td>\n",
       "      <td>179.0</td>\n",
       "      <td>1.803144</td>\n",
       "      <td>[7.812714, 3.0232685]</td>\n",
       "      <td>TÁR is a captivating and visually stunning fil...</td>\n",
       "      <td>0.000000</td>\n",
       "    </tr>\n",
       "    <tr>\n",
       "      <th>1</th>\n",
       "      <td>gSMxBLlA8qY</td>\n",
       "      <td>17</td>\n",
       "      <td>0.673917</td>\n",
       "      <td>5.310845</td>\n",
       "      <td>2.776821</td>\n",
       "      <td>True Crime Dramas</td>\n",
       "      <td>gSMxBLlA8qY</td>\n",
       "      <td>RICHARD JEWELL - Official Trailer [HD]</td>\n",
       "      <td>gSMxBLlA8qY</td>\n",
       "      <td>471.0</td>\n",
       "      <td>193.0</td>\n",
       "      <td>273.0</td>\n",
       "      <td>1086.0</td>\n",
       "      <td>1.169527</td>\n",
       "      <td>[5.310845, 2.7768207]</td>\n",
       "      <td>In the upcoming film \"Richard Jewell,\" directe...</td>\n",
       "      <td>1.310565</td>\n",
       "    </tr>\n",
       "    <tr>\n",
       "      <th>2</th>\n",
       "      <td>nrXlY6gzTTM</td>\n",
       "      <td>20</td>\n",
       "      <td>0.312142</td>\n",
       "      <td>1.904737</td>\n",
       "      <td>2.963583</td>\n",
       "      <td>True stories of historical figures</td>\n",
       "      <td>nrXlY6gzTTM</td>\n",
       "      <td>The Post | Official Trailer [HD] | 20th Centur...</td>\n",
       "      <td>nrXlY6gzTTM</td>\n",
       "      <td>371.0</td>\n",
       "      <td>55.0</td>\n",
       "      <td>254.0</td>\n",
       "      <td>764.0</td>\n",
       "      <td>1.476344</td>\n",
       "      <td>[1.9047374, 2.963583]</td>\n",
       "      <td>In this thrilling drama, legendary filmmaker S...</td>\n",
       "      <td>2.000000</td>\n",
       "    </tr>\n",
       "    <tr>\n",
       "      <th>3</th>\n",
       "      <td>XFYWazblaUA</td>\n",
       "      <td>18</td>\n",
       "      <td>0.760441</td>\n",
       "      <td>2.787400</td>\n",
       "      <td>3.801875</td>\n",
       "      <td>Emotional Journeys Through Life and History</td>\n",
       "      <td>XFYWazblaUA</td>\n",
       "      <td>THE SHAPE OF WATER | Official Trailer | FOX Se...</td>\n",
       "      <td>XFYWazblaUA</td>\n",
       "      <td>1181.0</td>\n",
       "      <td>224.0</td>\n",
       "      <td>1168.0</td>\n",
       "      <td>2826.0</td>\n",
       "      <td>1.307202</td>\n",
       "      <td>[2.7874, 3.8018749]</td>\n",
       "      <td>Introducing \"The Shape of Water,\" a captivatin...</td>\n",
       "      <td>1.470747</td>\n",
       "    </tr>\n",
       "    <tr>\n",
       "      <th>4</th>\n",
       "      <td>-Denciie5oA</td>\n",
       "      <td>3</td>\n",
       "      <td>0.990479</td>\n",
       "      <td>2.245054</td>\n",
       "      <td>2.972476</td>\n",
       "      <td>Movies and their themes</td>\n",
       "      <td>-Denciie5oA</td>\n",
       "      <td>12 STRONG - Official Trailer</td>\n",
       "      <td>-Denciie5oA</td>\n",
       "      <td>430.0</td>\n",
       "      <td>256.0</td>\n",
       "      <td>441.0</td>\n",
       "      <td>1291.0</td>\n",
       "      <td>1.093524</td>\n",
       "      <td>[2.245054, 2.9724758]</td>\n",
       "      <td>Get ready for an intense and action-packed rid...</td>\n",
       "      <td>1.358033</td>\n",
       "    </tr>\n",
       "    <tr>\n",
       "      <th>...</th>\n",
       "      <td>...</td>\n",
       "      <td>...</td>\n",
       "      <td>...</td>\n",
       "      <td>...</td>\n",
       "      <td>...</td>\n",
       "      <td>...</td>\n",
       "      <td>...</td>\n",
       "      <td>...</td>\n",
       "      <td>...</td>\n",
       "      <td>...</td>\n",
       "      <td>...</td>\n",
       "      <td>...</td>\n",
       "      <td>...</td>\n",
       "      <td>...</td>\n",
       "      <td>...</td>\n",
       "      <td>...</td>\n",
       "      <td>...</td>\n",
       "    </tr>\n",
       "    <tr>\n",
       "      <th>240</th>\n",
       "      <td>AHmCH7iB_IM</td>\n",
       "      <td>0</td>\n",
       "      <td>1.000000</td>\n",
       "      <td>6.514732</td>\n",
       "      <td>2.210091</td>\n",
       "      <td>Movie Trailers</td>\n",
       "      <td>AHmCH7iB_IM</td>\n",
       "      <td>CREED III | Official Trailer</td>\n",
       "      <td>AHmCH7iB_IM</td>\n",
       "      <td>2989.0</td>\n",
       "      <td>335.0</td>\n",
       "      <td>3017.0</td>\n",
       "      <td>7011.0</td>\n",
       "      <td>1.376421</td>\n",
       "      <td>[6.514732, 2.2100906]</td>\n",
       "      <td>In the official trailer for \"Creed III,\" direc...</td>\n",
       "      <td>0.000000</td>\n",
       "    </tr>\n",
       "    <tr>\n",
       "      <th>241</th>\n",
       "      <td>bRDuc3IdOn8</td>\n",
       "      <td>15</td>\n",
       "      <td>1.000000</td>\n",
       "      <td>6.107909</td>\n",
       "      <td>3.331384</td>\n",
       "      <td>Mystery and Suspense Movies</td>\n",
       "      <td>bRDuc3IdOn8</td>\n",
       "      <td>The Painted Bird - Official Trailer I HD I IFC...</td>\n",
       "      <td>bRDuc3IdOn8</td>\n",
       "      <td>17.0</td>\n",
       "      <td>3.0</td>\n",
       "      <td>4.0</td>\n",
       "      <td>27.0</td>\n",
       "      <td>2.578902</td>\n",
       "      <td>[6.1079087, 3.331384]</td>\n",
       "      <td>Experience the gripping and visually stunning ...</td>\n",
       "      <td>1.366309</td>\n",
       "    </tr>\n",
       "    <tr>\n",
       "      <th>242</th>\n",
       "      <td>eYfKlNBLLeQ</td>\n",
       "      <td>22</td>\n",
       "      <td>0.671339</td>\n",
       "      <td>4.078673</td>\n",
       "      <td>2.577462</td>\n",
       "      <td>Emotional Journeys</td>\n",
       "      <td>eYfKlNBLLeQ</td>\n",
       "      <td>Little Joe - Official Trailer</td>\n",
       "      <td>eYfKlNBLLeQ</td>\n",
       "      <td>12.0</td>\n",
       "      <td>3.0</td>\n",
       "      <td>9.0</td>\n",
       "      <td>26.0</td>\n",
       "      <td>2.261860</td>\n",
       "      <td>[4.078673, 2.577462]</td>\n",
       "      <td>In the movie trailer for \"Little Joe,\" we are ...</td>\n",
       "      <td>1.093524</td>\n",
       "    </tr>\n",
       "    <tr>\n",
       "      <th>243</th>\n",
       "      <td>uYPbbksJxIg</td>\n",
       "      <td>18</td>\n",
       "      <td>0.591520</td>\n",
       "      <td>3.114096</td>\n",
       "      <td>4.091232</td>\n",
       "      <td>Emotional Journeys Through Life and History</td>\n",
       "      <td>uYPbbksJxIg</td>\n",
       "      <td>Oppenheimer | New Trailer</td>\n",
       "      <td>uYPbbksJxIg</td>\n",
       "      <td>4537.0</td>\n",
       "      <td>2017.0</td>\n",
       "      <td>5287.0</td>\n",
       "      <td>13348.0</td>\n",
       "      <td>1.106534</td>\n",
       "      <td>[3.1140964, 4.091232]</td>\n",
       "      <td>Get ready for a thrilling journey through hist...</td>\n",
       "      <td>1.470747</td>\n",
       "    </tr>\n",
       "    <tr>\n",
       "      <th>244</th>\n",
       "      <td>P_dfc0iqmig</td>\n",
       "      <td>0</td>\n",
       "      <td>1.000000</td>\n",
       "      <td>6.612958</td>\n",
       "      <td>2.591962</td>\n",
       "      <td>Movie Trailers</td>\n",
       "      <td>P_dfc0iqmig</td>\n",
       "      <td>Hustlers | Official Trailer [HD] | Own it Now ...</td>\n",
       "      <td>P_dfc0iqmig</td>\n",
       "      <td>62.0</td>\n",
       "      <td>9.0</td>\n",
       "      <td>49.0</td>\n",
       "      <td>133.0</td>\n",
       "      <td>1.878340</td>\n",
       "      <td>[6.612958, 2.591962]</td>\n",
       "      <td>Hustlers is a captivating film based on a true...</td>\n",
       "      <td>0.000000</td>\n",
       "    </tr>\n",
       "  </tbody>\n",
       "</table>\n",
       "<p>245 rows × 17 columns</p>\n",
       "</div>"
      ],
      "text/plain": [
       "         VideoId  Topic  Probaibility  ReducedEmbeddings_x  \\\n",
       "0    Na6gA1RehsU      0      1.000000             7.812714   \n",
       "1    gSMxBLlA8qY     17      0.673917             5.310845   \n",
       "2    nrXlY6gzTTM     20      0.312142             1.904737   \n",
       "3    XFYWazblaUA     18      0.760441             2.787400   \n",
       "4    -Denciie5oA      3      0.990479             2.245054   \n",
       "..           ...    ...           ...                  ...   \n",
       "240  AHmCH7iB_IM      0      1.000000             6.514732   \n",
       "241  bRDuc3IdOn8     15      1.000000             6.107909   \n",
       "242  eYfKlNBLLeQ     22      0.671339             4.078673   \n",
       "243  uYPbbksJxIg     18      0.591520             3.114096   \n",
       "244  P_dfc0iqmig      0      1.000000             6.612958   \n",
       "\n",
       "     ReducedEmbeddings_y                                   CustomName  \\\n",
       "0               3.023268                               Movie Trailers   \n",
       "1               2.776821                            True Crime Dramas   \n",
       "2               2.963583           True stories of historical figures   \n",
       "3               3.801875  Emotional Journeys Through Life and History   \n",
       "4               2.972476                      Movies and their themes   \n",
       "..                   ...                                          ...   \n",
       "240             2.210091                               Movie Trailers   \n",
       "241             3.331384                  Mystery and Suspense Movies   \n",
       "242             2.577462                           Emotional Journeys   \n",
       "243             4.091232  Emotional Journeys Through Life and History   \n",
       "244             2.591962                               Movie Trailers   \n",
       "\n",
       "       videoId_x                                              title  \\\n",
       "0    Na6gA1RehsU  TÁR - Official Trailer [HD] - In Select Theate...   \n",
       "1    gSMxBLlA8qY             RICHARD JEWELL - Official Trailer [HD]   \n",
       "2    nrXlY6gzTTM  The Post | Official Trailer [HD] | 20th Centur...   \n",
       "3    XFYWazblaUA  THE SHAPE OF WATER | Official Trailer | FOX Se...   \n",
       "4    -Denciie5oA                       12 STRONG - Official Trailer   \n",
       "..           ...                                                ...   \n",
       "240  AHmCH7iB_IM                       CREED III | Official Trailer   \n",
       "241  bRDuc3IdOn8  The Painted Bird - Official Trailer I HD I IFC...   \n",
       "242  eYfKlNBLLeQ                      Little Joe - Official Trailer   \n",
       "243  uYPbbksJxIg                          Oppenheimer | New Trailer   \n",
       "244  P_dfc0iqmig  Hustlers | Official Trailer [HD] | Own it Now ...   \n",
       "\n",
       "       videoId_y  positive_sent  negative_sent  neutral_sent  total_comments  \\\n",
       "0    Na6gA1RehsU          102.0           13.0          48.0           179.0   \n",
       "1    gSMxBLlA8qY          471.0          193.0         273.0          1086.0   \n",
       "2    nrXlY6gzTTM          371.0           55.0         254.0           764.0   \n",
       "3    XFYWazblaUA         1181.0          224.0        1168.0          2826.0   \n",
       "4    -Denciie5oA          430.0          256.0         441.0          1291.0   \n",
       "..           ...            ...            ...           ...             ...   \n",
       "240  AHmCH7iB_IM         2989.0          335.0        3017.0          7011.0   \n",
       "241  bRDuc3IdOn8           17.0            3.0           4.0            27.0   \n",
       "242  eYfKlNBLLeQ           12.0            3.0           9.0            26.0   \n",
       "243  uYPbbksJxIg         4537.0         2017.0        5287.0         13348.0   \n",
       "244  P_dfc0iqmig           62.0            9.0          49.0           133.0   \n",
       "\n",
       "      pos-neg      ReducedEmbeddings  \\\n",
       "0    1.803144  [7.812714, 3.0232685]   \n",
       "1    1.169527  [5.310845, 2.7768207]   \n",
       "2    1.476344  [1.9047374, 2.963583]   \n",
       "3    1.307202    [2.7874, 3.8018749]   \n",
       "4    1.093524  [2.245054, 2.9724758]   \n",
       "..        ...                    ...   \n",
       "240  1.376421  [6.514732, 2.2100906]   \n",
       "241  2.578902  [6.1079087, 3.331384]   \n",
       "242  2.261860   [4.078673, 2.577462]   \n",
       "243  1.106534  [3.1140964, 4.091232]   \n",
       "244  1.878340   [6.612958, 2.591962]   \n",
       "\n",
       "                            OpenAIGeneratedDescription  pos_neg_mod  \n",
       "0    TÁR is a captivating and visually stunning fil...     0.000000  \n",
       "1    In the upcoming film \"Richard Jewell,\" directe...     1.310565  \n",
       "2    In this thrilling drama, legendary filmmaker S...     2.000000  \n",
       "3    Introducing \"The Shape of Water,\" a captivatin...     1.470747  \n",
       "4    Get ready for an intense and action-packed rid...     1.358033  \n",
       "..                                                 ...          ...  \n",
       "240  In the official trailer for \"Creed III,\" direc...     0.000000  \n",
       "241  Experience the gripping and visually stunning ...     1.366309  \n",
       "242  In the movie trailer for \"Little Joe,\" we are ...     1.093524  \n",
       "243  Get ready for a thrilling journey through hist...     1.470747  \n",
       "244  Hustlers is a captivating film based on a true...     0.000000  \n",
       "\n",
       "[245 rows x 17 columns]"
      ]
     },
     "execution_count": 20,
     "metadata": {},
     "output_type": "execute_result"
    }
   ],
   "source": [
    "final2 = final.merge(commets__[['CustomName', 'pos_neg_mod']], left_on=['CustomName'], right_on=['CustomName'], how='left')\n",
    "final2"
   ]
  },
  {
   "cell_type": "code",
   "execution_count": null,
   "metadata": {},
   "outputs": [
    {
     "data": {
      "application/vnd.plotly.v1+json": {
       "config": {
        "plotlyServerURL": "https://plot.ly"
       },
       "data": [
        {
         "customdata": [
          [
           "TÁR - Official Trailer [HD] - In Select Theaters October 7",
           "Movie Trailers"
          ],
          [
           "RICHARD JEWELL - Official Trailer [HD]",
           "True Crime Dramas"
          ],
          [
           "The Post | Official Trailer [HD] | 20th Century FOX",
           "True stories of historical figures"
          ],
          [
           "THE SHAPE OF WATER | Official Trailer | FOX Searchlight",
           "Emotional Journeys Through Life and History"
          ],
          [
           "12 STRONG - Official Trailer",
           "Movies and their themes"
          ],
          [
           "Love, Simon | Official Trailer 2 [HD] | 20th Century FOX",
           "Coming-of-age films"
          ],
          [
           "DARKEST HOUR - Official Trailer [HD] - In Theaters November 22nd",
           "True stories of historical figures"
          ],
          [
           "THE 15:17 TO PARIS - Official Trailer [HD]",
           "True stories of historical figures"
          ],
          [
           "Nobody's Fool (2018) - Official Trailer - Paramount Pictures",
           "Movies and Literature"
          ],
          [
           "Adrift | Final Trailer | Own It Now on Digital HD, Blu-Ray & DVD",
           "Movies and their stars"
          ],
          [
           "WHITE BOY RICK - Official Trailer (HD)",
           "Movies and their themes"
          ],
          [
           "Molly's Game | Official Trailer | Own it Now on Digital HD, Blu-ray™ & DVD",
           "Movies and Truth"
          ],
          [
           "PHANTOM THREAD - Official Trailer [HD] - In Select Theaters Christmas",
           "Movie Trailers"
          ],
          [
           "OPERATION FINALE | Official Trailer | MGM",
           "Movie Trailers"
          ],
          [
           "Lady Bird | Official Trailer HD | A24",
           "Movie Trailers"
          ],
          [
           "Forever My Girl | Official Trailer | Roadside Attractions |  In theaters January 19",
           "Movie Trailers"
          ],
          [
           "Eighth Grade | Official Trailer HD | A24",
           "Coming-of-age films"
          ],
          [
           "Wonder (2017 Movie) Official Trailer – #ChooseKind – Julia Roberts, Owen Wilson",
           "Movie Trailers"
          ],
          [
           "THE MIRACLE SEASON | Official Trailer",
           "Religious Journeys and Self-Discovery"
          ],
          [
           "Midnight Sun | Official Trailer [HD]  | Open Road Films",
           "Love and Loss Emotional Journeys"
          ],
          [
           "Mid90s | Official Trailer HD | A24",
           "Movie Trailers"
          ],
          [
           "EVERY DAY Official Trailer (2018)",
           "Movie Trailers"
          ],
          [
           "LEAVE NO TRACE | Official Trailer",
           "Movie Trailers"
          ],
          [
           "God's Not Dead 3: A Light in Darkness (Official Trailer)",
           "Religious Journeys and Self-Discovery"
          ],
          [
           "COLETTE | Official Trailer",
           "Movie Trailers"
          ],
          [
           "Samson - Official Trailer (2018)",
           "Inspirational True Stories"
          ],
          [
           "Blindspotting (2018 Movie) Official Trailer - Daveed Diggs, Rafael Casal",
           "Movies and their themes"
          ],
          [
           "GOTTI Trailer (2017)",
           "Mafia and Organized Crime"
          ],
          [
           "Life Itself - Official Trailer | Amazon Studios",
           "Movies and TV shows based on trailers"
          ],
          [
           "GOSNELL: The Trial of America's Biggest Serial Killer (Official Trailer)",
           "True Crime Dramas"
          ],
          [
           "DISOBEDIENCE | Official Trailer",
           "Movie Trailers"
          ],
          [
           "You Were Never Really Here – Official Trailer | Amazon Studios",
           "Movie Trailers"
          ],
          [
           "PAPILLON | Official Trailer",
           "Movie Trailers"
          ],
          [
           "Murder on the Orient Express | Official Trailer [HD] | 20th Century FOX",
           "Movies and Truth"
          ],
          [
           "Puzzle | Official Trailer HD (2018)",
           "Religious Journeys and Self-Discovery"
          ],
          [
           "THE FRONT RUNNER – International Trailer",
           "Movie Trailers"
          ],
          [
           "Lean on Pete | Official Trailer HD | A24",
           "Love and Loss Emotional Journeys"
          ],
          [
           "Schindler's List 25th Anniversary - Official Trailer - In Theaters December 7",
           "Movie Trailers"
          ],
          [
           "ON CHESIL BEACH | Official Trailer",
           "Movie Trailers"
          ],
          [
           "The Catcher Was a Spy - Official Trailer | HD | IFC Films",
           "Movie Trailers"
          ],
          [
           "THE LITTLE STRANGER - Official Trailer [HD] - In Theaters August 31",
           "Movie Trailers"
          ],
          [
           "Blaze - Official Trailer | HD | IFC Films",
           "Movies and their themes"
          ],
          [
           "Boundaries (2018) Official Trailer HD",
           "Movie Trailers"
          ],
          [
           "Lizzie Official Trailer | Roadside Attractions | In Select Theaters September 14",
           "Movie Trailers"
          ],
          [
           "The Florida Project | Official Trailer HD | A24",
           "Movie Trailers"
          ],
          [
           "MARSHALL | Official Trailer [HD] | Open Road Films",
           "Movie Trailers"
          ],
          [
           "MONSTERS AND MEN [Trailer] Now Playing in Select Cities",
           "Uncovering Painful Truths"
          ],
          [
           "The Children Act | Official Trailer | A24",
           "Movies and their themes"
          ],
          [
           "Flower (2018) | Official US Trailer HD",
           "Romantic Dramas"
          ],
          [
           "Skate Kitchen Official Trailer - Starring The Skate Kitchen and Jaden Smith",
           "Movie Trailers"
          ],
          [
           "Madeline's Madeline - Official Trailer HD - Oscilloscope Laboratories",
           "Movies and their stars"
          ],
          [
           "ONLY THE BRAVE - Official Trailer #3 (HD)",
           "Movies and their themes"
          ],
          [
           "The Young Karl Marx Trailer #1 (2018) | Movieclips Indie",
           "Uncovering Painful Truths"
          ],
          [
           "ROMAN J. ISRAEL, ESQ. - Official Trailer (HD)",
           "True Crime Dramas"
          ],
          [
           "Wonder Wheel – Official Trailer | Amazon Studios",
           "Love and Loss Emotional Journeys"
          ],
          [
           "The Breadwinner [Official US Trailer]",
           "Movie Synopses"
          ],
          [
           "NOSTALGIA | Official Trailer",
           "Movie Trailers"
          ],
          [
           "Where Hands Touch | Official Trailer (HD) | Vertical Entertainment",
           "Mystery and Suspense Movies"
          ],
          [
           "My Friend Dahmer - Official Trailer (US) - FilmRise",
           "Coming-of-age films"
          ],
          [
           "WHERE IS KYRA? Official Trailer (2018) Michelle Pfeiffer Drama Movie HD",
           "Uncovering Painful Truths"
          ],
          [
           "Bomb City I Movie Trailer",
           "Movie Trailers"
          ],
          [
           "A Kid Like Jake - Official Trailer I HD I IFC Films",
           "Coming-of-age films"
          ],
          [
           "Black 47 - Official Trailer I HD I IFC Films",
           "Movies and their stars"
          ],
          [
           "Krystal Trailer #1 (2018) | Movieclips Indie",
           "Movie Trailers"
          ],
          [
           "Loving Pablo Trailer #1 (2018) | Movieclips Trailers",
           "Movie Trailers"
          ],
          [
           "Paladins - Cinematic Trailer - \"Go To War\"",
           "Movie Trailers"
          ],
          [
           "The Last Movie Star | Official Trailer HD | A24",
           "Legendary Athletes in Film"
          ],
          [
           "HEAD FULL OF HONEY - Official Trailer",
           "Heartwarming Movie Releases"
          ],
          [
           "VICTORIA & ABDUL - Official Trailer [HD] - In Theaters 9/22",
           "Biographies and Historical Dramas"
          ],
          [
           "Please Stand By - Official Trailer",
           "Movie Trailers"
          ],
          [
           "Summer of '67 Trailer #1 (2018) | Movieclips Indie",
           "Movie Trailers"
          ],
          [
           "THE NUN II | OFFICIAL TRAILER",
           "Horror and Ghost Stories"
          ],
          [
           "DOWNTON ABBEY | Official Trailer | In Theaters September 20",
           "Movies and TV shows based on trailers"
          ],
          [
           "Rocketman (2019) - Official Trailer - Paramount Pictures",
           "Empowering Stories of Resilience"
          ],
          [
           "FIVE FEET APART - Trailer #2 - HD (Haley Lu Richardson, Cole Sprouse)",
           "Heartwarming Movie Releases"
          ],
          [
           "A DOG'S WAY HOME - Official Trailer (HD)",
           "Movie Trailers"
          ],
          [
           "Breakthrough | Official Trailer [HD] | 20th Century FOX",
           "Heartwarming Friendship Stories"
          ],
          [
           "The Art of Racing in the Rain | Official Trailer [HD] | 20th Century FOX",
           "Movie Trailers"
          ],
          [
           "A Dog's Journey - Official Trailer (HD)",
           "Movie Trailers"
          ],
          [
           "AFTER :: OFFICIAL TEASER TRAILER | In Theaters This April",
           "Romantic Dramas"
          ],
          [
           "BLINDED BY THE LIGHT - Official Trailer - Now Playing In Theaters",
           "Inspirational True Stories"
          ],
          [
           "The Best of Enemies | Official Trailer [HD] | Own It Now on Digital HD, Blu-Ray & DVD",
           "Movie Trailers"
          ],
          [
           "MOTHERLESS BROOKLYN - Official Trailer",
           "Uncovering Painful Truths"
          ],
          [
           "THE CURRENT WAR: Director's Cut | Official Trailer | 101 Studios",
           "Innovators and Their Dreams"
          ],
          [
           "THE MUSTANG | Official Trailer | Focus Features",
           "Movie Trailers"
          ],
          [
           "THE GOLDFINCH - Official Trailer 1",
           "Mystery and Suspense Movies"
          ],
          [
           "THE SUN IS ALSO A STAR - Official Trailer",
           "Movie Trailers"
          ],
          [
           "TOLKIEN | Trailer 2 | FOX Searchlight",
           "Biographies and Historical Dramas"
          ],
          [
           "The Last Black Man in San Francisco | Official Trailer HD | A24",
           "Uncovering Painful Truths"
          ],
          [
           "BRIAN BANKS | Official Trailer",
           "Movie Trailers"
          ],
          [
           "ARCTIC | Official Trailer",
           "Movie Trailers"
          ],
          [
           "THE AFTERMATH | Official Trailer | FOX Searchlight",
           "Romantic Dramas"
          ],
          [
           "El Chicano :: OFFICIAL TRAILER  |  In Theaters May 3rd",
           "True Crime Dramas"
          ],
          [
           "The Souvenir | Official Trailer HD | A24",
           "Love and Loss Emotional Journeys"
          ],
          [
           "Climax | Official Trailer HD | A24",
           "Movie Trailers"
          ],
          [
           "The Nightingale - Official Trailer I HD I IFC Films",
           "Movies and their stars"
          ],
          [
           "The Hummingbird Project Trailer #1 (2019) | Movieclips Trailers",
           "Mystery and Suspense Movies"
          ],
          [
           "LUCY IN THE SKY | Official Trailer | FOX Searchlight",
           "Movie Trailers"
          ],
          [
           "Her Smell | OFFICIAL TRAILER HD",
           "Emotional Journeys"
          ],
          [
           "\"Canal Street\" Official Trailer - In Theaters 1.18.19",
           "Movie Trailers"
          ],
          [
           "The Warrior Queen of Jhansi | Official Trailer | In Theaters November 15",
           "Movie Trailers"
          ],
          [
           "Peterloo - Official Trailer | Amazon Studios",
           "Movie Trailers"
          ],
          [
           "Mary Magdalene Ft. Rooney Mara & Joaquin Phoenix - Official Trailer I HD I IFC Films",
           "Emotional Journeys"
          ],
          [
           "Charlie Says - Official Trailer I HD I IFC Films",
           "Movie Trailers"
          ],
          [
           "Ophelia Ft. Daisy Ridley, Naomi Watts & Clive Owen - Official Trailer I HD I IFC Films",
           "Movie Previews"
          ],
          [
           "White Snake [Official English Trailer]",
           "Movie Trailers"
          ],
          [
           "THE OUTFIT - Official Trailer - Only in Theaters March 18",
           "True stories of historical figures"
          ],
          [
           "ARMAGEDDON TIME - Official Trailer - In Select Theaters October 28",
           "Religious Journeys and Self-Discovery"
          ],
          [
           "SHE SAID | Official Trailer",
           "Emotional Journeys"
          ],
          [
           "INFINITE STORM | Official Trailer | Bleecker Street",
           "Movie Trailers"
          ],
          [
           "THE GODFATHER | 50th Anniversary Trailer | Paramount Pictures",
           "Mafia and Organized Crime"
          ],
          [
           "SPOILER ALERT - Official Trailer [HD] - Only In Theaters December 2",
           "Movies and Literature"
          ],
          [
           "After Ever Happy | Official Trailer | Voltage Pictures",
           "Movie Trailers"
          ],
          [
           "Redeeming Love Trailer #1 (2022) | Movieclips Trailers",
           "Movie Trailers"
          ],
          [
           "Call Jane | Official Trailer | In Theaters October 28",
           "Religious Journeys and Self-Discovery"
          ],
          [
           "God's Country - Official Trailer ft. Thandiwe Newton | HD | IFC Films",
           "Movies and their themes"
          ],
          [
           "The Inspection | Official Trailer HD | A24",
           "Uncovering Painful Truths"
          ],
          [
           "Glass Onion: A Knives Out Mystery | Official Trailer | Netflix",
           "Mystery and Suspense Movies"
          ],
          [
           "FATHER STU - Official Trailer (HD)",
           "Inspirational True Stories"
          ],
          [
           "THE SILENT TWINS - Official Trailer [HD] - Only in Theaters September 16",
           "Movie Trailers"
          ],
          [
           "Firebird | Official Trailer HD | 2022",
           "Mystery and Suspense Movies"
          ],
          [
           "DOWNTON ABBEY: A NEW ERA - Official Trailer [HD] - Only in Theaters May 20",
           "Movies and TV shows based on trailers"
          ],
          [
           "Official Trailer | Death on the Nile | 20th Century Studios",
           "Movies and Truth"
          ],
          [
           "On The Count of Three | Official Trailer | Hulu",
           "Movie Trailers"
          ],
          [
           "WHERE THE CRAWDADS SING - Official Trailer (HD)",
           "Movie Trailers"
          ],
          [
           "MEMORIA - Official Trailer",
           "Movie Trailers"
          ],
          [
           "After Yang | Official Trailer HD | A24",
           "Romantic Dramas"
          ],
          [
           "Baz Luhrmann’s ELVIS | Official Trailer",
           "Empowering Stories of Resilience"
          ],
          [
           "TED K - Official Trailer - In Theaters and on Digital February 18",
           "Mystery and Suspense Movies"
          ],
          [
           "The Eternal Daughter | Official Trailer HD | A24",
           "Movie Trailers"
          ],
          [
           "HOUSE OF GUCCI | Official Trailer | MGM Studios",
           "Mafia and Organized Crime"
          ],
          [
           "KING RICHARD – Official Trailer",
           "Empowering Stories of Resilience"
          ],
          [
           "The Runner Official Trailer #1 (2015) - Nicolas Cage Movie HD",
           "Movie Trailers"
          ],
          [
           "STILLWATER - Official Trailer [HD] - In Theaters July 30",
           "Movies and their themes"
          ],
          [
           "American Underdog (2021 Movie) Official Trailer - Zachary Levi, Anna Paquin, and Dennis Quaid",
           "Heartwarming Friendship Stories"
          ],
          [
           "The Last Duel | Official Trailer | 20th Century Studios",
           "Movies and Truth"
          ],
          [
           "CRY MACHO – Official Trailer",
           "Movie Trailers"
          ],
          [
           "THE MANY SAINTS OF NEWARK – Official Trailer",
           "Mafia and Organized Crime"
          ],
          [
           "SPENCER - Official Trailer - In Theaters November 5",
           "Movie Trailers"
          ],
          [
           "BELFAST - Official Trailer - Only In Theaters November 12",
           "Movie Trailers"
          ],
          [
           "LICORICE PIZZA | Official Trailer | MGM Studios",
           "Movie Trailers"
          ],
          [
           "JUDAS AND THE BLACK MESSIAH - Official Trailer",
           "Religious Journeys and Self-Discovery"
          ],
          [
           "BOOGIE - Official Trailer - In Theaters March 5",
           "Legendary Athletes in Film"
          ],
          [
           "A JOURNAL FOR JORDAN - Final Trailer (HD) | Now in Theaters and On Demand",
           "Heartwarming Friendship Stories"
          ],
          [
           "PIG - Official Trailer - In Theatres July 16",
           "Movie Trailers"
          ],
          [
           "THE GIRL WHO BELIEVED IN MIRACLES Trailer (2021) Mira Sorvino Family Movie",
           "Religious Journeys and Self-Discovery"
          ],
          [
           "Finding You Official Trailer | Now Playing",
           "Heartwarming Movie Releases"
          ],
          [
           "LAND - Official Trailer [HD] - In Theaters February 12",
           "Movie Trailers"
          ],
          [
           "THE EYES OF TAMMY FAYE | Official Trailer | Searchlight Pictures",
           "Religious Journeys and Self-Discovery"
          ],
          [
           "NOMADLAND | Official Trailer | Searchlight Pictures",
           "Movie Trailers"
          ],
          [
           "After We Fell | Official Trailer | Prime Video",
           "Romantic Dramas"
          ],
          [
           "C'mon C'mon | Official Trailer HD | A24",
           "Movie Trailers"
          ],
          [
           "Joe Bell  | Official Trailer  |  In Theaters July 23",
           "Movie Synopses"
          ],
          [
           "God's Not Dead:  We The People  (Official Trailer)",
           "Inspirational True Stories"
          ],
          [
           "Four Good Days | Official Trailer (HD) | Vertical Entertainment",
           "Movie Trailers"
          ],
          [
           "The Mauritanian | Official Trailer [HD] | Rent or Own on Digital HD, Blu-ray & DVD Today",
           "True stories of historical figures"
          ],
          [
           "BLUE BAYOU - Official Trailer - Only in Theaters September 17",
           "Adoption and Family Dynamics"
          ],
          [
           "Red Rocket | Official Trailer HD | A24",
           "Movie Trailers"
          ],
          [
           "City Of Lies Official Teaser Trailer (2021)",
           "Movies and Truth"
          ],
          [
           "Courageous (2011) HD Movie Trailer - Christian Drama",
           "Inspirational True Stories"
          ],
          [
           "FLAG DAY | Official Trailer | MGM Studios",
           "Inspirational True Stories"
          ],
          [
           "THE WATER MAN Official Trailer",
           "Emotional Journeys Through Life and History"
          ],
          [
           "American Skin | Official Trailer (HD) | Vertical Entertainment",
           "True Crime Dramas"
          ],
          [
           "A MOUTHFUL OF AIR - Official Trailer (HD) | Now on Digital and On Demand",
           "Movie Trailers"
          ],
          [
           "SUPERNOVA | Official Trailer | Bleecker Street",
           "Movie Trailers"
          ],
          [
           "LIMBO - Official Trailer [HD] - In Theaters April 30",
           "Emotional Journeys"
          ],
          [
           "WOLF - Official Trailer [HD] - Only in Theaters December 3",
           "Coming-of-age films"
          ],
          [
           "THE WORLD TO COME | Official Trailer I Bleecker Street",
           "Movie Trailers"
          ],
          [
           "CARMEN | Official Trailer (2023)",
           "Movies and their themes"
          ],
          [
           "THE STARLING GIRL | Official Trailer | Bleecker Street",
           "Religious Journeys and Self-Discovery"
          ],
          [
           "Monday: Official Trailer | Starring Sebastian Stan & Denise Gough | IFC Films",
           "Movie Trailers"
          ],
          [
           "LANDSCAPE WITH INVISIBLE HAND | Official Trailer",
           "Movie Previews"
          ],
          [
           "GULLY | Official Trailer | Paramount Movies",
           "Movie Trailers"
          ],
          [
           "EMPIRE OF LIGHT | Official Trailer | Searchlight Pictures",
           "Movie Trailers"
          ],
          [
           "Aristotle and Dante Discover the Secrets of the Universe | Official Trailer (2023)",
           "Coming-of-age films"
          ],
          [
           "THE SON | Official Trailer (2022)",
           "Movies and their themes"
          ],
          [
           "Mayday - Official Trailer",
           "True Crime Dramas"
          ],
          [
           "Naked Singularity – Official Trailer",
           "Movies and Truth"
          ],
          [
           "PASSAGES | Official Trailer | In Theaters Now",
           "Movie Trailers"
          ],
          [
           "Aftersun | Official Trailer HD | A24",
           "Love and Loss Emotional Journeys"
          ],
          [
           "How To Blow Up A Pipeline - Official Trailer - In Theaters April 7",
           "Movie Trailers"
          ],
          [
           "Showing Up | Official Trailer HD | A24",
           "Movie Trailers"
          ],
          [
           "LITTLE WOMEN - Official Trailer (HD)",
           "Movie Previews"
          ],
          [
           "JUST MERCY Official Trailer",
           "True Crime Dramas"
          ],
          [
           "HIDDEN BLADE (2023) Official International Trailer | Watch Online July 18, 2023",
           "Mystery and Suspense Movies"
          ],
          [
           "Knives Out (2019 Movie) Official Trailer — Daniel Craig, Chris Evans, Jamie Lee Curtis",
           "Movie Trailers"
          ],
          [
           "The Photograph - Official Trailer 2 - In Theaters Valentine's Day",
           "Heartwarming Movie Releases"
          ],
          [
           "THE WAY BACK - Official Trailer",
           "Legendary Athletes in Film"
          ],
          [
           "I Still Believe (2020 Movie) Official Trailer | KJ Apa, Britt Robertson",
           "Inspirational True Stories"
          ],
          [
           "EMMA. - Official Trailer [HD] - Now On Demand and In Theaters",
           "Movies and TV shows based on trailers"
          ],
          [
           "DOWNHILL | Official Trailer [HD] | FOX Searchlight",
           "Romantic Comedies"
          ],
          [
           "FORD v FERRARI | Official Trailer [HD] | 20th Century FOX",
           "Legendary Athletes in Film"
          ],
          [
           "Bombshell (2019 Movie) New Trailer — Charlize Theron, Nicole Kidman, Margot Robbie",
           "Movie Trailers"
          ],
          [
           "Queen & Slim - Official Trailer",
           "Empowering Stories of Resilience"
          ],
          [
           "The Last Full Measure Official Trailer | Roadside Attractions",
           "Uncovering Painful Truths"
          ],
          [
           "A BEAUTIFUL DAY IN THE NEIGHBORHOOD - Official Trailer (HD)",
           "Movie Trailers"
          ],
          [
           "Words on Bathroom Walls | Official Trailer  | In Theaters August 21",
           "Movie Trailers"
          ],
          [
           "After We Collided | Official Trailer | Prime Video",
           "Romantic Dramas"
          ],
          [
           "THE PERSONAL HISTORY OF DAVID COPPERFIELD | Official Trailer | Searchlight Pictures",
           "Movies and TV shows based on trailers"
          ],
          [
           "THE BANSHEES OF INISHERIN | Official Trailer | Searchlight Pictures",
           "Movie Trailers"
          ],
          [
           "OFFICIAL TRAILER | 2 Hearts | Only in Theaters OCT 16",
           "Romantic Dramas"
          ],
          [
           "All My Life - Official Trailer [HD]",
           "Movie Trailers"
          ],
          [
           "JULES | Official Trailer | Bleecker Street",
           "Movie Trailers"
          ],
          [
           "CUT THROAT CITY Official Trailer | American Crime Drama | Directed by RZA | Starring Shameik Moore",
           "Uncovering Painful Truths"
          ],
          [
           "THE LAST VERMEER - Official Trailer (HD) - In Theaters November 20",
           "Movies and Truth"
          ],
          [
           "A GOOD PERSON | Official Trailer",
           "Movies and Literature"
          ],
          [
           "HARRIET | Official Trailer | Now Playing",
           "Empowering Stories of Resilience"
          ],
          [
           "KAJILLIONAIRE - Official Trailer [HD] - In Theaters September 25",
           "Heartwarming Friendship Stories"
          ],
          [
           "DARK WATERS | Official Trailer | In Theaters November 22",
           "True stories of historical figures"
          ],
          [
           "A HIDDEN LIFE | Official Trailer [HD] | FOX Searchlight",
           "Movie Trailers"
          ],
          [
           "A THOUSAND AND ONE - Official Trailer [HD] - Only In Theaters March 31",
           "Empowering Stories of Resilience"
          ],
          [
           "JUDY | Official Trailer | Roadside Attractions",
           "Empowering Stories of Resilience"
          ],
          [
           "CHEVALIER | Official Trailer | Searchlight Pictures",
           "Biographies and Historical Dramas"
          ],
          [
           "Clemency [Official Trailer] – In Theaters December 27, 2019",
           "Movie Trailers"
          ],
          [
           "WILD MOUNTAIN THYME I Official Trailer I Bleecker Street",
           "Movies and TV shows based on trailers"
          ],
          [
           "Ammonite - Official Trailer",
           "Movie Previews"
          ],
          [
           "GOLDA | Official Trailer | Bleecker Street",
           "Movie Trailers"
          ],
          [
           "A Call to Spy - Official Trailer | HD | IFC Films",
           "True stories of historical figures"
          ],
          [
           "WENDY | Official Trailer [HD] | FOX Searchlight",
           "Movie Trailers"
          ],
          [
           "BURDEN | Official Trailer 2 - Now Playing in Select Theaters | 101 Studios",
           "Adoption and Family Dynamics"
          ],
          [
           "The Fabelmans | Official Trailer [HD]",
           "Heartwarming Movie Releases"
          ],
          [
           "BIG GEORGE FOREMAN – Official Trailer (HD)",
           "Legendary Athletes in Film"
          ],
          [
           "BABYLON | Official Trailer (2022 Movie) – Brad Pitt, Margot Robbie, Diego Calva, Tobey Maguire",
           "Movies and their themes"
          ],
          [
           "Made in Italy - Official Trailer I HD I IFC Films",
           "Heartwarming Movie Releases"
          ],
          [
           "First Cow | Official Trailer HD | A24",
           "Movie Trailers"
          ],
          [
           "Tesla - Official Trailer I HD I IFC Films",
           "Innovators and Their Dreams"
          ],
          [
           "ON THE BASIS OF SEX | Official Trailer | Focus Features",
           "Religious Journeys and Self-Discovery"
          ],
          [
           "THE GODFATHER CODA: THE DEATH OF MICHAEL CORLEONE | Official Trailer [HD] | Paramount Movies",
           "Mafia and Organized Crime"
          ],
          [
           "I WANNA DANCE WITH SOMEBODY - Official Trailer (HD)",
           "Movies and their themes"
          ],
          [
           "Past Lives | Official Trailer HD | A24",
           "True Crime Dramas"
          ],
          [
           "The Whale | Official Trailer HD | A24",
           "Love and Loss Emotional Journeys"
          ],
          [
           "His Only Son | Official Trailer | Angel Studios",
           "Religious Journeys and Self-Discovery"
          ],
          [
           "Honey Boy - Official Trailer | Amazon Studios",
           "Movie Synopses"
          ],
          [
           "Titanic 25th Anniversary | Official Trailer | In Theatres February 10th",
           "Movie Previews"
          ],
          [
           "NEVER RARELY SOMETIMES ALWAYS - Official Trailer [HD] - At Home On Demand April 3",
           "Religious Journeys and Self-Discovery"
          ],
          [
           "Jesus Revolution (2023 Movie) Official Trailer - Kelsey Grammer, Joel Courtney",
           "Religious Journeys and Self-Discovery"
          ],
          [
           "AIR - Official Trailer | Amazon Studios",
           "Legendary Athletes in Film"
          ],
          [
           "RESISTANCE - Official Trailer I HD I IFC Films",
           "Movie Trailers"
          ],
          [
           "Herself Official Trailer (2021) | Prime Video",
           "Heartwarming Movie Releases"
          ],
          [
           "Last Call - Official Trailer | HD | IFC Films",
           "Heartwarming Movie Releases"
          ],
          [
           "CREED III | Official Trailer",
           "Movie Trailers"
          ],
          [
           "The Painted Bird - Official Trailer I HD I IFC Films",
           "Mystery and Suspense Movies"
          ],
          [
           "Little Joe - Official Trailer",
           "Emotional Journeys"
          ],
          [
           "Oppenheimer | New Trailer",
           "Emotional Journeys Through Life and History"
          ],
          [
           "Hustlers | Official Trailer [HD] | Own it Now on Digital HD, Blu-Ray & DVD",
           "Movie Trailers"
          ]
         ],
         "hovertemplate": "ReducedEmbeddings_x=%{x}<br>ReducedEmbeddings_y=%{y}<br>title=%{customdata[0]}<br>CustomName=%{customdata[1]}<br>pos_neg_mod=%{marker.color}<extra></extra>",
         "legendgroup": "",
         "marker": {
          "color": [
           0,
           1.3105646917096478,
           2,
           1.4707474942148402,
           1.358032897344099,
           2.0205586751439273,
           2,
           2,
           1.3989630009275233,
           0,
           1.358032897344099,
           0,
           0,
           0,
           0,
           0,
           2.0205586751439273,
           0,
           0,
           0,
           0,
           0,
           0,
           0,
           0,
           1.7010867513664398,
           1.358032897344099,
           3.0959032742893844,
           1.636776423579942,
           1.3105646917096478,
           0,
           0,
           0,
           0,
           0,
           0,
           0,
           0,
           0,
           0,
           0,
           1.358032897344099,
           0,
           0,
           0,
           0,
           0,
           1.358032897344099,
           0,
           0,
           0,
           1.358032897344099,
           0,
           1.3105646917096478,
           0,
           1.203584801509194,
           0,
           1.3663093706429568,
           2.0205586751439273,
           0,
           0,
           2.0205586751439273,
           0,
           0,
           0,
           0,
           0,
           0,
           0,
           0,
           0,
           0,
           1.636776423579942,
           1.2784635765458068,
           0,
           0,
           0,
           0,
           0,
           0,
           1.7010867513664398,
           0,
           0,
           0,
           0,
           1.3663093706429568,
           0,
           0,
           0,
           0,
           0,
           0,
           1.3105646917096478,
           0,
           0,
           0,
           1.3663093706429568,
           0,
           1.0935241061986825,
           0,
           0,
           0,
           1.0935241061986825,
           0,
           2.54373142062517,
           0,
           2,
           0,
           1.0935241061986825,
           0,
           3.0959032742893844,
           1.3989630009275233,
           0,
           0,
           0,
           1.358032897344099,
           0,
           1.3663093706429568,
           1.7010867513664398,
           0,
           1.3663093706429568,
           1.636776423579942,
           0,
           0,
           0,
           0,
           0,
           1.2784635765458068,
           1.3663093706429568,
           0,
           3.0959032742893844,
           1.2784635765458068,
           0,
           1.358032897344099,
           0,
           0,
           0,
           3.0959032742893844,
           0,
           0,
           0,
           0,
           0,
           0,
           0,
           0,
           0,
           0,
           0,
           0,
           0,
           0,
           1.203584801509194,
           1.7010867513664398,
           0,
           2,
           2.9299470414358537,
           0,
           0,
           1.7010867513664398,
           1.7010867513664398,
           1.4707474942148402,
           1.3105646917096478,
           0,
           0,
           1.0935241061986825,
           2.0205586751439273,
           0,
           1.358032897344099,
           0,
           0,
           2.54373142062517,
           0,
           0,
           2.0205586751439273,
           1.358032897344099,
           1.3105646917096478,
           0,
           0,
           0,
           0,
           0,
           2.54373142062517,
           1.3105646917096478,
           1.3663093706429568,
           0,
           0,
           0,
           1.7010867513664398,
           1.636776423579942,
           3.6139154408744694,
           0,
           0,
           1.2784635765458068,
           0,
           0,
           0,
           0,
           1.636776423579942,
           0,
           0,
           0,
           0,
           0,
           0,
           1.3989630009275233,
           1.2784635765458068,
           0,
           2,
           0,
           1.2784635765458068,
           1.2784635765458068,
           0,
           0,
           1.636776423579942,
           2.54373142062517,
           0,
           2,
           0,
           2.9299470414358537,
           0,
           0,
           1.358032897344099,
           0,
           0,
           0,
           0,
           3.0959032742893844,
           1.358032897344099,
           1.3105646917096478,
           0,
           0,
           1.203584801509194,
           2.54373142062517,
           0,
           0,
           0,
           0,
           0,
           0,
           0,
           1.3663093706429568,
           1.0935241061986825,
           1.4707474942148402,
           0
          ],
          "coloraxis": "coloraxis",
          "symbol": "circle"
         },
         "mode": "markers",
         "name": "",
         "orientation": "v",
         "showlegend": false,
         "type": "scatter",
         "x": [
          7.812714,
          5.310845,
          1.9047374,
          2.7874,
          2.245054,
          3.8021061,
          1.7179339,
          1.8404154,
          2.099974,
          2.8530006,
          2.3266394,
          4.8429346,
          5.151782,
          4.8752437,
          3.7662737,
          7.852756,
          3.8707063,
          1.3859712,
          6.7114196,
          5.8719897,
          7.4640737,
          7.5138955,
          7.4629946,
          6.553754,
          7.446153,
          3.0478787,
          2.1573465,
          5.1228333,
          4.7929378,
          5.040092,
          7.6703296,
          4.8769445,
          7.290787,
          4.78656,
          7.5866895,
          1.7205044,
          5.7465606,
          6.315572,
          5.3591676,
          4.864619,
          6.2340527,
          2.539107,
          7.714767,
          7.1094036,
          1.972521,
          7.2412066,
          5.1583357,
          2.8016584,
          7.1546245,
          5.3165603,
          4.0212955,
          2.2426214,
          5.079773,
          4.712967,
          5.7138357,
          4.0708985,
          8.364626,
          6.1629567,
          3.6074388,
          5.1864314,
          2.022968,
          2.629797,
          2.6795392,
          7.735233,
          4.9363656,
          6.44432,
          7.006822,
          1.6688064,
          3.3371522,
          6.162732,
          7.638051,
          4.290935,
          4.747144,
          7.485852,
          1.3614501,
          2.9190826,
          1.3920332,
          8.283298,
          2.928291,
          6.302088,
          3.0039833,
          1.6440136,
          5.0399513,
          3.584439,
          9.203874,
          6.0356383,
          7.4740605,
          3.2311833,
          5.2939997,
          7.1876764,
          7.9396005,
          6.248126,
          4.488983,
          5.37741,
          2.0618799,
          2.6432862,
          6.126802,
          8.409927,
          3.9390178,
          5.9536185,
          7.221577,
          7.796598,
          3.8702192,
          2.7357275,
          3.2421725,
          8.814628,
          1.727668,
          6.6360617,
          3.935678,
          6.0792494,
          5.160316,
          2.0783107,
          7.7882237,
          4.9150567,
          7.0678296,
          2.5486927,
          5.062005,
          4.8060594,
          3.2374115,
          2.392819,
          6.1551995,
          4.610436,
          4.752925,
          7.9796185,
          1.8396188,
          7.2943053,
          6.290908,
          7.534161,
          5.063318,
          8.200805,
          5.159815,
          7.726091,
          1.6353325,
          2.3260472,
          1.2592634,
          4.8382273,
          5.5997868,
          5.1294613,
          6.486393,
          7.1623597,
          4.377564,
          6.0726895,
          6.9597497,
          1.2103318,
          8.155666,
          6.666035,
          1.7896405,
          6.098165,
          6.010339,
          6.0856485,
          6.2215447,
          8.205838,
          4.1772003,
          3.085965,
          6.0194182,
          1.696507,
          3.8186872,
          6.369173,
          5.204226,
          2.9757538,
          3.310445,
          2.827158,
          4.6245775,
          3.7624793,
          5.847712,
          4.040492,
          2.7260642,
          6.2419796,
          1.9970073,
          6.648339,
          7.607688,
          3.6664958,
          7.986914,
          5.304032,
          3.9636152,
          2.6195102,
          5.525712,
          4.9413795,
          5.4954796,
          6.0834975,
          7.556476,
          7.109932,
          3.7751842,
          5.076569,
          4.8198485,
          6.147135,
          1.8439226,
          7.086249,
          3.1384568,
          4.796473,
          4.569087,
          7.147265,
          3.1421034,
          7.759869,
          4.986469,
          8.35756,
          2.8148355,
          6.217201,
          4.7869453,
          4.8278565,
          6.060331,
          7.484754,
          7.2720213,
          5.531266,
          4.867388,
          2.2562332,
          7.3109026,
          0.93356246,
          1.6672221,
          8.240437,
          7.7894545,
          7.592803,
          3.298938,
          6.7654896,
          5.1616216,
          3.3915138,
          1.7488344,
          1.7180102,
          7.655707,
          3.7776394,
          1.5847104,
          7.265362,
          1.9140855,
          1.796428,
          3.8192766,
          3.5067334,
          7.2799864,
          5.0838947,
          2.1681566,
          5.7570887,
          5.4384885,
          6.6114583,
          4.1093554,
          3.3923142,
          6.6434116,
          6.384302,
          7.09829,
          6.586015,
          1.2462951,
          1.7996386,
          6.514732,
          6.1079087,
          4.078673,
          3.1140964,
          6.612958
         ],
         "xaxis": "x",
         "y": [
          3.0232685,
          2.7768207,
          2.963583,
          3.8018749,
          2.9724758,
          5.8909345,
          2.8415134,
          2.9127908,
          4.7735143,
          2.6496658,
          3.2052586,
          2.2152102,
          4.3338532,
          2.8741677,
          4.4841213,
          4.5656004,
          5.8815393,
          4.486235,
          1.7255142,
          5.0731206,
          3.085413,
          3.7318559,
          3.1423943,
          1.4071488,
          3.8849654,
          2.1464775,
          3.3954382,
          6.2942247,
          5.3624797,
          3.0038931,
          3.62329,
          3.3687246,
          2.8104367,
          2.2027779,
          2.2240105,
          2.4978309,
          5.1281123,
          3.3247051,
          4.1862836,
          2.7234354,
          2.56352,
          3.318707,
          4.1066957,
          3.0502703,
          4.0701284,
          2.4769683,
          3.2376475,
          3.1640654,
          3.5334983,
          6.2631726,
          4.6369877,
          3.0749152,
          3.4948444,
          5.996629,
          5.1616077,
          3.3619175,
          4.112619,
          3.397406,
          5.8397627,
          3.2672799,
          3.1312978,
          5.085132,
          2.795304,
          3.4251242,
          1.4438746,
          2.507829,
          5.456632,
          4.9699926,
          3.3043668,
          5.1783814,
          3.6132193,
          2.2024288,
          4.8874393,
          5.2886977,
          4.665535,
          4.448424,
          3.8279102,
          3.996099,
          4.3331127,
          4.469929,
          1.7926351,
          2.591039,
          3.2009602,
          4.0510483,
          3.6087174,
          3.3521252,
          3.7920632,
          2.5768507,
          3.2736318,
          2.4768455,
          4.30147,
          4.5916376,
          5.9794846,
          4.6780534,
          3.1994853,
          2.8945172,
          3.2452419,
          4.161336,
          2.0342414,
          2.886394,
          4.668003,
          3.4667304,
          1.9637144,
          2.8822653,
          4.608156,
          4.5200086,
          2.8630178,
          1.4399022,
          2.0653107,
          2.8063338,
          6.3259177,
          5.046217,
          3.6152644,
          1.4406271,
          1.4822454,
          3.1461256,
          3.5827956,
          1.8453598,
          2.0176094,
          4.0888124,
          3.297211,
          4.7953577,
          2.2031434,
          3.1620982,
          3.984647,
          3.4026437,
          4.520461,
          5.300327,
          2.0875976,
          3.9323323,
          6.3248954,
          5.536984,
          2.5920794,
          3.1396375,
          3.857031,
          2.2470677,
          2.675872,
          6.3341675,
          3.122485,
          4.685982,
          4.882945,
          1.2776217,
          5.9731894,
          3.7117846,
          3.6348875,
          1.6650308,
          4.744465,
          5.026473,
          1.1931986,
          2.787675,
          4.594144,
          3.6893342,
          3.486436,
          1.98754,
          2.8265388,
          2.8042533,
          3.8899024,
          4.1851463,
          2.4374812,
          1.5325845,
          2.0329695,
          3.597225,
          5.949107,
          4.9052916,
          4.955219,
          2.450068,
          5.287728,
          3.9979403,
          3.2504733,
          1.522813,
          3.6628914,
          4.6237936,
          3.1611915,
          3.94888,
          5.9835887,
          3.459154,
          3.0524993,
          2.324321,
          4.0700665,
          4.910339,
          3.0080454,
          3.4100318,
          4.5226126,
          2.9651616,
          1.8892089,
          2.5682106,
          4.7448177,
          5.846769,
          2.0576975,
          4.847923,
          1.4771327,
          5.811098,
          3.9777768,
          5.4519205,
          3.4394083,
          3.9870632,
          5.517796,
          4.5784397,
          5.0091386,
          3.3658578,
          4.811257,
          3.7969298,
          3.2673333,
          3.0069096,
          2.2721481,
          4.952759,
          4.7013707,
          4.3198805,
          2.6676154,
          3.2431326,
          5.4233546,
          5.125136,
          3.269244,
          2.44096,
          5.032072,
          4.617138,
          2.8668056,
          2.848248,
          4.298283,
          3.301276,
          4.9619975,
          5.69996,
          3.2853549,
          5.014309,
          4.891424,
          4.039935,
          1.7001048,
          6.359226,
          3.8109717,
          3.2116303,
          5.0127726,
          1.2994938,
          3.5073946,
          4.654582,
          1.701909,
          1.2334875,
          5.853099,
          3.4425464,
          4.536458,
          5.0580735,
          2.2100906,
          3.331384,
          2.577462,
          4.091232,
          2.591962
         ],
         "yaxis": "y"
        }
       ],
       "layout": {
        "coloraxis": {
         "colorbar": {
          "title": {
           "text": "pos_neg_mod"
          }
         },
         "colorscale": [
          [
           0,
           "#0d0887"
          ],
          [
           0.1111111111111111,
           "#46039f"
          ],
          [
           0.2222222222222222,
           "#7201a8"
          ],
          [
           0.3333333333333333,
           "#9c179e"
          ],
          [
           0.4444444444444444,
           "#bd3786"
          ],
          [
           0.5555555555555556,
           "#d8576b"
          ],
          [
           0.6666666666666666,
           "#ed7953"
          ],
          [
           0.7777777777777778,
           "#fb9f3a"
          ],
          [
           0.8888888888888888,
           "#fdca26"
          ],
          [
           1,
           "#f0f921"
          ]
         ]
        },
        "height": 750,
        "legend": {
         "tracegroupgap": 0
        },
        "margin": {
         "t": 60
        },
        "template": {
         "data": {
          "bar": [
           {
            "error_x": {
             "color": "#2a3f5f"
            },
            "error_y": {
             "color": "#2a3f5f"
            },
            "marker": {
             "line": {
              "color": "#E5ECF6",
              "width": 0.5
             },
             "pattern": {
              "fillmode": "overlay",
              "size": 10,
              "solidity": 0.2
             }
            },
            "type": "bar"
           }
          ],
          "barpolar": [
           {
            "marker": {
             "line": {
              "color": "#E5ECF6",
              "width": 0.5
             },
             "pattern": {
              "fillmode": "overlay",
              "size": 10,
              "solidity": 0.2
             }
            },
            "type": "barpolar"
           }
          ],
          "carpet": [
           {
            "aaxis": {
             "endlinecolor": "#2a3f5f",
             "gridcolor": "white",
             "linecolor": "white",
             "minorgridcolor": "white",
             "startlinecolor": "#2a3f5f"
            },
            "baxis": {
             "endlinecolor": "#2a3f5f",
             "gridcolor": "white",
             "linecolor": "white",
             "minorgridcolor": "white",
             "startlinecolor": "#2a3f5f"
            },
            "type": "carpet"
           }
          ],
          "choropleth": [
           {
            "colorbar": {
             "outlinewidth": 0,
             "ticks": ""
            },
            "type": "choropleth"
           }
          ],
          "contour": [
           {
            "colorbar": {
             "outlinewidth": 0,
             "ticks": ""
            },
            "colorscale": [
             [
              0,
              "#0d0887"
             ],
             [
              0.1111111111111111,
              "#46039f"
             ],
             [
              0.2222222222222222,
              "#7201a8"
             ],
             [
              0.3333333333333333,
              "#9c179e"
             ],
             [
              0.4444444444444444,
              "#bd3786"
             ],
             [
              0.5555555555555556,
              "#d8576b"
             ],
             [
              0.6666666666666666,
              "#ed7953"
             ],
             [
              0.7777777777777778,
              "#fb9f3a"
             ],
             [
              0.8888888888888888,
              "#fdca26"
             ],
             [
              1,
              "#f0f921"
             ]
            ],
            "type": "contour"
           }
          ],
          "contourcarpet": [
           {
            "colorbar": {
             "outlinewidth": 0,
             "ticks": ""
            },
            "type": "contourcarpet"
           }
          ],
          "heatmap": [
           {
            "colorbar": {
             "outlinewidth": 0,
             "ticks": ""
            },
            "colorscale": [
             [
              0,
              "#0d0887"
             ],
             [
              0.1111111111111111,
              "#46039f"
             ],
             [
              0.2222222222222222,
              "#7201a8"
             ],
             [
              0.3333333333333333,
              "#9c179e"
             ],
             [
              0.4444444444444444,
              "#bd3786"
             ],
             [
              0.5555555555555556,
              "#d8576b"
             ],
             [
              0.6666666666666666,
              "#ed7953"
             ],
             [
              0.7777777777777778,
              "#fb9f3a"
             ],
             [
              0.8888888888888888,
              "#fdca26"
             ],
             [
              1,
              "#f0f921"
             ]
            ],
            "type": "heatmap"
           }
          ],
          "heatmapgl": [
           {
            "colorbar": {
             "outlinewidth": 0,
             "ticks": ""
            },
            "colorscale": [
             [
              0,
              "#0d0887"
             ],
             [
              0.1111111111111111,
              "#46039f"
             ],
             [
              0.2222222222222222,
              "#7201a8"
             ],
             [
              0.3333333333333333,
              "#9c179e"
             ],
             [
              0.4444444444444444,
              "#bd3786"
             ],
             [
              0.5555555555555556,
              "#d8576b"
             ],
             [
              0.6666666666666666,
              "#ed7953"
             ],
             [
              0.7777777777777778,
              "#fb9f3a"
             ],
             [
              0.8888888888888888,
              "#fdca26"
             ],
             [
              1,
              "#f0f921"
             ]
            ],
            "type": "heatmapgl"
           }
          ],
          "histogram": [
           {
            "marker": {
             "pattern": {
              "fillmode": "overlay",
              "size": 10,
              "solidity": 0.2
             }
            },
            "type": "histogram"
           }
          ],
          "histogram2d": [
           {
            "colorbar": {
             "outlinewidth": 0,
             "ticks": ""
            },
            "colorscale": [
             [
              0,
              "#0d0887"
             ],
             [
              0.1111111111111111,
              "#46039f"
             ],
             [
              0.2222222222222222,
              "#7201a8"
             ],
             [
              0.3333333333333333,
              "#9c179e"
             ],
             [
              0.4444444444444444,
              "#bd3786"
             ],
             [
              0.5555555555555556,
              "#d8576b"
             ],
             [
              0.6666666666666666,
              "#ed7953"
             ],
             [
              0.7777777777777778,
              "#fb9f3a"
             ],
             [
              0.8888888888888888,
              "#fdca26"
             ],
             [
              1,
              "#f0f921"
             ]
            ],
            "type": "histogram2d"
           }
          ],
          "histogram2dcontour": [
           {
            "colorbar": {
             "outlinewidth": 0,
             "ticks": ""
            },
            "colorscale": [
             [
              0,
              "#0d0887"
             ],
             [
              0.1111111111111111,
              "#46039f"
             ],
             [
              0.2222222222222222,
              "#7201a8"
             ],
             [
              0.3333333333333333,
              "#9c179e"
             ],
             [
              0.4444444444444444,
              "#bd3786"
             ],
             [
              0.5555555555555556,
              "#d8576b"
             ],
             [
              0.6666666666666666,
              "#ed7953"
             ],
             [
              0.7777777777777778,
              "#fb9f3a"
             ],
             [
              0.8888888888888888,
              "#fdca26"
             ],
             [
              1,
              "#f0f921"
             ]
            ],
            "type": "histogram2dcontour"
           }
          ],
          "mesh3d": [
           {
            "colorbar": {
             "outlinewidth": 0,
             "ticks": ""
            },
            "type": "mesh3d"
           }
          ],
          "parcoords": [
           {
            "line": {
             "colorbar": {
              "outlinewidth": 0,
              "ticks": ""
             }
            },
            "type": "parcoords"
           }
          ],
          "pie": [
           {
            "automargin": true,
            "type": "pie"
           }
          ],
          "scatter": [
           {
            "fillpattern": {
             "fillmode": "overlay",
             "size": 10,
             "solidity": 0.2
            },
            "type": "scatter"
           }
          ],
          "scatter3d": [
           {
            "line": {
             "colorbar": {
              "outlinewidth": 0,
              "ticks": ""
             }
            },
            "marker": {
             "colorbar": {
              "outlinewidth": 0,
              "ticks": ""
             }
            },
            "type": "scatter3d"
           }
          ],
          "scattercarpet": [
           {
            "marker": {
             "colorbar": {
              "outlinewidth": 0,
              "ticks": ""
             }
            },
            "type": "scattercarpet"
           }
          ],
          "scattergeo": [
           {
            "marker": {
             "colorbar": {
              "outlinewidth": 0,
              "ticks": ""
             }
            },
            "type": "scattergeo"
           }
          ],
          "scattergl": [
           {
            "marker": {
             "colorbar": {
              "outlinewidth": 0,
              "ticks": ""
             }
            },
            "type": "scattergl"
           }
          ],
          "scattermapbox": [
           {
            "marker": {
             "colorbar": {
              "outlinewidth": 0,
              "ticks": ""
             }
            },
            "type": "scattermapbox"
           }
          ],
          "scatterpolar": [
           {
            "marker": {
             "colorbar": {
              "outlinewidth": 0,
              "ticks": ""
             }
            },
            "type": "scatterpolar"
           }
          ],
          "scatterpolargl": [
           {
            "marker": {
             "colorbar": {
              "outlinewidth": 0,
              "ticks": ""
             }
            },
            "type": "scatterpolargl"
           }
          ],
          "scatterternary": [
           {
            "marker": {
             "colorbar": {
              "outlinewidth": 0,
              "ticks": ""
             }
            },
            "type": "scatterternary"
           }
          ],
          "surface": [
           {
            "colorbar": {
             "outlinewidth": 0,
             "ticks": ""
            },
            "colorscale": [
             [
              0,
              "#0d0887"
             ],
             [
              0.1111111111111111,
              "#46039f"
             ],
             [
              0.2222222222222222,
              "#7201a8"
             ],
             [
              0.3333333333333333,
              "#9c179e"
             ],
             [
              0.4444444444444444,
              "#bd3786"
             ],
             [
              0.5555555555555556,
              "#d8576b"
             ],
             [
              0.6666666666666666,
              "#ed7953"
             ],
             [
              0.7777777777777778,
              "#fb9f3a"
             ],
             [
              0.8888888888888888,
              "#fdca26"
             ],
             [
              1,
              "#f0f921"
             ]
            ],
            "type": "surface"
           }
          ],
          "table": [
           {
            "cells": {
             "fill": {
              "color": "#EBF0F8"
             },
             "line": {
              "color": "white"
             }
            },
            "header": {
             "fill": {
              "color": "#C8D4E3"
             },
             "line": {
              "color": "white"
             }
            },
            "type": "table"
           }
          ]
         },
         "layout": {
          "annotationdefaults": {
           "arrowcolor": "#2a3f5f",
           "arrowhead": 0,
           "arrowwidth": 1
          },
          "autotypenumbers": "strict",
          "coloraxis": {
           "colorbar": {
            "outlinewidth": 0,
            "ticks": ""
           }
          },
          "colorscale": {
           "diverging": [
            [
             0,
             "#8e0152"
            ],
            [
             0.1,
             "#c51b7d"
            ],
            [
             0.2,
             "#de77ae"
            ],
            [
             0.3,
             "#f1b6da"
            ],
            [
             0.4,
             "#fde0ef"
            ],
            [
             0.5,
             "#f7f7f7"
            ],
            [
             0.6,
             "#e6f5d0"
            ],
            [
             0.7,
             "#b8e186"
            ],
            [
             0.8,
             "#7fbc41"
            ],
            [
             0.9,
             "#4d9221"
            ],
            [
             1,
             "#276419"
            ]
           ],
           "sequential": [
            [
             0,
             "#0d0887"
            ],
            [
             0.1111111111111111,
             "#46039f"
            ],
            [
             0.2222222222222222,
             "#7201a8"
            ],
            [
             0.3333333333333333,
             "#9c179e"
            ],
            [
             0.4444444444444444,
             "#bd3786"
            ],
            [
             0.5555555555555556,
             "#d8576b"
            ],
            [
             0.6666666666666666,
             "#ed7953"
            ],
            [
             0.7777777777777778,
             "#fb9f3a"
            ],
            [
             0.8888888888888888,
             "#fdca26"
            ],
            [
             1,
             "#f0f921"
            ]
           ],
           "sequentialminus": [
            [
             0,
             "#0d0887"
            ],
            [
             0.1111111111111111,
             "#46039f"
            ],
            [
             0.2222222222222222,
             "#7201a8"
            ],
            [
             0.3333333333333333,
             "#9c179e"
            ],
            [
             0.4444444444444444,
             "#bd3786"
            ],
            [
             0.5555555555555556,
             "#d8576b"
            ],
            [
             0.6666666666666666,
             "#ed7953"
            ],
            [
             0.7777777777777778,
             "#fb9f3a"
            ],
            [
             0.8888888888888888,
             "#fdca26"
            ],
            [
             1,
             "#f0f921"
            ]
           ]
          },
          "colorway": [
           "#636efa",
           "#EF553B",
           "#00cc96",
           "#ab63fa",
           "#FFA15A",
           "#19d3f3",
           "#FF6692",
           "#B6E880",
           "#FF97FF",
           "#FECB52"
          ],
          "font": {
           "color": "#2a3f5f"
          },
          "geo": {
           "bgcolor": "white",
           "lakecolor": "white",
           "landcolor": "#E5ECF6",
           "showlakes": true,
           "showland": true,
           "subunitcolor": "white"
          },
          "hoverlabel": {
           "align": "left"
          },
          "hovermode": "closest",
          "mapbox": {
           "style": "light"
          },
          "paper_bgcolor": "white",
          "plot_bgcolor": "#E5ECF6",
          "polar": {
           "angularaxis": {
            "gridcolor": "white",
            "linecolor": "white",
            "ticks": ""
           },
           "bgcolor": "#E5ECF6",
           "radialaxis": {
            "gridcolor": "white",
            "linecolor": "white",
            "ticks": ""
           }
          },
          "scene": {
           "xaxis": {
            "backgroundcolor": "#E5ECF6",
            "gridcolor": "white",
            "gridwidth": 2,
            "linecolor": "white",
            "showbackground": true,
            "ticks": "",
            "zerolinecolor": "white"
           },
           "yaxis": {
            "backgroundcolor": "#E5ECF6",
            "gridcolor": "white",
            "gridwidth": 2,
            "linecolor": "white",
            "showbackground": true,
            "ticks": "",
            "zerolinecolor": "white"
           },
           "zaxis": {
            "backgroundcolor": "#E5ECF6",
            "gridcolor": "white",
            "gridwidth": 2,
            "linecolor": "white",
            "showbackground": true,
            "ticks": "",
            "zerolinecolor": "white"
           }
          },
          "shapedefaults": {
           "line": {
            "color": "#2a3f5f"
           }
          },
          "ternary": {
           "aaxis": {
            "gridcolor": "white",
            "linecolor": "white",
            "ticks": ""
           },
           "baxis": {
            "gridcolor": "white",
            "linecolor": "white",
            "ticks": ""
           },
           "bgcolor": "#E5ECF6",
           "caxis": {
            "gridcolor": "white",
            "linecolor": "white",
            "ticks": ""
           }
          },
          "title": {
           "x": 0.05
          },
          "xaxis": {
           "automargin": true,
           "gridcolor": "white",
           "linecolor": "white",
           "ticks": "",
           "title": {
            "standoff": 15
           },
           "zerolinecolor": "white",
           "zerolinewidth": 2
          },
          "yaxis": {
           "automargin": true,
           "gridcolor": "white",
           "linecolor": "white",
           "ticks": "",
           "title": {
            "standoff": 15
           },
           "zerolinecolor": "white",
           "zerolinewidth": 2
          }
         }
        },
        "width": 1200,
        "xaxis": {
         "anchor": "y",
         "domain": [
          0,
          1
         ],
         "title": {
          "text": "ReducedEmbeddings_x"
         }
        },
        "yaxis": {
         "anchor": "x",
         "domain": [
          0,
          1
         ],
         "title": {
          "text": "ReducedEmbeddings_y"
         }
        }
       }
      }
     },
     "metadata": {},
     "output_type": "display_data"
    }
   ],
   "source": [
    "px.scatter(final2, x='ReducedEmbeddings_x', y='ReducedEmbeddings_y', width=1200, height=750, hover_data=['title', 'CustomName'], color='pos_neg_mod')"
   ]
  },
  {
   "cell_type": "code",
   "execution_count": null,
   "metadata": {},
   "outputs": [
    {
     "data": {
      "text/html": [
       "<div>\n",
       "<style scoped>\n",
       "    .dataframe tbody tr th:only-of-type {\n",
       "        vertical-align: middle;\n",
       "    }\n",
       "\n",
       "    .dataframe tbody tr th {\n",
       "        vertical-align: top;\n",
       "    }\n",
       "\n",
       "    .dataframe thead th {\n",
       "        text-align: right;\n",
       "    }\n",
       "</style>\n",
       "<table border=\"1\" class=\"dataframe\">\n",
       "  <thead>\n",
       "    <tr style=\"text-align: right;\">\n",
       "      <th></th>\n",
       "      <th>VideoId</th>\n",
       "      <th>Topic</th>\n",
       "      <th>Probaibility</th>\n",
       "      <th>ReducedEmbeddings_x</th>\n",
       "      <th>ReducedEmbeddings_y</th>\n",
       "      <th>CustomName</th>\n",
       "      <th>videoId_x</th>\n",
       "      <th>title</th>\n",
       "      <th>videoId_y</th>\n",
       "      <th>positive_sent</th>\n",
       "      <th>negative_sent</th>\n",
       "      <th>neutral_sent</th>\n",
       "      <th>total_comments</th>\n",
       "      <th>pos-neg</th>\n",
       "      <th>ReducedEmbeddings</th>\n",
       "      <th>OpenAIGeneratedDescription</th>\n",
       "    </tr>\n",
       "  </thead>\n",
       "  <tbody>\n",
       "    <tr>\n",
       "      <th>33</th>\n",
       "      <td>Mq4m3yAoW8E</td>\n",
       "      <td>14</td>\n",
       "      <td>1.0</td>\n",
       "      <td>4.78656</td>\n",
       "      <td>2.202778</td>\n",
       "      <td>Movies and Truth</td>\n",
       "      <td>Mq4m3yAoW8E</td>\n",
       "      <td>Murder on the Orient Express | Official Traile...</td>\n",
       "      <td>Mq4m3yAoW8E</td>\n",
       "      <td>1563.0</td>\n",
       "      <td>484.0</td>\n",
       "      <td>1303.0</td>\n",
       "      <td>3772.0</td>\n",
       "      <td>1.189625</td>\n",
       "      <td>[4.78656, 2.2027779]</td>\n",
       "      <td>Experience the breathtaking journey of \"Murder...</td>\n",
       "    </tr>\n",
       "  </tbody>\n",
       "</table>\n",
       "</div>"
      ],
      "text/plain": [
       "        VideoId  Topic  Probaibility  ReducedEmbeddings_x  \\\n",
       "33  Mq4m3yAoW8E     14           1.0              4.78656   \n",
       "\n",
       "    ReducedEmbeddings_y        CustomName    videoId_x  \\\n",
       "33             2.202778  Movies and Truth  Mq4m3yAoW8E   \n",
       "\n",
       "                                                title    videoId_y  \\\n",
       "33  Murder on the Orient Express | Official Traile...  Mq4m3yAoW8E   \n",
       "\n",
       "    positive_sent  negative_sent  neutral_sent  total_comments   pos-neg  \\\n",
       "33         1563.0          484.0        1303.0          3772.0  1.189625   \n",
       "\n",
       "       ReducedEmbeddings                         OpenAIGeneratedDescription  \n",
       "33  [4.78656, 2.2027779]  Experience the breathtaking journey of \"Murder...  "
      ]
     },
     "execution_count": 22,
     "metadata": {},
     "output_type": "execute_result"
    }
   ],
   "source": [
    "final.loc[final['title'] == 'Murder on the Orient Express | Official Trailer [HD] | 20th Century FOX']"
   ]
  },
  {
   "cell_type": "code",
   "execution_count": null,
   "metadata": {},
   "outputs": [
    {
     "data": {
      "text/html": [
       "<div>\n",
       "<style scoped>\n",
       "    .dataframe tbody tr th:only-of-type {\n",
       "        vertical-align: middle;\n",
       "    }\n",
       "\n",
       "    .dataframe tbody tr th {\n",
       "        vertical-align: top;\n",
       "    }\n",
       "\n",
       "    .dataframe thead th {\n",
       "        text-align: right;\n",
       "    }\n",
       "</style>\n",
       "<table border=\"1\" class=\"dataframe\">\n",
       "  <thead>\n",
       "    <tr style=\"text-align: right;\">\n",
       "      <th></th>\n",
       "      <th>videoId</th>\n",
       "      <th>code</th>\n",
       "      <th>error_reason</th>\n",
       "      <th>id</th>\n",
       "      <th>replies</th>\n",
       "      <th>comment</th>\n",
       "      <th>postedAt</th>\n",
       "      <th>publishedAt</th>\n",
       "      <th>cutoffdate</th>\n",
       "      <th>score</th>\n",
       "      <th>negative</th>\n",
       "      <th>neutral</th>\n",
       "      <th>positive</th>\n",
       "      <th>compound</th>\n",
       "      <th>sentiment</th>\n",
       "    </tr>\n",
       "  </thead>\n",
       "  <tbody>\n",
       "    <tr>\n",
       "      <th>304267</th>\n",
       "      <td>Mq4m3yAoW8E</td>\n",
       "      <td>200</td>\n",
       "      <td>NaN</td>\n",
       "      <td>UghNUCVn1vGe_XgCoAEC</td>\n",
       "      <td>0.0</td>\n",
       "      <td>johnny depp penelope cruz   awesome film</td>\n",
       "      <td>2017-06-22 12:57:51+00:00</td>\n",
       "      <td>2017-06-01 13:00:34+00:00</td>\n",
       "      <td>2017-06-22 13:00:34+00:00</td>\n",
       "      <td>{'neg': 0.0, 'neu': 0.549, 'pos': 0.451, 'comp...</td>\n",
       "      <td>0.000</td>\n",
       "      <td>0.549</td>\n",
       "      <td>0.451</td>\n",
       "      <td>0.6249</td>\n",
       "      <td>positive</td>\n",
       "    </tr>\n",
       "    <tr>\n",
       "      <th>304268</th>\n",
       "      <td>Mq4m3yAoW8E</td>\n",
       "      <td>200</td>\n",
       "      <td>NaN</td>\n",
       "      <td>UghfmllpF5mNnngCoAEC</td>\n",
       "      <td>0.0</td>\n",
       "      <td>waiting say   i ve read book movie</td>\n",
       "      <td>2017-06-22 10:41:36+00:00</td>\n",
       "      <td>2017-06-01 13:00:34+00:00</td>\n",
       "      <td>2017-06-22 13:00:34+00:00</td>\n",
       "      <td>{'neg': 0.0, 'neu': 1.0, 'pos': 0.0, 'compound...</td>\n",
       "      <td>0.000</td>\n",
       "      <td>1.000</td>\n",
       "      <td>0.000</td>\n",
       "      <td>0.0000</td>\n",
       "      <td>neutral</td>\n",
       "    </tr>\n",
       "    <tr>\n",
       "      <th>304269</th>\n",
       "      <td>Mq4m3yAoW8E</td>\n",
       "      <td>200</td>\n",
       "      <td>NaN</td>\n",
       "      <td>Ugh1iotOB3QueXgCoAEC</td>\n",
       "      <td>0.0</td>\n",
       "      <td>read book summer   and climax struck surprise ...</td>\n",
       "      <td>2017-06-22 09:04:46+00:00</td>\n",
       "      <td>2017-06-01 13:00:34+00:00</td>\n",
       "      <td>2017-06-22 13:00:34+00:00</td>\n",
       "      <td>{'neg': 0.134, 'neu': 0.47, 'pos': 0.396, 'com...</td>\n",
       "      <td>0.134</td>\n",
       "      <td>0.470</td>\n",
       "      <td>0.396</td>\n",
       "      <td>0.5994</td>\n",
       "      <td>positive</td>\n",
       "    </tr>\n",
       "    <tr>\n",
       "      <th>304270</th>\n",
       "      <td>Mq4m3yAoW8E</td>\n",
       "      <td>200</td>\n",
       "      <td>NaN</td>\n",
       "      <td>UgiwS87OE3-YO3gCoAEC</td>\n",
       "      <td>0.0</td>\n",
       "      <td>colonel arbuthnot</td>\n",
       "      <td>2017-06-22 03:18:17+00:00</td>\n",
       "      <td>2017-06-01 13:00:34+00:00</td>\n",
       "      <td>2017-06-22 13:00:34+00:00</td>\n",
       "      <td>{'neg': 0.0, 'neu': 1.0, 'pos': 0.0, 'compound...</td>\n",
       "      <td>0.000</td>\n",
       "      <td>1.000</td>\n",
       "      <td>0.000</td>\n",
       "      <td>0.0000</td>\n",
       "      <td>neutral</td>\n",
       "    </tr>\n",
       "    <tr>\n",
       "      <th>304271</th>\n",
       "      <td>Mq4m3yAoW8E</td>\n",
       "      <td>200</td>\n",
       "      <td>NaN</td>\n",
       "      <td>Ugj3v4gupZAR_XgCoAEC</td>\n",
       "      <td>0.0</td>\n",
       "      <td>good song go trailer instead  believer  human ...</td>\n",
       "      <td>2017-06-22 02:15:13+00:00</td>\n",
       "      <td>2017-06-01 13:00:34+00:00</td>\n",
       "      <td>2017-06-22 13:00:34+00:00</td>\n",
       "      <td>{'neg': 0.124, 'neu': 0.725, 'pos': 0.15, 'com...</td>\n",
       "      <td>0.124</td>\n",
       "      <td>0.725</td>\n",
       "      <td>0.150</td>\n",
       "      <td>0.1280</td>\n",
       "      <td>positive</td>\n",
       "    </tr>\n",
       "    <tr>\n",
       "      <th>...</th>\n",
       "      <td>...</td>\n",
       "      <td>...</td>\n",
       "      <td>...</td>\n",
       "      <td>...</td>\n",
       "      <td>...</td>\n",
       "      <td>...</td>\n",
       "      <td>...</td>\n",
       "      <td>...</td>\n",
       "      <td>...</td>\n",
       "      <td>...</td>\n",
       "      <td>...</td>\n",
       "      <td>...</td>\n",
       "      <td>...</td>\n",
       "      <td>...</td>\n",
       "      <td>...</td>\n",
       "    </tr>\n",
       "    <tr>\n",
       "      <th>308034</th>\n",
       "      <td>Mq4m3yAoW8E</td>\n",
       "      <td>200</td>\n",
       "      <td>NaN</td>\n",
       "      <td>UggcI6IH82J1EngCoAEC</td>\n",
       "      <td>0.0</td>\n",
       "      <td>sub nd sub</td>\n",
       "      <td>2017-06-01 13:05:39+00:00</td>\n",
       "      <td>2017-06-01 13:00:34+00:00</td>\n",
       "      <td>2017-06-22 13:00:34+00:00</td>\n",
       "      <td>{'neg': 0.0, 'neu': 1.0, 'pos': 0.0, 'compound...</td>\n",
       "      <td>0.000</td>\n",
       "      <td>1.000</td>\n",
       "      <td>0.000</td>\n",
       "      <td>0.0000</td>\n",
       "      <td>neutral</td>\n",
       "    </tr>\n",
       "    <tr>\n",
       "      <th>308035</th>\n",
       "      <td>Mq4m3yAoW8E</td>\n",
       "      <td>200</td>\n",
       "      <td>NaN</td>\n",
       "      <td>UgjFt0C9KxWotHgCoAEC</td>\n",
       "      <td>0.0</td>\n",
       "      <td>cool</td>\n",
       "      <td>2017-06-01 13:05:12+00:00</td>\n",
       "      <td>2017-06-01 13:00:34+00:00</td>\n",
       "      <td>2017-06-22 13:00:34+00:00</td>\n",
       "      <td>{'neg': 0.0, 'neu': 0.0, 'pos': 1.0, 'compound...</td>\n",
       "      <td>0.000</td>\n",
       "      <td>0.000</td>\n",
       "      <td>1.000</td>\n",
       "      <td>0.3182</td>\n",
       "      <td>positive</td>\n",
       "    </tr>\n",
       "    <tr>\n",
       "      <th>308036</th>\n",
       "      <td>Mq4m3yAoW8E</td>\n",
       "      <td>200</td>\n",
       "      <td>NaN</td>\n",
       "      <td>UgjzA_xQKnvyS3gCoAEC</td>\n",
       "      <td>0.0</td>\n",
       "      <td>stylelized perfect</td>\n",
       "      <td>2017-06-01 13:03:21+00:00</td>\n",
       "      <td>2017-06-01 13:00:34+00:00</td>\n",
       "      <td>2017-06-22 13:00:34+00:00</td>\n",
       "      <td>{'neg': 0.0, 'neu': 0.213, 'pos': 0.787, 'comp...</td>\n",
       "      <td>0.000</td>\n",
       "      <td>0.213</td>\n",
       "      <td>0.787</td>\n",
       "      <td>0.5719</td>\n",
       "      <td>positive</td>\n",
       "    </tr>\n",
       "    <tr>\n",
       "      <th>308037</th>\n",
       "      <td>Mq4m3yAoW8E</td>\n",
       "      <td>200</td>\n",
       "      <td>NaN</td>\n",
       "      <td>UgjFC_IxHt3SrngCoAEC</td>\n",
       "      <td>0.0</td>\n",
       "      <td>100 club</td>\n",
       "      <td>2017-06-01 13:03:07+00:00</td>\n",
       "      <td>2017-06-01 13:00:34+00:00</td>\n",
       "      <td>2017-06-22 13:00:34+00:00</td>\n",
       "      <td>{'neg': 0.0, 'neu': 1.0, 'pos': 0.0, 'compound...</td>\n",
       "      <td>0.000</td>\n",
       "      <td>1.000</td>\n",
       "      <td>0.000</td>\n",
       "      <td>0.0000</td>\n",
       "      <td>neutral</td>\n",
       "    </tr>\n",
       "    <tr>\n",
       "      <th>308038</th>\n",
       "      <td>Mq4m3yAoW8E</td>\n",
       "      <td>200</td>\n",
       "      <td>NaN</td>\n",
       "      <td>UghmYH5fL06REngCoAEC</td>\n",
       "      <td>0.0</td>\n",
       "      <td>😊</td>\n",
       "      <td>2017-06-01 13:02:42+00:00</td>\n",
       "      <td>2017-06-01 13:00:34+00:00</td>\n",
       "      <td>2017-06-22 13:00:34+00:00</td>\n",
       "      <td>{'neg': 0.0, 'neu': 0.0, 'pos': 0.0, 'compound...</td>\n",
       "      <td>0.000</td>\n",
       "      <td>0.000</td>\n",
       "      <td>0.000</td>\n",
       "      <td>0.0000</td>\n",
       "      <td>neutral</td>\n",
       "    </tr>\n",
       "  </tbody>\n",
       "</table>\n",
       "<p>3772 rows × 15 columns</p>\n",
       "</div>"
      ],
      "text/plain": [
       "            videoId  code error_reason                    id  replies  \\\n",
       "304267  Mq4m3yAoW8E   200          NaN  UghNUCVn1vGe_XgCoAEC      0.0   \n",
       "304268  Mq4m3yAoW8E   200          NaN  UghfmllpF5mNnngCoAEC      0.0   \n",
       "304269  Mq4m3yAoW8E   200          NaN  Ugh1iotOB3QueXgCoAEC      0.0   \n",
       "304270  Mq4m3yAoW8E   200          NaN  UgiwS87OE3-YO3gCoAEC      0.0   \n",
       "304271  Mq4m3yAoW8E   200          NaN  Ugj3v4gupZAR_XgCoAEC      0.0   \n",
       "...             ...   ...          ...                   ...      ...   \n",
       "308034  Mq4m3yAoW8E   200          NaN  UggcI6IH82J1EngCoAEC      0.0   \n",
       "308035  Mq4m3yAoW8E   200          NaN  UgjFt0C9KxWotHgCoAEC      0.0   \n",
       "308036  Mq4m3yAoW8E   200          NaN  UgjzA_xQKnvyS3gCoAEC      0.0   \n",
       "308037  Mq4m3yAoW8E   200          NaN  UgjFC_IxHt3SrngCoAEC      0.0   \n",
       "308038  Mq4m3yAoW8E   200          NaN  UghmYH5fL06REngCoAEC      0.0   \n",
       "\n",
       "                                                  comment  \\\n",
       "304267           johnny depp penelope cruz   awesome film   \n",
       "304268                 waiting say   i ve read book movie   \n",
       "304269  read book summer   and climax struck surprise ...   \n",
       "304270                                  colonel arbuthnot   \n",
       "304271  good song go trailer instead  believer  human ...   \n",
       "...                                                   ...   \n",
       "308034                                         sub nd sub   \n",
       "308035                                               cool   \n",
       "308036                                 stylelized perfect   \n",
       "308037                                           100 club   \n",
       "308038                                                  😊   \n",
       "\n",
       "                        postedAt               publishedAt  \\\n",
       "304267 2017-06-22 12:57:51+00:00 2017-06-01 13:00:34+00:00   \n",
       "304268 2017-06-22 10:41:36+00:00 2017-06-01 13:00:34+00:00   \n",
       "304269 2017-06-22 09:04:46+00:00 2017-06-01 13:00:34+00:00   \n",
       "304270 2017-06-22 03:18:17+00:00 2017-06-01 13:00:34+00:00   \n",
       "304271 2017-06-22 02:15:13+00:00 2017-06-01 13:00:34+00:00   \n",
       "...                          ...                       ...   \n",
       "308034 2017-06-01 13:05:39+00:00 2017-06-01 13:00:34+00:00   \n",
       "308035 2017-06-01 13:05:12+00:00 2017-06-01 13:00:34+00:00   \n",
       "308036 2017-06-01 13:03:21+00:00 2017-06-01 13:00:34+00:00   \n",
       "308037 2017-06-01 13:03:07+00:00 2017-06-01 13:00:34+00:00   \n",
       "308038 2017-06-01 13:02:42+00:00 2017-06-01 13:00:34+00:00   \n",
       "\n",
       "                      cutoffdate  \\\n",
       "304267 2017-06-22 13:00:34+00:00   \n",
       "304268 2017-06-22 13:00:34+00:00   \n",
       "304269 2017-06-22 13:00:34+00:00   \n",
       "304270 2017-06-22 13:00:34+00:00   \n",
       "304271 2017-06-22 13:00:34+00:00   \n",
       "...                          ...   \n",
       "308034 2017-06-22 13:00:34+00:00   \n",
       "308035 2017-06-22 13:00:34+00:00   \n",
       "308036 2017-06-22 13:00:34+00:00   \n",
       "308037 2017-06-22 13:00:34+00:00   \n",
       "308038 2017-06-22 13:00:34+00:00   \n",
       "\n",
       "                                                    score  negative  neutral  \\\n",
       "304267  {'neg': 0.0, 'neu': 0.549, 'pos': 0.451, 'comp...     0.000    0.549   \n",
       "304268  {'neg': 0.0, 'neu': 1.0, 'pos': 0.0, 'compound...     0.000    1.000   \n",
       "304269  {'neg': 0.134, 'neu': 0.47, 'pos': 0.396, 'com...     0.134    0.470   \n",
       "304270  {'neg': 0.0, 'neu': 1.0, 'pos': 0.0, 'compound...     0.000    1.000   \n",
       "304271  {'neg': 0.124, 'neu': 0.725, 'pos': 0.15, 'com...     0.124    0.725   \n",
       "...                                                   ...       ...      ...   \n",
       "308034  {'neg': 0.0, 'neu': 1.0, 'pos': 0.0, 'compound...     0.000    1.000   \n",
       "308035  {'neg': 0.0, 'neu': 0.0, 'pos': 1.0, 'compound...     0.000    0.000   \n",
       "308036  {'neg': 0.0, 'neu': 0.213, 'pos': 0.787, 'comp...     0.000    0.213   \n",
       "308037  {'neg': 0.0, 'neu': 1.0, 'pos': 0.0, 'compound...     0.000    1.000   \n",
       "308038  {'neg': 0.0, 'neu': 0.0, 'pos': 0.0, 'compound...     0.000    0.000   \n",
       "\n",
       "        positive  compound sentiment  \n",
       "304267     0.451    0.6249  positive  \n",
       "304268     0.000    0.0000   neutral  \n",
       "304269     0.396    0.5994  positive  \n",
       "304270     0.000    0.0000   neutral  \n",
       "304271     0.150    0.1280  positive  \n",
       "...          ...       ...       ...  \n",
       "308034     0.000    0.0000   neutral  \n",
       "308035     1.000    0.3182  positive  \n",
       "308036     0.787    0.5719  positive  \n",
       "308037     0.000    0.0000   neutral  \n",
       "308038     0.000    0.0000   neutral  \n",
       "\n",
       "[3772 rows x 15 columns]"
      ]
     },
     "execution_count": 23,
     "metadata": {},
     "output_type": "execute_result"
    }
   ],
   "source": [
    "comments.loc[comments['videoId'] == 'Mq4m3yAoW8E']"
   ]
  },
  {
   "cell_type": "code",
   "execution_count": null,
   "metadata": {},
   "outputs": [],
   "source": []
  }
 ],
 "metadata": {
  "kernelspec": {
   "display_name": "Python 3",
   "language": "python",
   "name": "python3"
  },
  "language_info": {
   "codemirror_mode": {
    "name": "ipython",
    "version": 3
   },
   "file_extension": ".py",
   "mimetype": "text/x-python",
   "name": "python",
   "nbconvert_exporter": "python",
   "pygments_lexer": "ipython3",
   "version": "3.10.11"
  },
  "orig_nbformat": 4
 },
 "nbformat": 4,
 "nbformat_minor": 2
}
